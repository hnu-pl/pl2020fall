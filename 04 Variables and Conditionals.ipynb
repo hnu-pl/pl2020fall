{
 "cells": [
  {
   "cell_type": "code",
   "execution_count": 1,
   "metadata": {},
   "outputs": [],
   "source": [
    ":opt no-lint"
   ]
  },
  {
   "cell_type": "markdown",
   "metadata": {},
   "source": [
    "# Variables and Conditoinals\n",
    "(변수와 조건식)\n",
    "\n",
    "덧셈만 하던 언어에 이름(변수)과 조건식을 추가해 보자.\n",
    "\n",
    "* 문법 syntax\n",
    "\n",
    "  $\\begin{array}{lll}\n",
    "    n \\in \\textsf{Int} & \\\\\n",
    "    x \\in \\textsf{String} & \\\\\n",
    "    e \\in \\textsf{Expr} &::=& n \\\\ \n",
    "                  &\\quad\\mid& e_1 \\;✚\\; e_2 \\\\\n",
    "                  &\\quad\\mid& \\texttt{if}~ e ~\\texttt{then}~ e_1 ~\\texttt{else}~ e_0 \\\\\n",
    "                  &\\quad\\mid& x\n",
    "    \\end{array}$\n",
    "\n",
    "* 실행 환경 execution environment (유한한 개수의 이름을 값으로 대응시키는 함수) \n",
    "\n",
    "  $\\textsf{Env} ~=~ \\textsf{String} \\stackrel{\\textrm{fin}}{\\longrightarrow} \\textsf{Int}$\n",
    "\n",
    "  $\\sigma \\in \\textsf{Env} ~::=~ \\{ x_1\\mapsto n_1, \\cdots, x_k\\mapsto n_k\\}$\n",
    "  \n",
    "  $\\mathop{\\mathrm{dom}}(\\sigma) = \\{x_1,\\cdots,x_k\\}$\n",
    "  \n",
    "  $\\sigma(x_i) = n_i \\qquad(\\,x_i\\in\\mathop{\\mathrm{dom}}(\\sigma)\\,)$\n",
    "\n",
    "* 계산 규칙 evaluation rules ($\\sigma,e \\Downarrow n$)\n",
    "\n",
    "  $\\displaystyle\n",
    "  \\frac{~~}{\\sigma,n \\Downarrow n}\n",
    "  \\qquad\n",
    "  \\frac{\\sigma,e_1 \\Downarrow n_1 \\quad \\sigma,e_2 \\Downarrow n_2}{\n",
    "        \\sigma,e_1 \\,✚\\, e_2 \\Downarrow n_1+n_2}$\n",
    "        \n",
    "  $\\displaystyle\n",
    "  \\frac{\\sigma,e \\Downarrow 0 \\quad \\sigma,e_0 \\Downarrow n_0}{\n",
    "        \\sigma,\\texttt{if}~ e ~\\texttt{then}~ e_1 ~\\texttt{else}~ e_0 \\Downarrow n_0}\n",
    "  \\qquad        \n",
    "  \\frac{\\sigma,e \\Downarrow n \\quad \\sigma,e_1 \\Downarrow n_1}{\n",
    "        \\sigma,\\texttt{if}~ e ~\\texttt{then}~ e_1 ~\\texttt{else}~ e_0 \\Downarrow n_1}~(n\\neq 0)$\n",
    "  \n",
    "  $\\displaystyle\n",
    "  \\frac{~~}{\\sigma,x \\Downarrow \\sigma(x)}\n",
    "  $"
   ]
  },
  {
   "cell_type": "code",
   "execution_count": 2,
   "metadata": {},
   "outputs": [],
   "source": [
    "data Expr = Val Int            -- n\n",
    "          | Add Expr Expr      -- e1 + e2\n",
    "          | If Expr Expr Expr  -- if e then e1 else e0\n",
    "          | Var String         -- x\n",
    "          deriving (Eq,Ord,Show)\n",
    "\n",
    "-- 실행시 이름에 대응되는 값을 찾아볼 수 있는 (실행)환경(environment)\n",
    "type Env = [ (String, Int) ]  \n",
    "\n",
    "eval :: Env -> Expr -> Int\n",
    "eval env (Val n) = n\n",
    "eval env (Add e1 e2) = eval env e1 + eval env e2\n",
    "eval env (If e e1 e0) = if eval env e == 0\n",
    "                           then eval env e0\n",
    "                           else eval env e1\n",
    "                    {-- case eval env e of\n",
    "                          0 -> eval env e0\n",
    "                          _ -> eval env e1 -}\n",
    "eval env (Var x) = case lookup x env of\n",
    "                     Nothing -> error (x ++ \" not found\") \n",
    "                     Just n  -> n"
   ]
  },
  {
   "cell_type": "markdown",
   "metadata": {},
   "source": [
    "`lookup`이라는 함수는 찾으면 데이터 생성자 `Just`로 포장된 값을, 없으면 데이터 상수 `Nothing`을 돌려준다.\n",
    "참고로 `Just`와 `Nothing`은 아래와 같이 표준라이브러리에 정의되어 있는 `Maybe` 타입의 데이타 생성자 및 상수이다.\n",
    "```haskell\n",
    "data Maybe a = Nothing | Just a\n",
    "```"
   ]
  },
  {
   "cell_type": "code",
   "execution_count": 3,
   "metadata": {},
   "outputs": [
    {
     "data": {
      "text/html": [
       "<style>/* Styles used for the Hoogle display in the pager */\n",
       ".hoogle-doc {\n",
       "display: block;\n",
       "padding-bottom: 1.3em;\n",
       "padding-left: 0.4em;\n",
       "}\n",
       ".hoogle-code {\n",
       "display: block;\n",
       "font-family: monospace;\n",
       "white-space: pre;\n",
       "}\n",
       ".hoogle-text {\n",
       "display: block;\n",
       "}\n",
       ".hoogle-name {\n",
       "color: green;\n",
       "font-weight: bold;\n",
       "}\n",
       ".hoogle-head {\n",
       "font-weight: bold;\n",
       "}\n",
       ".hoogle-sub {\n",
       "display: block;\n",
       "margin-left: 0.4em;\n",
       "}\n",
       ".hoogle-package {\n",
       "font-weight: bold;\n",
       "font-style: italic;\n",
       "}\n",
       ".hoogle-module {\n",
       "font-weight: bold;\n",
       "}\n",
       ".hoogle-class {\n",
       "font-weight: bold;\n",
       "}\n",
       ".get-type {\n",
       "color: green;\n",
       "font-weight: bold;\n",
       "font-family: monospace;\n",
       "display: block;\n",
       "white-space: pre-wrap;\n",
       "}\n",
       ".show-type {\n",
       "color: green;\n",
       "font-weight: bold;\n",
       "font-family: monospace;\n",
       "margin-left: 1em;\n",
       "}\n",
       ".mono {\n",
       "font-family: monospace;\n",
       "display: block;\n",
       "}\n",
       ".err-msg {\n",
       "color: red;\n",
       "font-style: italic;\n",
       "font-family: monospace;\n",
       "white-space: pre;\n",
       "display: block;\n",
       "}\n",
       "#unshowable {\n",
       "color: red;\n",
       "font-weight: bold;\n",
       "}\n",
       ".err-msg.in.collapse {\n",
       "padding-top: 0.7em;\n",
       "}\n",
       ".highlight-code {\n",
       "white-space: pre;\n",
       "font-family: monospace;\n",
       "}\n",
       ".suggestion-warning { \n",
       "font-weight: bold;\n",
       "color: rgb(200, 130, 0);\n",
       "}\n",
       ".suggestion-error { \n",
       "font-weight: bold;\n",
       "color: red;\n",
       "}\n",
       ".suggestion-name {\n",
       "font-weight: bold;\n",
       "}\n",
       "</style><span class='get-type'>lookup :: forall a b. Eq a => a -> [(a, b)] -> Maybe b</span>"
      ],
      "text/plain": [
       "lookup :: forall a b. Eq a => a -> [(a, b)] -> Maybe b"
      ]
     },
     "metadata": {},
     "output_type": "display_data"
    },
    {
     "data": {
      "text/plain": [
       "Just 3"
      ]
     },
     "metadata": {},
     "output_type": "display_data"
    },
    {
     "data": {
      "text/plain": [
       "Just 4"
      ]
     },
     "metadata": {},
     "output_type": "display_data"
    },
    {
     "data": {
      "text/plain": [
       "Nothing"
      ]
     },
     "metadata": {},
     "output_type": "display_data"
    }
   ],
   "source": [
    ":type lookup\n",
    "lookup \"x\" [(\"x\",3),(\"y\",4)]\n",
    "lookup \"y\" [(\"x\",3),(\"y\",4)]\n",
    "lookup \"z\" [(\"x\",3),(\"y\",4)]"
   ]
  },
  {
   "cell_type": "markdown",
   "metadata": {},
   "source": [
    "`if b then (x + 3) else y`와 같은 코드를 `Expr` 타입의 하스켈 데이터로 다음과 같이 나타낼 수 있다."
   ]
  },
  {
   "cell_type": "code",
   "execution_count": 4,
   "metadata": {},
   "outputs": [],
   "source": [
    "e = If (Var \"b\") (Add (Var \"x\") (Val 3)) (Var \"y\")"
   ]
  },
  {
   "cell_type": "markdown",
   "metadata": {},
   "source": [
    "이 코드를 실행하려면 $\\sigma = \\{ x \\mapsto 2, y \\mapsto 4, b \\mapsto 0 \\}$과 같은 환경이 필요하다.\n",
    "인터프리터 함수에 환경과 식을 같이 넘겨 ($\\texttt{eval}~\\,\\sigma\\,~\\texttt{e}$) 실행하면 된다. "
   ]
  },
  {
   "cell_type": "code",
   "execution_count": 5,
   "metadata": {},
   "outputs": [
    {
     "data": {
      "text/plain": [
       "4"
      ]
     },
     "metadata": {},
     "output_type": "display_data"
    }
   ],
   "source": [
    "eval [(\"x\",2), (\"y\",4), (\"b\",0)] e"
   ]
  },
  {
   "cell_type": "markdown",
   "metadata": {},
   "source": [
    "이번에는 $\\{ x \\mapsto 2, y \\mapsto 4, b \\mapsto 1 \\}$ 환경으로 실행해 보자."
   ]
  },
  {
   "cell_type": "code",
   "execution_count": 6,
   "metadata": {},
   "outputs": [
    {
     "data": {
      "text/plain": [
       "5"
      ]
     },
     "metadata": {},
     "output_type": "display_data"
    }
   ],
   "source": [
    "eval [(\"x\",2), (\"y\",4), (\"b\",1)] e  "
   ]
  },
  {
   "cell_type": "markdown",
   "metadata": {},
   "source": [
    "실행 환경은 코드에 나타나는 이름에 대한 값을 모두 포함하고 있어야 한다.\n",
    "그렇지 않을 경우 예컨대 $\\{ x \\mapsto 2, y \\mapsto 4 \\}$ 같은 환경으로 실행한다면 ..."
   ]
  },
  {
   "cell_type": "code",
   "execution_count": 7,
   "metadata": {},
   "outputs": [
    {
     "ename": "",
     "evalue": "",
     "header": "MessageHeader {mhIdentifiers = [\"7d21228b-4296-445e-a3cb-c7914cd53448\"], mhParentHeader = Just (MessageHeader {mhIdentifiers = [\"7d21228b-4296-445e-a3cb-c7914cd53448\"], mhParentHeader = Nothing, mhMetadata = Metadata (fromList [(\"recordTiming\",Bool False),(\"deletedCells\",Array []),(\"cellId\",String \"892c5bfa-b61e-4ed9-8a95-c371a269ee32\")]), mhMessageId = UUID {uuidToString = \"bb60295b-f9f8-4315-877e-21d22ce3a8f6\"}, mhSessionId = UUID {uuidToString = \"7d21228b-4296-445e-a3cb-c7914cd53448\"}, mhUsername = \"\", mhMsgType = ExecuteRequestMessage, mhBuffers = []}), mhMetadata = Metadata (fromList []), mhMessageId = UUID {uuidToString = \"4e5475f4-e3dd-4433-90ca-3688009d691b\"}, mhSessionId = UUID {uuidToString = \"7d21228b-4296-445e-a3cb-c7914cd53448\"}, mhUsername = \"\", mhMsgType = ExecuteErrorMessage, mhBuffers = []}",
     "output_type": "error",
     "traceback": [
      "b not found\nCallStack (from HasCallStack):\n  error, called at <interactive>:14:33 in interactive:Ghci20"
     ]
    }
   ],
   "source": [
    "eval [(\"x\",2), (\"y\",4)]          e -- 에러 발생"
   ]
  },
  {
   "cell_type": "markdown",
   "metadata": {},
   "source": [
    "----\n",
    "연습문제 04-01\n",
    "\n",
    "````if x then y else (if y then y+z else z)````\n",
    "에 해당하는 `Expr` 타입의 식 `e4`를 정의하라.\n",
    "\n",
    "그리고 다음 세 가지 실행환경을 정의하여\n",
    "각각의 환경에서 `eval`함수로 `e4`를 실행해 보라.\n",
    "\n",
    "* $\\sigma_1 = \\{x\\mapsto 1, y\\mapsto 2, z\\mapsto 3\\}$\n",
    "* $\\sigma_3 = \\{x\\mapsto 1, y\\mapsto 0, z\\mapsto 3\\}$\n",
    "* $\\sigma_2 = \\{x\\mapsto 0, y\\mapsto 2, z\\mapsto 3\\}$"
   ]
  },
  {
   "cell_type": "code",
   "execution_count": 8,
   "metadata": {},
   "outputs": [],
   "source": [
    "e4 = undefined -- 여기에 작성\n",
    "\n",
    "sigma1 = undefined -- 여기에 작성\n",
    "sigma2 = undefined -- 여기에 작성\n",
    "sigma3 = undefined -- 여기에 작성\n",
    "\n",
    "-- eval 함수로 각각의 환경에서 e4를 실행해 어떤 결과값이 나오나 확인해보기"
   ]
  },
  {
   "cell_type": "markdown",
   "metadata": {},
   "source": [
    "----\n",
    "### 식의 간소화(simplification) 규칙\n",
    "\n",
    "여러 번 실행해야 하는 프로그램이라면 실행 전에 간소화할 수 있는 부분은 간소화해 놓는 것이 효율적이다.\n",
    "```\n",
    "0 + 0 + 0 + 0 + 0 + 0 + 0 + 0 + 0 + 0 + 0 + 0 + 0 + 0 + 0 + 0 + 0 + 0 + x + y\n",
    "```\n",
    "위와 같은 프로그램은 `x + y`로 간소화해 놓으면 매번 실행할 때마다 쓸데없이 0을 여러 번 덧셈하지 않아도 된다.\n",
    "\n",
    "이런 것을 엄밀하게 규칙을 정해 표현해 보자.\n",
    "이를테면 아래와 같은 간소화 규칙을 따라 간소화하자는 것이다.\n",
    "\n",
    "$\\displaystyle\n",
    " \\frac{~~}{n_1 \\,✚\\, n_2 ~\\rightsquigarrow~ n_1+n_2}\n",
    " \\qquad\n",
    " \\frac{~~}{e_1 \\,✚\\, 0 ~\\rightsquigarrow~ e_1}\n",
    " \\qquad\n",
    " \\frac{~~}{0 \\,✚\\, e_2 ~\\rightsquigarrow~ e_2}\n",
    "$\n",
    "\n",
    "$\\displaystyle\n",
    " \\frac{~~}{\\textbf{if}~0~\\textbf{then}~e_1~\\textbf{else}~e_0 ~\\rightsquigarrow~ e_0}\n",
    " \\qquad\n",
    " \\frac{~~}{\\textbf{if}~n~\\textbf{then}~e_1~\\textbf{else}~e_0 ~\\rightsquigarrow~ e_1} ~ (n\\neq 0)\n",
    "$\n",
    "\n",
    "위의 규칙은 전체 식이 저렇게 생겼을 때 적용할 수 있는 규칙이다.\n",
    "그래서 위와 같은 규칙만 있다면<br>\n",
    "`if 3+4 then 0+x else y+0`이나<br>\n",
    "`x + (if 0 then y else z)` 같이<br>\n",
    "더 큰 식 안에 줄일 수 있는 부분식이 들어 있는 경우를 처리하지 못한다."
   ]
  },
  {
   "cell_type": "markdown",
   "metadata": {},
   "source": [
    "주어진 전체 식이 어떤 큰 식 $\\mathcal{C}[e]$일 때\n",
    "그 일부분을 이루고 있는 부분식 $e$를 $e'$ 간소화하는 것이 가능하다면,\n",
    "바로 그 부분만 $e'$으로 바꿔친 $\\mathcal{C}[e']$로 전체 식을 간소화할 수 있어야\n",
    "바로 위에서 예로 든 식들을 충분히 간소화할 수 있을 것이다.\n",
    "\n",
    "예를 들어  $\\mathcal{C} = (1 + [\\,\\cdot\\,]) + 3$ 일 때,\n",
    "$\\mathcal{C}[e] = (1 + e) + 3$ 이 된다.\n",
    "\n",
    "바로 아래의 규칙이 문맥(context)라는 개념을 이용해 이렇게 큰 식의 일부분을 이루는 \n",
    "부분식(subexpression)을 간소화한다는 생각을 엄밀하게 기술하고 있다.\n",
    "\n",
    "$\\displaystyle\n",
    " \\frac{e ~\\rightsquigarrow~ e'}{\\mathcal{C}[\\,e\\,]  ~\\rightsquigarrow~ \\mathcal{C}[\\,e']} ~~ (\\mathcal{C}\\neq [\\,\\cdot\\,])\n",
    "$\n",
    "\n",
    "context for simplification 간소화를 위한 문맥\n",
    "\n",
    "$\\displaystyle\n",
    "\\begin{array}{lrl}\n",
    " \\mathcal{C} \\in \\textsf{Ctx} &::=& [\\,\\cdot\\,] \\\\\n",
    "            &\\mid& \\mathcal{C}\\,✚\\,e_2 \\\\\n",
    "            &\\mid& e_1\\,✚\\,\\mathcal{C} \\\\\n",
    "            &\\mid& \\textbf{if}~\\mathcal{C}~\\textbf{then}~e_1~\\textbf{else}~e_0 \\\\\n",
    "            &\\mid& \\textbf{if}~e~\\textbf{then}~\\mathcal{C}~\\textbf{else}~e_0 \\\\\n",
    "            &\\mid& \\textbf{if}~e~\\textbf{then}~e_1~\\textbf{else}~\\mathcal{C}\n",
    "\\end{array}$\n",
    "\n",
    "$\\mathcal{C}$라는 문맥(context)은 구멍이 하나 뚫려 있는 식으로 이해할 수 있으며,\n",
    "위의 정의는 구멍이 구체적으로 어디에 뚫려 있는 것이 가능한지에 대한 재귀적 정의이다.\n",
    "그리고 $\\mathcal{C}[\\,e\\,]$는 바로 그 구멍을 $e$를 부분식으로 메워넣은 식을 뜻한다."
   ]
  },
  {
   "cell_type": "markdown",
   "metadata": {},
   "source": [
    "이런 문맥(context)라는 개념을 활용하는 이유는 식의 종류(덧셈식, 조건식, ...)가 많아짐에 따라\n",
    "부분식을 처리하기 규칙의 개수도 같이 늘어나기 때문에 부분식을 찾아들어가는 규칙을 문맥을 이용한\n",
    "하나의 규칙으로 요약하기 위함이다. 만일 문맥 $\\mathcal{C}$를 사용하지 않고 풀어서 나열한다면 다음과\n",
    "같이 여러개의 규칙으로 부분식을 간소화하는 방법을 나타내야 할 것이다.\n",
    "\n",
    "$\\displaystyle\n",
    " \\frac{e_1 ~\\rightsquigarrow~ e_1'}{e_1 \\,✚\\, e_2 ~\\rightsquigarrow~ e_1' \\,✚\\, e_2}\n",
    " \\qquad\n",
    " \\frac{e_2 ~\\rightsquigarrow~ e_2'}{e_1 \\,✚\\, e_2 ~\\rightsquigarrow~ e_1 \\,✚\\, e_2'}\n",
    "$\n",
    "\n",
    "$\\displaystyle\n",
    " \\frac{e ~\\rightsquigarrow~ e'}{\\textbf{if}~e~\\textbf{then}~e_1~\\textbf{else}~e_0 ~\\rightsquigarrow~ \\textbf{if}~e'~\\textbf{then}~e_1~\\textbf{else}~e_0}\n",
    "$\n",
    "\n",
    "$\\displaystyle\n",
    " \\frac{e_1 ~\\rightsquigarrow~ e_1'}{\\textbf{if}~e~\\textbf{then}~e_1~\\textbf{else}~e_0 ~\\rightsquigarrow~ \\textbf{if}~e~\\textbf{then}~e_1'~\\textbf{else}~e_0}\n",
    "$\n",
    "\n",
    "$\\displaystyle\n",
    " \\frac{e_0 ~\\rightsquigarrow~ e_0'}{\\textbf{if}~e~\\textbf{then}~e_1~\\textbf{else}~e_0 ~\\rightsquigarrow~ \\textbf{if}~e~\\textbf{then}~e_1~\\textbf{else}~e_0'}\n",
    "$"
   ]
  },
  {
   "cell_type": "code",
   "execution_count": 9,
   "metadata": {},
   "outputs": [],
   "source": [
    "-- 부분식을 줄이는 문맥 활용 규칙을 제외한 처음 5가지 규칙에 따라\n",
    "-- 식(Expr)을 한 단계 간소화하는 simp 함수를 작성해 보자.\n",
    "-- 단, 적용할 규칙이 없는 식은 원래 식 그대로를 돌려주기로 한다.\n",
    "\n",
    "simp :: Expr -> Expr\n",
    "simp (Val n1 `Add` Val n2) = Val (n1+n2)\n",
    "simp (Val 0 `Add` e2) = e2\n",
    "simp (e1 `Add` Val 0) = e1\n",
    "-- simp (If ...) = ... -- if 0 e1 e0 규칙\n",
    "-- simp (If ...) = ... -- if n e1 e0 규칙 (n/=0일 때)\n",
    "simp e = e -- 해당하는 규칙이 없으면 원래 식을 그대로 결과로"
   ]
  },
  {
   "cell_type": "code",
   "execution_count": 10,
   "metadata": {},
   "outputs": [
    {
     "data": {
      "text/plain": [
       "Add (Val 0) (Add (Var \"x\") (Val 0))"
      ]
     },
     "metadata": {},
     "output_type": "display_data"
    },
    {
     "data": {
      "text/plain": [
       "Add (Var \"x\") (Val 0)"
      ]
     },
     "metadata": {},
     "output_type": "display_data"
    },
    {
     "data": {
      "text/plain": [
       "Var \"x\""
      ]
     },
     "metadata": {},
     "output_type": "display_data"
    },
    {
     "data": {
      "text/plain": [
       "Var \"x\""
      ]
     },
     "metadata": {},
     "output_type": "display_data"
    }
   ],
   "source": [
    "-- 0+(x+0) ~~> x+0 ~~> x 를 simp를 이용해 실행해 확인해 보기 \n",
    "e5 = Val 0 `Add` (Var \"x\" `Add` Val 0)\n",
    "\n",
    "e5                      -- simp 0 번 적용해 0+(x+0)\n",
    "simp e5                 -- simp 1 번 적용해    x+0\n",
    "simp . simp $ e5        -- simp 2 번 적용      x\n",
    "simp . simp . simp $ e5 -- simp 3 번 적용      x    (더 이상 간소화할 것이 없어 이전과 동일한 결과)"
   ]
  },
  {
   "cell_type": "markdown",
   "metadata": {},
   "source": [
    "---\n",
    "연습문제 04-02 \n",
    "\n",
    "`If`에 대한 간소화 규칙 둘을 각각 simp의 등식으로 추가로 작성하여 완성하고<br>\n",
    "아래에 `if 0 then x else (if 1 then y else z)`에 해당하는 `e6`를 정의한 후<br>\n",
    "simp를 반복적으로 적용해 아래와 같이 간소화가 일어나는지 확인해 보라.<br>\n",
    "(위에서 덧셈식 `e5`에 대해 실행했던 것처럼 해보라 이야기다.)\n",
    "````\n",
    "if 0 then x else (if 1 then y else z)\n",
    "              ~~> if 1 then y else z\n",
    "                        ~~> y\n",
    "````"
   ]
  },
  {
   "cell_type": "code",
   "execution_count": 11,
   "metadata": {},
   "outputs": [],
   "source": [
    "e6 = undefined\n",
    "\n",
    "-- simp를 e6에 여러 번 적용해 결과를 확인해 보라"
   ]
  },
  {
   "cell_type": "markdown",
   "metadata": {},
   "source": [
    "----\n",
    "# 과제 HW2 (총 11점)"
   ]
  },
  {
   "cell_type": "markdown",
   "metadata": {},
   "source": [
    "HW2과제 ??그룹\n",
    "* 이름: ???\n",
    "* 이름: ???\n",
    "* 이름: ???"
   ]
  },
  {
   "cell_type": "markdown",
   "metadata": {},
   "source": [
    "(1)번과 (2)번 각각의 문제마다 반드시 2개 이상의 테스트를 작성해야만 한다. (그렇지 않으면 함수를 맞게 작성했더라도 점수는 0점으로 처리)\n",
    "\n",
    "마지막 3번의 경우는 사실상 2개의 테스트가 이미 주어져 있는 것이나 마찬가지이므로 그 2개를 테스트해 보고 추가로 테스트 하나만 더 작성하라. (마찬가지로 이렇게 테스트를 작성하지 않으면 0점 처리)"
   ]
  },
  {
   "cell_type": "markdown",
   "metadata": {},
   "source": [
    "## (1) `dom :: Env -> [String]` (2점)\n",
    "\n",
    "저 앞에서 실행 환경을 소개할 때 정의역 즉 실행 환경에 등록된 변수들을 뽑아내는 dom이라는 함수도 함께 정의했다.\n",
    "\n",
    "이를 하스켈 함수 `dom :: Env -> [String]`으로 작성하라.\n",
    "\n",
    "예컨대,\n",
    "````haskell\n",
    "dom [(\"x\",3),(\"y\",-2),(\"z\",4)] == [\"x\",\"y\",\"z\"]\n",
    "````"
   ]
  },
  {
   "cell_type": "code",
   "execution_count": 12,
   "metadata": {},
   "outputs": [],
   "source": [
    "-- dom :: Env -> [String]"
   ]
  },
  {
   "cell_type": "markdown",
   "metadata": {},
   "source": [
    "## (2) `fv :: Expr -> [String]` (3점)\n",
    "\n",
    "산술식(`Expr`)에 나타나는 변수들의 리스트를 계산하는 함수 fv를 다음과 같이 정의할 수 있다.\n",
    "\n",
    "$\\displaystyle\n",
    "\\begin{array}{lll}\n",
    " \\mathop{\\textrm{fv}}(\\,n\\,) &=& \\{\\;\\} \\\\\n",
    " \\mathop{\\textrm{fv}}(\\,e_1 \\;✚\\; e_2\\,) &=&\n",
    "    \\mathop{\\textrm{fv}}(e_1) \\;\\cup\\; \\mathop{\\textrm{fv}}(e_2) \\\\\n",
    " \\mathop{\\textrm{fv}}(\\,\\texttt{if}~e~\\texttt{then}~e_1~\\texttt{else}~e_0\\,) &=&\n",
    "    \\mathop{\\textrm{fv}}(e_0) \\;\\cup\\; \\mathop{\\textrm{fv}}(e_1) \\;\\cup\\; \\mathop{\\textrm{fv}}(e_0)  \\\\\n",
    " \\mathop{\\textrm{fv}}(\\,x\\,) &=& \\{x\\}\n",
    "\\end{array}$\n",
    "\n",
    "예컨대, $\\mathop{\\textrm{fv}}(\\,\\texttt{if}~3+x~\\texttt{then}~x+y~\\texttt{else}~z+x\\,) = \\{x,y,z\\}$\n",
    "\n",
    "이를 하스켈 함수  `fv :: Expr -> [String]`로 작성하라. 그리고 `fv`를 사용하는 테스트도 4개 이상 이상 작성해 보라."
   ]
  },
  {
   "cell_type": "code",
   "execution_count": 13,
   "metadata": {},
   "outputs": [
    {
     "data": {
      "text/plain": [
       "[\"x\",\"y\",\"z\",\"w\"]"
      ]
     },
     "metadata": {},
     "output_type": "display_data"
    },
    {
     "data": {
      "text/plain": [
       "[\"x\",\"y\",\"z\",\"w\"]"
      ]
     },
     "metadata": {},
     "output_type": "display_data"
    }
   ],
   "source": [
    "import Data.List (union) -- 리스트를 집합으로 생각해 합집합 연산을 하는 union 함수 불러오기\n",
    "\n",
    "union [\"x\",\"y\",\"z\"] [\"y\",\"w\"]    -- 기본적인 함수로 호출 형태로 활용\n",
    "\n",
    "[\"x\",\"y\",\"z\"] `union` [\"y\",\"w\"]  -- 역따옴표로 중위(infix) 연산자처럼 활용"
   ]
  },
  {
   "cell_type": "code",
   "execution_count": 14,
   "metadata": {},
   "outputs": [],
   "source": [
    "import Data.List (union)\n",
    "\n",
    "-- fv :: Expr -> [String]\n",
    "\n",
    "-- fv를 사용하는 테스트도 네 개 이상 작성해 보라"
   ]
  },
  {
   "cell_type": "markdown",
   "metadata": {},
   "source": [
    "## (3) `simplify :: Expr -> Expr` (3점)\n",
    "\n",
    "위의 연습문제에서는 `simp` 함수를 반복적으로 여러 번 수작업으로 코드를 여러 번 반복하며 적용해 보았다.\n",
    "\n",
    "이를 자동으로 수행하는 재귀함수 `simplify` 함수를 작성하라.\n",
    "`simplify`는 더 이상 적용할 간소화 규칙이 없을 때까지 반복해서 `simp` 함수를 활용하여 식을 간소화하도록 작성하면 된다.\n",
    "(종료조건이 무엇으로 할지 생각해 보라.)\n",
    "\n",
    "예컨대,  \n",
    "````haskell\n",
    "simplify e5 == Var \"x\"\n",
    "simplify e6 == Var \"y\"\n",
    "````\n",
    "\n",
    "참고로 `simp` 함수 정의에서 부분식의 간소화를 위해 문맥(context)를 활용하는 규칙은 구현하지 않았으므로 당연히 `simplify` 함수도 전체 식이 아닌 부분식 안으로 들어가 간소화하는 것은 처리하지 않는다.\n",
    "이를테면 `(x + 0) + (0 + y)`같은 식은 우리가 눈으로 봐서 금방 간소화할 수 있는 식이지만, 왼쪽 부분식(`x + 0`)이나 오른쪽 부분식(`0 + y`) 안으로 들어가 규칙을 적용하지 않는 한,\n",
    "지금의 `simp` 함수를 단순히 반복 적용하는 것만으로는 간소화할 수 없는 식이므로 `simplify`도 이런 식은 간소화하지 않는다.\n",
    "(이 부분은 다음 기회에 ...) "
   ]
  },
  {
   "cell_type": "code",
   "execution_count": 15,
   "metadata": {},
   "outputs": [],
   "source": [
    "-- simplify :: Expr -> Expr\n",
    "--"
   ]
  },
  {
   "cell_type": "code",
   "execution_count": 16,
   "metadata": {},
   "outputs": [],
   "source": [
    "-- +만 연달아 간소화하는 e5와 if만 연달아 간소화하는 e6외에\n",
    "-- if와 +를 모두 간소화하게 되는 simplify에 대한 테스트도 작성하라\n",
    "-- 즉 e5, e6 외에 최소한 하나 더 테스트를 작성하여 총 3개 이상의 테스트를 작성하라"
   ]
  },
  {
   "cell_type": "markdown",
   "metadata": {},
   "source": [
    "## (4) `contextualize :: Expr -> [(Ctx,Expr)]` (4점)\n",
    "함수 `contextualize`를 주어진 식(`Expr`)에 대한 가능한 모든 문맥화를 리스트로 나열하도록 정의하자.\n",
    "\n",
    "$\\qquad \\texttt{contextualize}~e ~=~\n",
    "  \\big[ (\\mathcal{C_1},e_1), \\cdots, (\\mathcal{C_k},e_k) \\big] $\n",
    "\n",
    "즉, $e = \\mathcal{C}_i[e_i]$를 만족하는 가능한 모든 문맥($\\mathcal{C}_i$)과\n",
    "그 문맥의 구멍에 위치하는 부분식 $e_i$의 순서쌍을 계산하는 함수이다.\n",
    "\n",
    "문맥(`Ctx`)은 구멍에 채워넣을 람다식을 받아 람다식을 계산하는 함수(`Expr -> Expr`)로 표현하기로 한다.\n",
    "\n",
    "최소한 4개의 테스트를 작성하라. 함수를 맞게 작성하더라도 함수가 올바르게 동작한다는 것을 확인하기 위한 적절한 테스트를 작성하지 않으면 0점이다."
   ]
  },
  {
   "cell_type": "code",
   "execution_count": 31,
   "metadata": {},
   "outputs": [
    {
     "data": {
      "text/plain": [
       "Add (Var \"x\") (Add (Var \"[.]\") (Val 3))"
      ]
     },
     "metadata": {},
     "output_type": "display_data"
    },
    {
     "data": {
      "text/plain": [
       "Add (Var \"x\") (Add (Var \"y\") (Val 3))"
      ]
     },
     "metadata": {},
     "output_type": "display_data"
    },
    {
     "data": {
      "text/plain": [
       "Add (Var \"x\") (Add (If (Var \"x\") (Val 4) (Val 5)) (Val 3))"
      ]
     },
     "metadata": {},
     "output_type": "display_data"
    }
   ],
   "source": [
    "type Ctx = Expr -> Expr\n",
    "\n",
    "-- 문맥은 이런 식으로 정의해서\n",
    "ctx1 :: Ctx\n",
    "ctx1 = \\hole -> Add (Var \"x\") (Add hole (Val 3)) -- x + ([.] + 3)\n",
    "\n",
    "-- 이런 식으로 활용할 수 있다\n",
    "ctx1 (Var \"[.]\") -- 구멍이 어디인지 확인하기 위해 \"[.]\"이라는 이름의 변수를 끼워넣어 보았다\n",
    "ctx1 (Var \"y\")    -- 구멍에 변수 y를 끼워넣어 보았다 \n",
    "ctx1 (If (Var\"x\") (Val 4) (Val 5)) -- 구멍에 if x then 4 else 5 를 끼워넣어 보았다"
   ]
  },
  {
   "cell_type": "code",
   "execution_count": 32,
   "metadata": {},
   "outputs": [],
   "source": [
    "contextualize :: Expr -> [(Ctx,Expr)]\n",
    "contextualize (Val n)      = undefined -- undefined 대신에 적절한 내용을 작성하라\n",
    "contextualize (Add e1 e2)  = undefined -- undefined 대신에 적절한 내용을 작성하라\n",
    "contextualize (If e e1 e0) = undefined -- undefined 대신에 적절한 내용을 작성하라\n",
    "contextualize (Var x)      = undefined -- undefined 대신에 적절한 내용을 작성하라"
   ]
  },
  {
   "cell_type": "code",
   "execution_count": null,
   "metadata": {},
   "outputs": [],
   "source": [
    "-- 테스트를 여기에"
   ]
  },
  {
   "cell_type": "code",
   "execution_count": null,
   "metadata": {},
   "outputs": [],
   "source": [
    "-- 테스트를 여기에"
   ]
  },
  {
   "cell_type": "code",
   "execution_count": null,
   "metadata": {},
   "outputs": [],
   "source": [
    "-- 테스트를 여기에"
   ]
  },
  {
   "cell_type": "code",
   "execution_count": null,
   "metadata": {},
   "outputs": [],
   "source": [
    "-- 테스트를 여기에"
   ]
  }
 ],
 "metadata": {
  "kernelspec": {
   "display_name": "Haskell",
   "language": "haskell",
   "name": "haskell"
  },
  "language_info": {
   "codemirror_mode": "ihaskell",
   "file_extension": ".hs",
   "name": "haskell",
   "pygments_lexer": "Haskell",
   "version": "8.6.5"
  }
 },
 "nbformat": 4,
 "nbformat_minor": 4
}
