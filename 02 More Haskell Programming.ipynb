{
 "cells": [
  {
   "cell_type": "code",
   "execution_count": 1,
   "metadata": {},
   "outputs": [],
   "source": [
    ":opt no-lint"
   ]
  },
  {
   "cell_type": "markdown",
   "metadata": {},
   "source": [
    "# More Haskell Programming\n",
    "\n",
    "* [Recursive functions over lists](#Recursive-functions-over-lists)\n",
    "* [Higher-order functions over lists](#Higher-order-functions-over-lists)\n",
    "* [Recursive data types](#Recursive-data-types)"
   ]
  },
  {
   "cell_type": "markdown",
   "metadata": {},
   "source": [
    "## Recursive functions over lists\n",
    "(리스트에 대한 재귀함수)"
   ]
  },
  {
   "cell_type": "code",
   "execution_count": 2,
   "metadata": {},
   "outputs": [
    {
     "data": {
      "text/plain": [
       "10"
      ]
     },
     "metadata": {},
     "output_type": "display_data"
    },
    {
     "data": {
      "text/plain": [
       "24"
      ]
     },
     "metadata": {},
     "output_type": "display_data"
    }
   ],
   "source": [
    "sum [1,2,3,4]\n",
    "product [1,2,3,4]"
   ]
  },
  {
   "cell_type": "code",
   "execution_count": 3,
   "metadata": {},
   "outputs": [],
   "source": [
    "mysum []     = 0             -- 귀납 기초에 해당하는 경우  base case\n",
    "mysum (x:xs) = x + mysum xs  -- 귀납 단계에 해당한는 경우 inductive case\n",
    "\n",
    "myproduct []     = 1                 -- base case\n",
    "myproduct (x:xs) = x * myproduct xs  -- inductive case"
   ]
  },
  {
   "cell_type": "code",
   "execution_count": 4,
   "metadata": {},
   "outputs": [
    {
     "data": {
      "text/plain": [
       "10"
      ]
     },
     "metadata": {},
     "output_type": "display_data"
    },
    {
     "data": {
      "text/plain": [
       "24"
      ]
     },
     "metadata": {},
     "output_type": "display_data"
    }
   ],
   "source": [
    "mysum [1,2,3,4]\n",
    "myproduct [1,2,3,4]"
   ]
  },
  {
   "cell_type": "markdown",
   "metadata": {},
   "source": [
    "## Higher-order functions over lists\n",
    "(리스트에 대한 고차함수)\n",
    "\n",
    "### `map`\n",
    "\n",
    "```haskell\n",
    "f :: a -> b\n",
    "x1, x2, x3, x4 :: a\n",
    "```\n",
    "위와 같은 함수 `f`와 `x1`~`x4`에 대해 `map` 함수를 활용해 계산하면 아래와 같은 성질이 성립\n",
    "```haskell\n",
    "map f [x1, x2, x3, x4] == [f x1, f x2, f x3, f x4]\n",
    "```"
   ]
  },
  {
   "cell_type": "code",
   "execution_count": 5,
   "metadata": {},
   "outputs": [
    {
     "data": {
      "text/plain": [
       "[1,2,3,4,5,6,7,8,9,10]"
      ]
     },
     "metadata": {},
     "output_type": "display_data"
    }
   ],
   "source": [
    "l = [1..10]\n",
    "\n",
    "l"
   ]
  },
  {
   "cell_type": "code",
   "execution_count": 6,
   "metadata": {},
   "outputs": [
    {
     "data": {
      "text/html": [
       "<style>/* Styles used for the Hoogle display in the pager */\n",
       ".hoogle-doc {\n",
       "display: block;\n",
       "padding-bottom: 1.3em;\n",
       "padding-left: 0.4em;\n",
       "}\n",
       ".hoogle-code {\n",
       "display: block;\n",
       "font-family: monospace;\n",
       "white-space: pre;\n",
       "}\n",
       ".hoogle-text {\n",
       "display: block;\n",
       "}\n",
       ".hoogle-name {\n",
       "color: green;\n",
       "font-weight: bold;\n",
       "}\n",
       ".hoogle-head {\n",
       "font-weight: bold;\n",
       "}\n",
       ".hoogle-sub {\n",
       "display: block;\n",
       "margin-left: 0.4em;\n",
       "}\n",
       ".hoogle-package {\n",
       "font-weight: bold;\n",
       "font-style: italic;\n",
       "}\n",
       ".hoogle-module {\n",
       "font-weight: bold;\n",
       "}\n",
       ".hoogle-class {\n",
       "font-weight: bold;\n",
       "}\n",
       ".get-type {\n",
       "color: green;\n",
       "font-weight: bold;\n",
       "font-family: monospace;\n",
       "display: block;\n",
       "white-space: pre-wrap;\n",
       "}\n",
       ".show-type {\n",
       "color: green;\n",
       "font-weight: bold;\n",
       "font-family: monospace;\n",
       "margin-left: 1em;\n",
       "}\n",
       ".mono {\n",
       "font-family: monospace;\n",
       "display: block;\n",
       "}\n",
       ".err-msg {\n",
       "color: red;\n",
       "font-style: italic;\n",
       "font-family: monospace;\n",
       "white-space: pre;\n",
       "display: block;\n",
       "}\n",
       "#unshowable {\n",
       "color: red;\n",
       "font-weight: bold;\n",
       "}\n",
       ".err-msg.in.collapse {\n",
       "padding-top: 0.7em;\n",
       "}\n",
       ".highlight-code {\n",
       "white-space: pre;\n",
       "font-family: monospace;\n",
       "}\n",
       ".suggestion-warning { \n",
       "font-weight: bold;\n",
       "color: rgb(200, 130, 0);\n",
       "}\n",
       ".suggestion-error { \n",
       "font-weight: bold;\n",
       "color: red;\n",
       "}\n",
       ".suggestion-name {\n",
       "font-weight: bold;\n",
       "}\n",
       "</style><span class='get-type'>map :: forall a b. (a -> b) -> [a] -> [b]</span>"
      ],
      "text/plain": [
       "map :: forall a b. (a -> b) -> [a] -> [b]"
      ]
     },
     "metadata": {},
     "output_type": "display_data"
    }
   ],
   "source": [
    ":type map"
   ]
  },
  {
   "cell_type": "code",
   "execution_count": 7,
   "metadata": {},
   "outputs": [
    {
     "data": {
      "text/plain": [
       "[2,4,6,8,10,12,14,16,18,20]"
      ]
     },
     "metadata": {},
     "output_type": "display_data"
    },
    {
     "data": {
      "text/plain": [
       "[2,4,6,8,10,12,14,16,18,20]"
      ]
     },
     "metadata": {},
     "output_type": "display_data"
    }
   ],
   "source": [
    "map (\\x -> 2*x) l -- 람다식으로 간단한 함수를 표현\n",
    "map (2*) l        -- 위와 같은 형태의 중위 연산자의 한쪽에 인자를 넘기는 람다식을 이와 같이 줄일 수 있다"
   ]
  },
  {
   "cell_type": "code",
   "execution_count": 8,
   "metadata": {},
   "outputs": [
    {
     "data": {
      "text/plain": [
       "20"
      ]
     },
     "metadata": {},
     "output_type": "display_data"
    },
    {
     "data": {
      "text/plain": [
       "20"
      ]
     },
     "metadata": {},
     "output_type": "display_data"
    },
    {
     "data": {
      "text/plain": [
       "20"
      ]
     },
     "metadata": {},
     "output_type": "display_data"
    }
   ],
   "source": [
    "(\\x -> 2*x) 10\n",
    "(2*) 10\n",
    "2 * 10"
   ]
  },
  {
   "cell_type": "markdown",
   "metadata": {},
   "source": [
    "#### `map`을 리스트 조건제시식으로\n",
    "\n",
    "리스트를 집합처럼 생각해 본다면,\n",
    "어떤 집합 $L$의 원소 각각에 적용가능한 함수 $f$가 있을 때,\n",
    "집합의 조건제시법 표현으로 다음과 같이 나타낼 수 있을 것이다.\n",
    "\n",
    "$\\qquad \\texttt{map}~f~L ~=~ \\{f(x) \\mid x\\in L\\}$\n",
    "\n",
    "이를 본딴 하스켈의 리스트 조건제시식 문법으로 다음과 같이 작성할 수 있다.\n",
    "```haskell\n",
    "map f l = [ f x | x <- l ]\n",
    "```"
   ]
  },
  {
   "cell_type": "code",
   "execution_count": 9,
   "metadata": {},
   "outputs": [
    {
     "data": {
      "text/plain": [
       "[1,2,3,4,5,6,7,8,9,10]"
      ]
     },
     "metadata": {},
     "output_type": "display_data"
    },
    {
     "data": {
      "text/plain": [
       "[2,4,6,8,10,12,14,16,18,20]"
      ]
     },
     "metadata": {},
     "output_type": "display_data"
    }
   ],
   "source": [
    "l\n",
    "[2*x | x<-l] -- 리스트 조건제시식으로 위에서 map을 사용해 계산한 것과 똑같은 계산"
   ]
  },
  {
   "cell_type": "markdown",
   "metadata": {},
   "source": [
    "### `filter`\n",
    "\n",
    "```haskell\n",
    "p :: a -> Bool\n",
    "x1,x2,x3,x4 :: a\n",
    "\n",
    "p x1 == False\n",
    "p x2 == True\n",
    "p x3 == True\n",
    "p x4 == False\n",
    "```\n",
    "위와 같은 함수 `p`와 `x1`~`x4`에 대해 `filter` 함수를 활용해 계산하면 아래와 같은 성질이 성립\n",
    "```haskell\n",
    "filter p [x1, x2, x3, x4] == [x2, x3]\n",
    "```"
   ]
  },
  {
   "cell_type": "code",
   "execution_count": 10,
   "metadata": {},
   "outputs": [
    {
     "data": {
      "text/plain": [
       "[1,2,3,4,5,6,7,8,9,10]"
      ]
     },
     "metadata": {},
     "output_type": "display_data"
    }
   ],
   "source": [
    "l = [1..10]\n",
    "\n",
    "l"
   ]
  },
  {
   "cell_type": "code",
   "execution_count": 11,
   "metadata": {},
   "outputs": [
    {
     "data": {
      "text/html": [
       "<style>/* Styles used for the Hoogle display in the pager */\n",
       ".hoogle-doc {\n",
       "display: block;\n",
       "padding-bottom: 1.3em;\n",
       "padding-left: 0.4em;\n",
       "}\n",
       ".hoogle-code {\n",
       "display: block;\n",
       "font-family: monospace;\n",
       "white-space: pre;\n",
       "}\n",
       ".hoogle-text {\n",
       "display: block;\n",
       "}\n",
       ".hoogle-name {\n",
       "color: green;\n",
       "font-weight: bold;\n",
       "}\n",
       ".hoogle-head {\n",
       "font-weight: bold;\n",
       "}\n",
       ".hoogle-sub {\n",
       "display: block;\n",
       "margin-left: 0.4em;\n",
       "}\n",
       ".hoogle-package {\n",
       "font-weight: bold;\n",
       "font-style: italic;\n",
       "}\n",
       ".hoogle-module {\n",
       "font-weight: bold;\n",
       "}\n",
       ".hoogle-class {\n",
       "font-weight: bold;\n",
       "}\n",
       ".get-type {\n",
       "color: green;\n",
       "font-weight: bold;\n",
       "font-family: monospace;\n",
       "display: block;\n",
       "white-space: pre-wrap;\n",
       "}\n",
       ".show-type {\n",
       "color: green;\n",
       "font-weight: bold;\n",
       "font-family: monospace;\n",
       "margin-left: 1em;\n",
       "}\n",
       ".mono {\n",
       "font-family: monospace;\n",
       "display: block;\n",
       "}\n",
       ".err-msg {\n",
       "color: red;\n",
       "font-style: italic;\n",
       "font-family: monospace;\n",
       "white-space: pre;\n",
       "display: block;\n",
       "}\n",
       "#unshowable {\n",
       "color: red;\n",
       "font-weight: bold;\n",
       "}\n",
       ".err-msg.in.collapse {\n",
       "padding-top: 0.7em;\n",
       "}\n",
       ".highlight-code {\n",
       "white-space: pre;\n",
       "font-family: monospace;\n",
       "}\n",
       ".suggestion-warning { \n",
       "font-weight: bold;\n",
       "color: rgb(200, 130, 0);\n",
       "}\n",
       ".suggestion-error { \n",
       "font-weight: bold;\n",
       "color: red;\n",
       "}\n",
       ".suggestion-name {\n",
       "font-weight: bold;\n",
       "}\n",
       "</style><span class='get-type'>filter :: forall a. (a -> Bool) -> [a] -> [a]</span>"
      ],
      "text/plain": [
       "filter :: forall a. (a -> Bool) -> [a] -> [a]"
      ]
     },
     "metadata": {},
     "output_type": "display_data"
    }
   ],
   "source": [
    ":type filter"
   ]
  },
  {
   "cell_type": "code",
   "execution_count": 12,
   "metadata": {},
   "outputs": [
    {
     "data": {
      "text/plain": [
       "True"
      ]
     },
     "metadata": {},
     "output_type": "display_data"
    },
    {
     "data": {
      "text/plain": [
       "False"
      ]
     },
     "metadata": {},
     "output_type": "display_data"
    },
    {
     "data": {
      "text/plain": [
       "True"
      ]
     },
     "metadata": {},
     "output_type": "display_data"
    },
    {
     "data": {
      "text/plain": [
       "False"
      ]
     },
     "metadata": {},
     "output_type": "display_data"
    },
    {
     "data": {
      "text/plain": [
       "True"
      ]
     },
     "metadata": {},
     "output_type": "display_data"
    }
   ],
   "source": [
    "odd 1 -- 홀수인\n",
    "odd 2\n",
    "odd 3 -- 경우에만\n",
    "odd 4\n",
    "odd 5 -- 결과가 True "
   ]
  },
  {
   "cell_type": "code",
   "execution_count": 13,
   "metadata": {},
   "outputs": [
    {
     "data": {
      "text/plain": [
       "[1,3,5,7,9]"
      ]
     },
     "metadata": {},
     "output_type": "display_data"
    }
   ],
   "source": [
    "filter odd l"
   ]
  },
  {
   "cell_type": "markdown",
   "metadata": {},
   "source": [
    "#### `filter`을 리스트 조건제시식으로\n",
    "리스트를 집합처럼 생각해 본다면,\n",
    "어떤 집합 $L$의 원소 각각에 적용해 참/거짓을 판별할 수 있는 함수 $p$가 있을 때,\n",
    "집합의 조건제시법 표현으로 다음과 같이 나타낼 수 있을 것이다.\n",
    "\n",
    "$\\qquad \\texttt{filter}~p~L ~=~ \\{x \\mid x\\in L,~p(x)\\}$\n",
    "\n",
    "이를 본딴 하스켈의 리스트 조건제시식 문법으로 다음과 같이 작성할 수 있다.\n",
    "```haskell\n",
    "filter p l = [ x | x <- l, p x ]\n",
    "```"
   ]
  },
  {
   "cell_type": "code",
   "execution_count": 14,
   "metadata": {},
   "outputs": [
    {
     "data": {
      "text/plain": [
       "[1,2,3,4,5,6,7,8,9,10]"
      ]
     },
     "metadata": {},
     "output_type": "display_data"
    },
    {
     "data": {
      "text/plain": [
       "[1,3,5,7,9]"
      ]
     },
     "metadata": {},
     "output_type": "display_data"
    }
   ],
   "source": [
    "l\n",
    "[x | x<-l, odd x] -- filter를 써서 위와 같이 한 것과 같은 계산을 하는 조건제시식"
   ]
  },
  {
   "cell_type": "markdown",
   "metadata": {},
   "source": [
    "### Using `map` and `filter` together"
   ]
  },
  {
   "cell_type": "code",
   "execution_count": 15,
   "metadata": {},
   "outputs": [
    {
     "data": {
      "text/plain": [
       "[4,10,16,22,28]"
      ]
     },
     "metadata": {},
     "output_type": "display_data"
    },
    {
     "data": {
      "text/plain": [
       "[4,10,16,22,28]"
      ]
     },
     "metadata": {},
     "output_type": "display_data"
    }
   ],
   "source": [
    "map (\\x -> 3*x + 1) (filter odd [1..10])\n",
    "\n",
    "[ 3*x + 1 | x<-[1..10], odd x ]     -- 위와 같은 같은 계산을 하는 조건제시식"
   ]
  },
  {
   "cell_type": "code",
   "execution_count": 16,
   "metadata": {},
   "outputs": [
    {
     "data": {
      "text/plain": [
       "[7,13,19,25,31]"
      ]
     },
     "metadata": {},
     "output_type": "display_data"
    }
   ],
   "source": [
    "filter odd (map (\\x -> 3*x + 1) [1..10])\n",
    "\n",
    "-- 연습문제: 위와 같은 리스트를 조건제시법을 사용해 표현해 보라"
   ]
  },
  {
   "cell_type": "markdown",
   "metadata": {},
   "source": [
    "### Application operator\n",
    "\n",
    "참고로 하스켈에서 함수 적용(application) 연산자라 불리는 `$` 연산자도 고차함수이다.\n",
    "\n",
    "용도는 그냥 괄호를 쓰는 걸 줄여주는 것이고 다른 특별한 내용을 더 계산하지는 않는다.\n",
    "(코드를 읽을 때 눈을 덜 아프게 해 주는 역할이라 보면 됨.)"
   ]
  },
  {
   "cell_type": "code",
   "execution_count": 17,
   "metadata": {},
   "outputs": [
    {
     "data": {
      "text/html": [
       "<style>/* Styles used for the Hoogle display in the pager */\n",
       ".hoogle-doc {\n",
       "display: block;\n",
       "padding-bottom: 1.3em;\n",
       "padding-left: 0.4em;\n",
       "}\n",
       ".hoogle-code {\n",
       "display: block;\n",
       "font-family: monospace;\n",
       "white-space: pre;\n",
       "}\n",
       ".hoogle-text {\n",
       "display: block;\n",
       "}\n",
       ".hoogle-name {\n",
       "color: green;\n",
       "font-weight: bold;\n",
       "}\n",
       ".hoogle-head {\n",
       "font-weight: bold;\n",
       "}\n",
       ".hoogle-sub {\n",
       "display: block;\n",
       "margin-left: 0.4em;\n",
       "}\n",
       ".hoogle-package {\n",
       "font-weight: bold;\n",
       "font-style: italic;\n",
       "}\n",
       ".hoogle-module {\n",
       "font-weight: bold;\n",
       "}\n",
       ".hoogle-class {\n",
       "font-weight: bold;\n",
       "}\n",
       ".get-type {\n",
       "color: green;\n",
       "font-weight: bold;\n",
       "font-family: monospace;\n",
       "display: block;\n",
       "white-space: pre-wrap;\n",
       "}\n",
       ".show-type {\n",
       "color: green;\n",
       "font-weight: bold;\n",
       "font-family: monospace;\n",
       "margin-left: 1em;\n",
       "}\n",
       ".mono {\n",
       "font-family: monospace;\n",
       "display: block;\n",
       "}\n",
       ".err-msg {\n",
       "color: red;\n",
       "font-style: italic;\n",
       "font-family: monospace;\n",
       "white-space: pre;\n",
       "display: block;\n",
       "}\n",
       "#unshowable {\n",
       "color: red;\n",
       "font-weight: bold;\n",
       "}\n",
       ".err-msg.in.collapse {\n",
       "padding-top: 0.7em;\n",
       "}\n",
       ".highlight-code {\n",
       "white-space: pre;\n",
       "font-family: monospace;\n",
       "}\n",
       ".suggestion-warning { \n",
       "font-weight: bold;\n",
       "color: rgb(200, 130, 0);\n",
       "}\n",
       ".suggestion-error { \n",
       "font-weight: bold;\n",
       "color: red;\n",
       "}\n",
       ".suggestion-name {\n",
       "font-weight: bold;\n",
       "}\n",
       "</style><span class='get-type'>($) :: forall a b. (a -> b) -> a -> b</span>"
      ],
      "text/plain": [
       "($) :: forall a b. (a -> b) -> a -> b"
      ]
     },
     "metadata": {},
     "output_type": "display_data"
    }
   ],
   "source": [
    ":type ($)"
   ]
  },
  {
   "cell_type": "code",
   "execution_count": 18,
   "metadata": {},
   "outputs": [
    {
     "data": {
      "text/plain": [
       "[2,6,10,14,18]"
      ]
     },
     "metadata": {},
     "output_type": "display_data"
    },
    {
     "data": {
      "text/plain": [
       "[2,6,10,14,18]"
      ]
     },
     "metadata": {},
     "output_type": "display_data"
    }
   ],
   "source": [
    "map (2*) (filter odd [1..10])\n",
    "map (2*) $ filter odd [1..10] -- 오른쪽 식에 대한 괄호를 쓰기 귀찮을 때 $ 연산자"
   ]
  },
  {
   "cell_type": "markdown",
   "metadata": {},
   "source": [
    "위 연산자와 같은 일을 하는 `.$` 연산자를 우리 나름대로 직접 정의해보자면 다음과 같다"
   ]
  },
  {
   "cell_type": "code",
   "execution_count": 19,
   "metadata": {},
   "outputs": [
    {
     "data": {
      "text/plain": [
       "[2,6,10,14,18]"
      ]
     },
     "metadata": {},
     "output_type": "display_data"
    }
   ],
   "source": [
    "(.$) :: (a -> b) -> a -> b\n",
    "f .$ x = f x\n",
    "\n",
    "map (2*) .$ filter odd [1..10]"
   ]
  },
  {
   "cell_type": "markdown",
   "metadata": {},
   "source": [
    "### Function composition operator\n",
    "\n",
    "$f \\circ g$ 라는 함성함수는 $(f \\circ g)(x) = f(g(x))$\n",
    "\n",
    "함수형 프로그래밍을 전혀 해보지 않았더라도 가장 익숙할 만한 고차함수는 바로 함수 함성(function composition) 연산자이다.\n",
    "하스켈에서 함수 합성 연산자는 `.`을 쓴다.\n",
    "\n",
    "참고로 이 함수 합성 연산자의 정의는 다음과 같다.\n",
    "\n",
    "```haskell\n",
    "(.) :: (b -> c) -> (a -> b) -> (a -> c)\n",
    "f . g = \\x -> f(g(x))\n",
    "```"
   ]
  },
  {
   "cell_type": "code",
   "execution_count": 20,
   "metadata": {},
   "outputs": [
    {
     "data": {
      "text/html": [
       "<style>/* Styles used for the Hoogle display in the pager */\n",
       ".hoogle-doc {\n",
       "display: block;\n",
       "padding-bottom: 1.3em;\n",
       "padding-left: 0.4em;\n",
       "}\n",
       ".hoogle-code {\n",
       "display: block;\n",
       "font-family: monospace;\n",
       "white-space: pre;\n",
       "}\n",
       ".hoogle-text {\n",
       "display: block;\n",
       "}\n",
       ".hoogle-name {\n",
       "color: green;\n",
       "font-weight: bold;\n",
       "}\n",
       ".hoogle-head {\n",
       "font-weight: bold;\n",
       "}\n",
       ".hoogle-sub {\n",
       "display: block;\n",
       "margin-left: 0.4em;\n",
       "}\n",
       ".hoogle-package {\n",
       "font-weight: bold;\n",
       "font-style: italic;\n",
       "}\n",
       ".hoogle-module {\n",
       "font-weight: bold;\n",
       "}\n",
       ".hoogle-class {\n",
       "font-weight: bold;\n",
       "}\n",
       ".get-type {\n",
       "color: green;\n",
       "font-weight: bold;\n",
       "font-family: monospace;\n",
       "display: block;\n",
       "white-space: pre-wrap;\n",
       "}\n",
       ".show-type {\n",
       "color: green;\n",
       "font-weight: bold;\n",
       "font-family: monospace;\n",
       "margin-left: 1em;\n",
       "}\n",
       ".mono {\n",
       "font-family: monospace;\n",
       "display: block;\n",
       "}\n",
       ".err-msg {\n",
       "color: red;\n",
       "font-style: italic;\n",
       "font-family: monospace;\n",
       "white-space: pre;\n",
       "display: block;\n",
       "}\n",
       "#unshowable {\n",
       "color: red;\n",
       "font-weight: bold;\n",
       "}\n",
       ".err-msg.in.collapse {\n",
       "padding-top: 0.7em;\n",
       "}\n",
       ".highlight-code {\n",
       "white-space: pre;\n",
       "font-family: monospace;\n",
       "}\n",
       ".suggestion-warning { \n",
       "font-weight: bold;\n",
       "color: rgb(200, 130, 0);\n",
       "}\n",
       ".suggestion-error { \n",
       "font-weight: bold;\n",
       "color: red;\n",
       "}\n",
       ".suggestion-name {\n",
       "font-weight: bold;\n",
       "}\n",
       "</style><span class='get-type'>(.) :: forall b c a. (b -> c) -> (a -> b) -> a -> c</span>"
      ],
      "text/plain": [
       "(.) :: forall b c a. (b -> c) -> (a -> b) -> a -> c"
      ]
     },
     "metadata": {},
     "output_type": "display_data"
    }
   ],
   "source": [
    ":type (.)"
   ]
  },
  {
   "cell_type": "code",
   "execution_count": 21,
   "metadata": {},
   "outputs": [
    {
     "data": {
      "text/plain": [
       "23"
      ]
     },
     "metadata": {},
     "output_type": "display_data"
    }
   ],
   "source": [
    "h = (+3) . (*2)\n",
    "\n",
    "h 10"
   ]
  },
  {
   "cell_type": "markdown",
   "metadata": {},
   "source": [
    "참고로 괄호가 여러 개 겹쳐 있을 때 함수 합성 연산자(`.`)와 함수 적용 연산자 (`$`)를 함께 사용하면,\n",
    "여러 개의 함수를 연달아 호출하는 식을 표현할 때 여러 겹으로 겹치는 괄호 때문에 눈이 아픈 코드 대신에\n",
    "괄호 없이 이 두 연산자들로만 연결된 식으로 바꿔 쓸 수 있다.\n",
    "\n",
    "````haskell\n",
    "f1 . f2 . f3 . f4 $ x == f1 (f2 (f3 (f4 x)))\n",
    "````"
   ]
  },
  {
   "cell_type": "code",
   "execution_count": 22,
   "metadata": {},
   "outputs": [
    {
     "data": {
      "text/plain": [
       "150"
      ]
     },
     "metadata": {},
     "output_type": "display_data"
    },
    {
     "data": {
      "text/plain": [
       "150"
      ]
     },
     "metadata": {},
     "output_type": "display_data"
    }
   ],
   "source": [
    "(+100) ((2*) ((^2) (floor (sqrt 26))))   -- 26의 제곱근을 내림한 정수의 제곱에다 두배를 한 다음 100을 더하기\n",
    "\n",
    "(+100) . (2*) . (^2) . floor . sqrt $ 26 -- 보통 빈칸을 넣기 때문에 길이가 줄어들진 않지만 괄호 파악을 안해도 되어서 눈은 좀 덜 아픔"
   ]
  },
  {
   "cell_type": "markdown",
   "metadata": {},
   "source": [
    "### Folds over lists\n",
    "(리스트에 대한 fold)\n",
    "\n",
    "`sum`이나 `product`같은 것을 더 일반화할 수 있는 고차함수를 살펴보자."
   ]
  },
  {
   "cell_type": "code",
   "execution_count": 23,
   "metadata": {},
   "outputs": [
    {
     "data": {
      "text/plain": [
       "9"
      ]
     },
     "metadata": {},
     "output_type": "display_data"
    },
    {
     "data": {
      "text/plain": [
       "24"
      ]
     },
     "metadata": {},
     "output_type": "display_data"
    }
   ],
   "source": [
    "foldr (+) 0 [2,3,4]  -- 2 + (3 + (4 + 0))\n",
    "foldr (*) 1 [2,3,4]  -- 2 * (3 * (4 * 1))"
   ]
  },
  {
   "cell_type": "code",
   "execution_count": 24,
   "metadata": {},
   "outputs": [
    {
     "data": {
      "text/plain": [
       "9"
      ]
     },
     "metadata": {},
     "output_type": "display_data"
    },
    {
     "data": {
      "text/plain": [
       "24"
      ]
     },
     "metadata": {},
     "output_type": "display_data"
    }
   ],
   "source": [
    "foldl (+) 0 [2,3,4]  -- ((0 + 2) + 3) + 4\n",
    "foldl (*) 1 [2,3,4]  -- ((1 * 2) * 3) * 4"
   ]
  },
  {
   "cell_type": "code",
   "execution_count": 25,
   "metadata": {},
   "outputs": [
    {
     "data": {
      "text/plain": [
       "-97"
      ]
     },
     "metadata": {},
     "output_type": "display_data"
    },
    {
     "data": {
      "text/plain": [
       "91"
      ]
     },
     "metadata": {},
     "output_type": "display_data"
    }
   ],
   "source": [
    "foldr (-) 100 [2,3,4]  -- 2 - (3 - (4 - 100))\n",
    "foldl (-) 100 [2,3,4]  -- ((100 - 2) - 3) - 4"
   ]
  },
  {
   "cell_type": "markdown",
   "metadata": {},
   "source": [
    "----\n",
    "## Recursive data types\n",
    "(재귀적 데이터 타입)\n",
    "\n",
    "간단한 재귀적 테이터 타입의 예를 들 때 가장 많이 사용하는 것은 자연수(음이 아닌 정수)의 일진법 형태이다.\n",
    "아래 `Nat`데이타 타입에서 `S`의 개수가 자연수의 값에 해당한다. "
   ]
  },
  {
   "cell_type": "code",
   "execution_count": 26,
   "metadata": {},
   "outputs": [],
   "source": [
    "data Nat = Z      -- 귀납 기초: Z는 자연수이다\n",
    "         | S Nat  -- 귀납 단계: 자연수 n으로부터 다음 자연수 (S n)을 만들 수 있다 \n",
    "       deriving Show"
   ]
  },
  {
   "cell_type": "code",
   "execution_count": 27,
   "metadata": {},
   "outputs": [
    {
     "data": {
      "text/plain": [
       "Z"
      ]
     },
     "metadata": {},
     "output_type": "display_data"
    },
    {
     "data": {
      "text/plain": [
       "S Z"
      ]
     },
     "metadata": {},
     "output_type": "display_data"
    },
    {
     "data": {
      "text/plain": [
       "S (S Z)"
      ]
     },
     "metadata": {},
     "output_type": "display_data"
    },
    {
     "data": {
      "text/plain": [
       "S (S (S Z))"
      ]
     },
     "metadata": {},
     "output_type": "display_data"
    }
   ],
   "source": [
    "Z           -- 0\n",
    "S Z         -- 1\n",
    "S (S Z)     -- 2\n",
    "S (S (S Z)) -- ..."
   ]
  },
  {
   "cell_type": "markdown",
   "metadata": {},
   "source": [
    "컴퓨터는 정수를 표현할 때 일진법보다 효율적인 이진법을 쓰므로 하스켈을 포함한 대부분의 언어에서 기본 타입으로 제공하는 정수 타입도 그에 기반한다. 우리가 정의한 일진법 자연수를 하스켈에서 기본적으로 제공하는 정수 타입으로 바꾸는 `nat2int` 함수를 작성해 보자."
   ]
  },
  {
   "cell_type": "code",
   "execution_count": 28,
   "metadata": {},
   "outputs": [],
   "source": [
    "nat2int :: Nat -> Integer\n",
    "nat2int Z     = 0\n",
    "nat2int (S n) = 1 + nat2int n"
   ]
  },
  {
   "cell_type": "code",
   "execution_count": 29,
   "metadata": {},
   "outputs": [
    {
     "data": {
      "text/plain": [
       "0"
      ]
     },
     "metadata": {},
     "output_type": "display_data"
    },
    {
     "data": {
      "text/plain": [
       "2"
      ]
     },
     "metadata": {},
     "output_type": "display_data"
    },
    {
     "data": {
      "text/plain": [
       "5"
      ]
     },
     "metadata": {},
     "output_type": "display_data"
    }
   ],
   "source": [
    "nat2int Z\n",
    "nat2int (S(S Z)) -- = 1 + nat2int (S Z) = 1 + 1 + nat2int Z = 1 + 1 + 0 = 2\n",
    "nat2int (S(S(S(S(S Z)))))"
   ]
  },
  {
   "cell_type": "markdown",
   "metadata": {},
   "source": [
    "반대로 하스켈 기본 타입 정수를 Nat 타입의 일진수 자연수로 변환하는 함수를 작성해 보자.\n",
    "음수에 해당하는 정수는 없으므로 그냥 `Z`로 변환하기로 하자."
   ]
  },
  {
   "cell_type": "code",
   "execution_count": 30,
   "metadata": {},
   "outputs": [
    {
     "data": {
      "text/plain": [
       "Z"
      ]
     },
     "metadata": {},
     "output_type": "display_data"
    },
    {
     "data": {
      "text/plain": [
       "Z"
      ]
     },
     "metadata": {},
     "output_type": "display_data"
    },
    {
     "data": {
      "text/plain": [
       "S (S Z)"
      ]
     },
     "metadata": {},
     "output_type": "display_data"
    },
    {
     "data": {
      "text/plain": [
       "S (S (S (S (S Z))))"
      ]
     },
     "metadata": {},
     "output_type": "display_data"
    }
   ],
   "source": [
    "int2nat n = if n <= 0 then Z\n",
    "                      else S (int2nat (n-1))\n",
    "\n",
    "int2nat (-3)\n",
    "int2nat 0\n",
    "int2nat 2\n",
    "int2nat 5"
   ]
  },
  {
   "cell_type": "code",
   "execution_count": 31,
   "metadata": {},
   "outputs": [
    {
     "data": {
      "text/plain": [
       "Z"
      ]
     },
     "metadata": {},
     "output_type": "display_data"
    },
    {
     "data": {
      "text/plain": [
       "Z"
      ]
     },
     "metadata": {},
     "output_type": "display_data"
    },
    {
     "data": {
      "text/plain": [
       "S (S Z)"
      ]
     },
     "metadata": {},
     "output_type": "display_data"
    },
    {
     "data": {
      "text/plain": [
       "S (S (S (S (S Z))))"
      ]
     },
     "metadata": {},
     "output_type": "display_data"
    }
   ],
   "source": [
    "int2nat' n  | n <= 0    = Z\n",
    "            | otherwise = S (int2nat' (n-1))\n",
    "\n",
    "int2nat' (-3)\n",
    "int2nat' 0\n",
    "int2nat' 2\n",
    "int2nat' 5"
   ]
  },
  {
   "cell_type": "markdown",
   "metadata": {},
   "source": [
    "이번에는 일진수 자연수의 덧셈 함수 `plus :: Nat -> Nat -> Nat`을 작성해보자"
   ]
  },
  {
   "cell_type": "code",
   "execution_count": 32,
   "metadata": {},
   "outputs": [],
   "source": [
    "plus :: Nat -> Nat -> Nat\n",
    "plus Z     m = m            -- (1)번 등식\n",
    "plus (S n) m = S (plus n m) -- (2)번 등식"
   ]
  },
  {
   "cell_type": "code",
   "execution_count": 33,
   "metadata": {},
   "outputs": [
    {
     "data": {
      "text/plain": [
       "Z"
      ]
     },
     "metadata": {},
     "output_type": "display_data"
    },
    {
     "data": {
      "text/plain": [
       "S (S Z)"
      ]
     },
     "metadata": {},
     "output_type": "display_data"
    },
    {
     "data": {
      "text/plain": [
       "S (S (S (S Z)))"
      ]
     },
     "metadata": {},
     "output_type": "display_data"
    }
   ],
   "source": [
    "plus Z Z\n",
    "plus Z (S(S Z))\n",
    "plus (S(S Z)) (S(S Z))"
   ]
  },
  {
   "cell_type": "markdown",
   "metadata": {},
   "source": [
    "```haskell\n",
    "  plus (S(S Z)) (S(S Z))   -- (2)번 등식 적용 n=S Z, m=S(S Z)\n",
    "= S( plus (S Z) (S(S Z)) ) -- (2)번 등식 적용 n=Z, m=S(S Z)\n",
    "= S(S( plus Z (S(S Z)) ))  -- (1)번 등식 적용 m=S(S Z)\n",
    "= S(S( S(S Z) )\n",
    "```"
   ]
  },
  {
   "cell_type": "markdown",
   "metadata": {},
   "source": [
    "----\n",
    "연습문제 02-01\n",
    "\n",
    "`Nat` 타입의 두 일진수 자연수의 곱셈 `times :: Nat -> Nat -> Nat`의 정의를 완성하라.\n",
    "    위에 정의된 `plus` 함수를 활용해도 좋다.\n",
    "\n",
    "연습문제 02-02\n",
    "\n",
    "`Nat` 타입의 두 일진수 자연수의 뺄셈 `minus :: Nat -> Nat -> Nat`의 정의를 완성하라.\n",
    "    자연수에 음수는 없으므로 정수 뺄셈이라면 음수가 나와야 하는 경우는 0에 해당하는 `Z`로 처리하라.\n",
    "\n",
    "위의 두 연습문제 풀이 과정에서 `Int` 타입 등으로 변환하지 말고 `Nat`을 직접 처리해서 `times`와 `minus`를 정의하라."
   ]
  },
  {
   "cell_type": "code",
   "execution_count": 34,
   "metadata": {},
   "outputs": [],
   "source": [
    "times :: Nat -> Nat -> Nat\n",
    "times Z     m = undefined\n",
    "times (S n) m = undefined\n",
    "\n",
    "minus :: Nat -> Nat -> Nat\n",
    "minus Z     m     = undefined\n",
    "minus (S n) (S m) = undefined"
   ]
  },
  {
   "cell_type": "code",
   "execution_count": 35,
   "metadata": {},
   "outputs": [
    {
     "ename": "",
     "evalue": "",
     "header": "MessageHeader {mhIdentifiers = [\"cf8eb5a9-40f5-4618-b486-b06f281f2641\"], mhParentHeader = Just (MessageHeader {mhIdentifiers = [\"cf8eb5a9-40f5-4618-b486-b06f281f2641\"], mhParentHeader = Nothing, mhMetadata = Metadata (fromList [(\"recordTiming\",Bool False),(\"deletedCells\",Array []),(\"cellId\",String \"c52ba428-8e8a-4dbd-bf2c-40887d854433\")]), mhMessageId = UUID {uuidToString = \"27b4d763-1282-40e4-958b-990ad1267c85\"}, mhSessionId = UUID {uuidToString = \"cf8eb5a9-40f5-4618-b486-b06f281f2641\"}, mhUsername = \"\", mhMsgType = ExecuteRequestMessage, mhBuffers = []}), mhMetadata = Metadata (fromList []), mhMessageId = UUID {uuidToString = \"bc3554e4-1b33-4f9e-8bee-87ba31d4b452\"}, mhSessionId = UUID {uuidToString = \"cf8eb5a9-40f5-4618-b486-b06f281f2641\"}, mhUsername = \"\", mhMsgType = ExecuteErrorMessage, mhBuffers = []}",
     "output_type": "error",
     "traceback": [
      "Prelude.undefined\nCallStack (from HasCallStack):\n  error, called at libraries/base/GHC/Err.hs:78:14 in base:GHC.Err\n  undefined, called at <interactive>:3:17 in interactive:Ghci1492"
     ]
    }
   ],
   "source": [
    "times (S(S(S Z))) Z\n",
    "times Z (S(S(S Z)))\n",
    "times (S(S Z)) (S(S(S Z)))\n",
    "\n",
    "minus Z (S(S(S Z)))\n",
    "minus (S(S Z)) (S(S Z))\n",
    "minus (S(S Z)) (S(S(S(S Z)))) \n",
    "minus (S(S(S(S Z)))) (S(S Z)) "
   ]
  },
  {
   "cell_type": "markdown",
   "metadata": {},
   "source": [
    "----"
   ]
  },
  {
   "cell_type": "markdown",
   "metadata": {},
   "source": [
    "다음으로는 하스켈에서 제공하는 리스트 타입인 `[a]`를 대신해서\n",
    "그와 같은 구조의 리스트 타입인 `List a` 우리 나름대로 재귀적 데이타 타입으로 정의해 보자.\n",
    "이렇게 해보면 리스트 타입에 대해 더 확실히 이해할 수 있다.\n",
    "\n",
    "리스트 타입 `List a`의 구조는 자연수와 유사하다.\n",
    "빈 리스트를 나타내는 데이타 상수가 `Nil`이다.\n",
    "그리고 기존의 `List a`타입의 리스트에 `a` 타입의 원소를\n",
    "맨 앞에 하나 추가해 새로운 리스트를 만드는 데이타 생성자가 `Cons`이다.\n",
    "실제 리스트 타입도 타입과 상수의 이름만 다를 뿐 이와 같은 구조를 갖고 있다."
   ]
  },
  {
   "cell_type": "code",
   "execution_count": 36,
   "metadata": {},
   "outputs": [],
   "source": [
    "-- data Nat = Z   | S      Nat\n",
    "data List a = Nil | Cons a (List a)    deriving (Eq,Ord,Show)\n",
    "-- data [] a = [] | (:)  a ([]  a) -- 이렇게 하스켈 표준라이브러리에서 정의하고 있다"
   ]
  },
  {
   "cell_type": "code",
   "execution_count": 37,
   "metadata": {},
   "outputs": [],
   "source": [
    "l1, l2 :: List Int\n",
    "l1 = Cons 1 Nil\n",
    "l2 = Cons 1 (Cons 2 (Cons 3 Nil))"
   ]
  },
  {
   "cell_type": "code",
   "execution_count": 38,
   "metadata": {},
   "outputs": [
    {
     "data": {
      "text/html": [
       "<style>/* Styles used for the Hoogle display in the pager */\n",
       ".hoogle-doc {\n",
       "display: block;\n",
       "padding-bottom: 1.3em;\n",
       "padding-left: 0.4em;\n",
       "}\n",
       ".hoogle-code {\n",
       "display: block;\n",
       "font-family: monospace;\n",
       "white-space: pre;\n",
       "}\n",
       ".hoogle-text {\n",
       "display: block;\n",
       "}\n",
       ".hoogle-name {\n",
       "color: green;\n",
       "font-weight: bold;\n",
       "}\n",
       ".hoogle-head {\n",
       "font-weight: bold;\n",
       "}\n",
       ".hoogle-sub {\n",
       "display: block;\n",
       "margin-left: 0.4em;\n",
       "}\n",
       ".hoogle-package {\n",
       "font-weight: bold;\n",
       "font-style: italic;\n",
       "}\n",
       ".hoogle-module {\n",
       "font-weight: bold;\n",
       "}\n",
       ".hoogle-class {\n",
       "font-weight: bold;\n",
       "}\n",
       ".get-type {\n",
       "color: green;\n",
       "font-weight: bold;\n",
       "font-family: monospace;\n",
       "display: block;\n",
       "white-space: pre-wrap;\n",
       "}\n",
       ".show-type {\n",
       "color: green;\n",
       "font-weight: bold;\n",
       "font-family: monospace;\n",
       "margin-left: 1em;\n",
       "}\n",
       ".mono {\n",
       "font-family: monospace;\n",
       "display: block;\n",
       "}\n",
       ".err-msg {\n",
       "color: red;\n",
       "font-style: italic;\n",
       "font-family: monospace;\n",
       "white-space: pre;\n",
       "display: block;\n",
       "}\n",
       "#unshowable {\n",
       "color: red;\n",
       "font-weight: bold;\n",
       "}\n",
       ".err-msg.in.collapse {\n",
       "padding-top: 0.7em;\n",
       "}\n",
       ".highlight-code {\n",
       "white-space: pre;\n",
       "font-family: monospace;\n",
       "}\n",
       ".suggestion-warning { \n",
       "font-weight: bold;\n",
       "color: rgb(200, 130, 0);\n",
       "}\n",
       ".suggestion-error { \n",
       "font-weight: bold;\n",
       "color: red;\n",
       "}\n",
       ".suggestion-name {\n",
       "font-weight: bold;\n",
       "}\n",
       "</style><span class='get-type'>l3 :: List Bool</span>"
      ],
      "text/plain": [
       "l3 :: List Bool"
      ]
     },
     "metadata": {},
     "output_type": "display_data"
    },
    {
     "data": {
      "text/html": [
       "<style>/* Styles used for the Hoogle display in the pager */\n",
       ".hoogle-doc {\n",
       "display: block;\n",
       "padding-bottom: 1.3em;\n",
       "padding-left: 0.4em;\n",
       "}\n",
       ".hoogle-code {\n",
       "display: block;\n",
       "font-family: monospace;\n",
       "white-space: pre;\n",
       "}\n",
       ".hoogle-text {\n",
       "display: block;\n",
       "}\n",
       ".hoogle-name {\n",
       "color: green;\n",
       "font-weight: bold;\n",
       "}\n",
       ".hoogle-head {\n",
       "font-weight: bold;\n",
       "}\n",
       ".hoogle-sub {\n",
       "display: block;\n",
       "margin-left: 0.4em;\n",
       "}\n",
       ".hoogle-package {\n",
       "font-weight: bold;\n",
       "font-style: italic;\n",
       "}\n",
       ".hoogle-module {\n",
       "font-weight: bold;\n",
       "}\n",
       ".hoogle-class {\n",
       "font-weight: bold;\n",
       "}\n",
       ".get-type {\n",
       "color: green;\n",
       "font-weight: bold;\n",
       "font-family: monospace;\n",
       "display: block;\n",
       "white-space: pre-wrap;\n",
       "}\n",
       ".show-type {\n",
       "color: green;\n",
       "font-weight: bold;\n",
       "font-family: monospace;\n",
       "margin-left: 1em;\n",
       "}\n",
       ".mono {\n",
       "font-family: monospace;\n",
       "display: block;\n",
       "}\n",
       ".err-msg {\n",
       "color: red;\n",
       "font-style: italic;\n",
       "font-family: monospace;\n",
       "white-space: pre;\n",
       "display: block;\n",
       "}\n",
       "#unshowable {\n",
       "color: red;\n",
       "font-weight: bold;\n",
       "}\n",
       ".err-msg.in.collapse {\n",
       "padding-top: 0.7em;\n",
       "}\n",
       ".highlight-code {\n",
       "white-space: pre;\n",
       "font-family: monospace;\n",
       "}\n",
       ".suggestion-warning { \n",
       "font-weight: bold;\n",
       "color: rgb(200, 130, 0);\n",
       "}\n",
       ".suggestion-error { \n",
       "font-weight: bold;\n",
       "color: red;\n",
       "}\n",
       ".suggestion-name {\n",
       "font-weight: bold;\n",
       "}\n",
       "</style><span class='get-type'>l4 :: List Bool</span>"
      ],
      "text/plain": [
       "l4 :: List Bool"
      ]
     },
     "metadata": {},
     "output_type": "display_data"
    }
   ],
   "source": [
    "l3 = Cons True Nil\n",
    "l4 = Cons False (Cons True Nil)\n",
    "\n",
    ":type l3\n",
    ":type l4"
   ]
  },
  {
   "cell_type": "markdown",
   "metadata": {},
   "source": [
    "리스트의 길이를 구하는 재귀함수를 다음과 같이 작성할 수 있다."
   ]
  },
  {
   "cell_type": "code",
   "execution_count": 39,
   "metadata": {},
   "outputs": [],
   "source": [
    "len Nil         = 0\n",
    "len (Cons _ xs) = 1 + len xs"
   ]
  },
  {
   "cell_type": "code",
   "execution_count": 40,
   "metadata": {},
   "outputs": [
    {
     "data": {
      "text/plain": [
       "0"
      ]
     },
     "metadata": {},
     "output_type": "display_data"
    },
    {
     "data": {
      "text/plain": [
       "3"
      ]
     },
     "metadata": {},
     "output_type": "display_data"
    },
    {
     "data": {
      "text/plain": [
       "2"
      ]
     },
     "metadata": {},
     "output_type": "display_data"
    }
   ],
   "source": [
    "len Nil\n",
    "len (Cons 3 (Cons 4 (Cons 5 Nil)))\n",
    "len l4"
   ]
  },
  {
   "cell_type": "markdown",
   "metadata": {},
   "source": [
    "----\n",
    "연습문제 02-03\n",
    "\n",
    "정수 리스트의 합을 구하는 sumList 함수를 작성해 보라 (매우쉬움 지난시간에 하스켈 리스트에 대한 걸 옮기면)\n",
    "\n",
    "연습문제 02-04\n",
    "\n",
    "두 리스트를 이어붙이는 함수 append를 작성하라 (하스켈 리스트에서 ++ 연산자에 해당. 힌트 일진수 자연수의 덧셈과 같은 구조)"
   ]
  },
  {
   "cell_type": "code",
   "execution_count": 41,
   "metadata": {},
   "outputs": [
    {
     "data": {
      "text/plain": [
       "[1,2,4,7,9,0]"
      ]
     },
     "metadata": {},
     "output_type": "display_data"
    }
   ],
   "source": [
    "[1,2,4]++[7,9,0]"
   ]
  },
  {
   "cell_type": "code",
   "execution_count": 42,
   "metadata": {},
   "outputs": [],
   "source": [
    "-- sumList   (Cons 3 (Cons 4 (Cons 5 Nil)))   ==   12\n",
    "sumList Nil         = undefined\n",
    "sumList (Cons x xs) = undefined\n",
    "\n",
    "{- append   (Cons 1 (Cons 2 Nil))   (Cons 3 (Cons 4 (Cons 5 Nil)))\n",
    "     ==   (Cons 1 (Cons 2 (Cons 3 (Cons 4 (Cons 5 Nil))))) -}\n",
    "append Nil         ys = undefined\n",
    "append (Cons x xs) ys = undefined"
   ]
  },
  {
   "cell_type": "markdown",
   "metadata": {},
   "source": [
    "---\n",
    "리스트는 어떤 구조 아래에 반복되는 구조가 한개씩만 있는 나무구조 즉 일진트리라고 볼 수 있다.\n",
    "\n",
    "일진트리도 나무구조가 아닌 것은 아니지만 너무 단순한 나무구조이기 때문에,\n",
    "보통 나무구조라 할 때는 두 개 이상의 구조가 반복되는 경우를 예로 드는 것이 대부분.\n",
    "일진트리를 제외하고 가장 간단한 나무구조인 이진트리를 하스켈로 다루어 보자."
   ]
  },
  {
   "cell_type": "code",
   "execution_count": 43,
   "metadata": {},
   "outputs": [],
   "source": [
    "data Tree a = Null | Node a (Tree a) (Tree a)  deriving Show "
   ]
  },
  {
   "cell_type": "code",
   "execution_count": 44,
   "metadata": {},
   "outputs": [],
   "source": [
    "{-# LANGUAGE FlexibleContexts #-}\n",
    "import qualified Data.Tree as RoseTree\n",
    "import Diagrams.Prelude\n",
    "import Diagrams.TwoD.Layout.Tree\n",
    "import IHaskell.Display.Diagrams\n",
    "\n",
    "renderBinTree t =\n",
    "  renderTree ((<> rect 2.25 1.5 # fc white # lc white) . text)\n",
    "             (~~)\n",
    "             (symmLayout' (with & slHSep .~ 4.75 & slVSep .~ 2.25) \n",
    "                          (toRoseTree t))\n",
    "  # centerXY # pad 1.1\n",
    "\n",
    "toRoseTree Null           = RoseTree.Node \"\" []\n",
    "toRoseTree (Node v t1 t2) = RoseTree.Node (show v) [toRoseTree t1, toRoseTree t2]"
   ]
  },
  {
   "cell_type": "code",
   "execution_count": 45,
   "metadata": {},
   "outputs": [],
   "source": [
    "t1 = Node 2\n",
    "        (Node 1 Null Null)\n",
    "        (Node 3 Null Null)\n",
    "\n",
    "t2 = Node 3\n",
    "        (Node 4 Null Null)\n",
    "        (Node 5\n",
    "            (Node 6 Null Null)\n",
    "            Null)"
   ]
  },
  {
   "cell_type": "code",
   "execution_count": 46,
   "metadata": {},
   "outputs": [
    {
     "data": {
      "text/plain": [
       "Node 2 (Node 1 Null Null) (Node 3 Null Null)"
      ]
     },
     "metadata": {},
     "output_type": "display_data"
    },
    {
     "data": {
      "text/plain": [
       "Node 3 (Node 4 Null Null) (Node 5 (Node 6 Null Null) Null)"
      ]
     },
     "metadata": {},
     "output_type": "display_data"
    }
   ],
   "source": [
    "t1\n",
    "t2"
   ]
  },
  {
   "cell_type": "code",
   "execution_count": 47,
   "metadata": {},
   "outputs": [
    {
     "data": {
      "image/png": "[encoded data removed]",
      "image/svg+xml": [
       "<?xml version=\"1.0\" encoding=\"UTF-8\"?>\n",
       "<svg xmlns=\"http://www.w3.org/2000/svg\" xmlns:xlink=\"http://www.w3.org/1999/xlink\" width=\"469.896712pt\" height=\"170.871532pt\" viewBox=\"0 0 469.896712 170.871532\" version=\"1.1\">\n",
       "<defs>\n",
       "<g>\n",
       "<symbol overflow=\"visible\" id=\"glyph-2020-09-0645560.398108462s0-0\">\n",
       "<path style=\"stroke:none;\" d=\"M 1.140625 0 L 1.140625 -23 L 10.3125 -23 L 10.3125 0 Z M 2.296875 -1.140625 L 9.171875 -1.140625 L 9.171875 -21.859375 L 2.296875 -21.859375 Z M 2.296875 -1.140625 \"/>\n",
       "</symbol>\n",
       "<symbol overflow=\"visible\" id=\"glyph-2020-09-0645560.398108462s0-1\">\n",
       "<path style=\"stroke:none;\" d=\"M 18.515625 -6.234375 C 18.515625 -5.210938 18.335938 -4.296875 17.984375 -3.484375 C 17.628906 -2.671875 17.113281 -1.984375 16.4375 -1.421875 C 15.757812 -0.859375 14.921875 -0.421875 13.921875 -0.109375 C 12.921875 0.191406 11.769531 0.34375 10.46875 0.34375 C 9.007812 0.34375 7.769531 0.160156 6.75 -0.203125 C 5.738281 -0.578125 4.90625 -1.0625 4.25 -1.65625 C 3.601562 -2.257812 3.117188 -2.945312 2.796875 -3.71875 C 2.472656 -4.488281 2.257812 -5.28125 2.15625 -6.09375 L 5.296875 -6.390625 C 5.378906 -5.753906 5.539062 -5.175781 5.78125 -4.65625 C 6.03125 -4.144531 6.363281 -3.703125 6.78125 -3.328125 C 7.195312 -2.960938 7.707031 -2.675781 8.3125 -2.46875 C 8.925781 -2.269531 9.644531 -2.171875 10.46875 -2.171875 C 12 -2.171875 13.195312 -2.523438 14.0625 -3.234375 C 14.9375 -3.941406 15.375 -4.976562 15.375 -6.34375 C 15.375 -7.101562 15.175781 -7.734375 14.78125 -8.234375 C 14.394531 -8.742188 13.910156 -9.144531 13.328125 -9.4375 C 12.753906 -9.738281 12.128906 -9.953125 11.453125 -10.078125 C 10.773438 -10.203125 10.148438 -10.265625 9.578125 -10.265625 L 7.859375 -10.265625 L 7.859375 -12.890625 L 9.5 -12.890625 C 10.070312 -12.890625 10.664062 -12.957031 11.28125 -13.09375 C 11.90625 -13.238281 12.472656 -13.460938 12.984375 -13.765625 C 13.492188 -14.078125 13.914062 -14.484375 14.25 -14.984375 C 14.582031 -15.484375 14.75 -16.085938 14.75 -16.796875 C 14.75 -17.992188 14.375 -18.925781 13.625 -19.59375 C 12.875 -20.257812 11.765625 -20.59375 10.296875 -20.59375 C 8.960938 -20.59375 7.878906 -20.25 7.046875 -19.5625 C 6.222656 -18.875 5.742188 -17.910156 5.609375 -16.671875 L 2.5625 -16.90625 C 2.6875 -17.945312 2.972656 -18.851562 3.421875 -19.625 C 3.867188 -20.40625 4.4375 -21.050781 5.125 -21.5625 C 5.820312 -22.070312 6.613281 -22.453125 7.5 -22.703125 C 8.382812 -22.960938 9.328125 -23.09375 10.328125 -23.09375 C 11.671875 -23.09375 12.816406 -22.929688 13.765625 -22.609375 C 14.710938 -22.296875 15.488281 -21.867188 16.09375 -21.328125 C 16.695312 -20.796875 17.140625 -20.164062 17.421875 -19.4375 C 17.710938 -18.71875 17.859375 -17.945312 17.859375 -17.125 C 17.859375 -16.507812 17.753906 -15.910156 17.546875 -15.328125 C 17.335938 -14.742188 17.03125 -14.210938 16.625 -13.734375 C 16.21875 -13.253906 15.703125 -12.832031 15.078125 -12.46875 C 14.453125 -12.113281 13.722656 -11.847656 12.890625 -11.671875 L 12.890625 -11.609375 C 13.816406 -11.503906 14.628906 -11.285156 15.328125 -10.953125 C 16.023438 -10.617188 16.609375 -10.207031 17.078125 -9.71875 C 17.554688 -9.226562 17.914062 -8.6875 18.15625 -8.09375 C 18.394531 -7.5 18.515625 -6.878906 18.515625 -6.234375 Z M 18.515625 -6.234375 \"/>\n",
       "</symbol>\n",
       "<symbol overflow=\"visible\" id=\"glyph-2020-09-0645560.398108462s0-2\">\n",
       "<path style=\"stroke:none;\" d=\"M 2.640625 0 L 2.640625 -2.4375 L 10.046875 -2.4375 L 10.046875 -19.65625 C 9.828125 -19.207031 9.445312 -18.78125 8.90625 -18.375 C 8.375 -17.976562 7.753906 -17.632812 7.046875 -17.34375 C 6.347656 -17.050781 5.597656 -16.816406 4.796875 -16.640625 C 4.003906 -16.460938 3.238281 -16.375 2.5 -16.375 L 2.5 -18.875 C 3.320312 -18.875 4.132812 -18.96875 4.9375 -19.15625 C 5.75 -19.351562 6.5 -19.625 7.1875 -19.96875 C 7.882812 -20.3125 8.503906 -20.71875 9.046875 -21.1875 C 9.585938 -21.65625 10.003906 -22.171875 10.296875 -22.734375 L 13.09375 -22.734375 L 13.09375 -2.4375 L 19.046875 -2.4375 L 19.046875 0 Z M 2.640625 0 \"/>\n",
       "</symbol>\n",
       "<symbol overflow=\"visible\" id=\"glyph-2020-09-0645560.398108462s0-3\">\n",
       "<path style=\"stroke:none;\" d=\"M 2.421875 0 L 2.421875 -1.96875 C 2.921875 -3.0625 3.570312 -4.066406 4.375 -4.984375 C 5.1875 -5.910156 6.050781 -6.78125 6.96875 -7.59375 C 7.882812 -8.40625 8.804688 -9.179688 9.734375 -9.921875 C 10.660156 -10.660156 11.492188 -11.394531 12.234375 -12.125 C 12.984375 -12.851562 13.59375 -13.585938 14.0625 -14.328125 C 14.539062 -15.078125 14.78125 -15.867188 14.78125 -16.703125 C 14.78125 -17.378906 14.671875 -17.957031 14.453125 -18.4375 C 14.234375 -18.925781 13.921875 -19.332031 13.515625 -19.65625 C 13.117188 -19.976562 12.648438 -20.210938 12.109375 -20.359375 C 11.566406 -20.515625 10.960938 -20.59375 10.296875 -20.59375 C 9.691406 -20.59375 9.125 -20.507812 8.59375 -20.34375 C 8.070312 -20.175781 7.613281 -19.921875 7.21875 -19.578125 C 6.832031 -19.242188 6.515625 -18.828125 6.265625 -18.328125 C 6.023438 -17.828125 5.863281 -17.242188 5.78125 -16.578125 L 2.671875 -16.875 C 2.773438 -17.726562 3.003906 -18.53125 3.359375 -19.28125 C 3.722656 -20.03125 4.21875 -20.6875 4.84375 -21.25 C 5.46875 -21.820312 6.234375 -22.269531 7.140625 -22.59375 C 8.054688 -22.925781 9.109375 -23.09375 10.296875 -23.09375 C 11.472656 -23.09375 12.53125 -22.957031 13.46875 -22.6875 C 14.40625 -22.414062 15.203125 -22.019531 15.859375 -21.5 C 16.523438 -20.976562 17.03125 -20.328125 17.375 -19.546875 C 17.71875 -18.773438 17.890625 -17.890625 17.890625 -16.890625 C 17.890625 -15.828125 17.648438 -14.84375 17.171875 -13.9375 C 16.691406 -13.039062 16.070312 -12.1875 15.3125 -11.375 C 14.550781 -10.5625 13.707031 -9.789062 12.78125 -9.0625 C 11.863281 -8.332031 10.96875 -7.609375 10.09375 -6.890625 C 9.21875 -6.171875 8.421875 -5.445312 7.703125 -4.71875 C 6.984375 -4 6.441406 -3.242188 6.078125 -2.453125 L 18.265625 -2.453125 L 18.265625 0 Z M 2.421875 0 \"/>\n",
       "</symbol>\n",
       "</g>\n",
       "</defs>\n",
       "<g id=\"surface8\">\n",
       "<path style=\"fill:none;stroke-width:1.133434;stroke-linecap:butt;stroke-linejoin:miter;stroke:rgb(0%,0%,0%);stroke-opacity:1;stroke-miterlimit:10;\" d=\"M 234.949219 27.183594 L 357.925781 85.433594 \"/>\n",
       "<path style=\"fill:none;stroke-width:1.133434;stroke-linecap:butt;stroke-linejoin:miter;stroke:rgb(0%,0%,0%);stroke-opacity:1;stroke-miterlimit:10;\" d=\"M 234.949219 27.183594 L 111.972656 85.433594 \"/>\n",
       "<path style=\"fill:none;stroke-width:1.133434;stroke-linecap:butt;stroke-linejoin:miter;stroke:rgb(0%,0%,0%);stroke-opacity:1;stroke-miterlimit:10;\" d=\"M 357.925781 85.4375 L 419.414062 143.6875 \"/>\n",
       "<path style=\"fill:none;stroke-width:1.133434;stroke-linecap:butt;stroke-linejoin:miter;stroke:rgb(0%,0%,0%);stroke-opacity:1;stroke-miterlimit:10;\" d=\"M 357.925781 85.4375 L 296.4375 143.6875 \"/>\n",
       "<path style=\"fill-rule:nonzero;fill:rgb(100%,100%,100%);fill-opacity:1;stroke-width:1.133434;stroke-linecap:butt;stroke-linejoin:miter;stroke:rgb(100%,100%,100%);stroke-opacity:1;stroke-miterlimit:10;\" d=\"M 448.539062 163.105469 L 448.539062 124.269531 L 390.289062 124.269531 L 390.289062 163.105469 Z M 448.539062 163.105469 \"/>\n",
       "<path style=\"fill-rule:nonzero;fill:rgb(100%,100%,100%);fill-opacity:1;stroke-width:1.133434;stroke-linecap:butt;stroke-linejoin:miter;stroke:rgb(100%,100%,100%);stroke-opacity:1;stroke-miterlimit:10;\" d=\"M 325.5625 163.105469 L 325.5625 124.269531 L 267.3125 124.269531 L 267.3125 163.105469 Z M 325.5625 163.105469 \"/>\n",
       "<path style=\"fill-rule:nonzero;fill:rgb(100%,100%,100%);fill-opacity:1;stroke-width:1.133434;stroke-linecap:butt;stroke-linejoin:miter;stroke:rgb(100%,100%,100%);stroke-opacity:1;stroke-miterlimit:10;\" d=\"M 387.050781 104.851562 L 387.050781 66.015625 L 328.800781 66.015625 L 328.800781 104.851562 Z M 387.050781 104.851562 \"/>\n",
       "<g style=\"fill:rgb(0%,0%,0%);fill-opacity:1;\">\n",
       "  <use xlink:href=\"#glyph-2020-09-0645560.398108462s0-1\" x=\"347.566657\" y=\"94.621313\"/>\n",
       "</g>\n",
       "<path style=\"fill:none;stroke-width:1.133434;stroke-linecap:butt;stroke-linejoin:miter;stroke:rgb(0%,0%,0%);stroke-opacity:1;stroke-miterlimit:10;\" d=\"M 111.972656 85.4375 L 173.460938 143.6875 \"/>\n",
       "<path style=\"fill:none;stroke-width:1.133434;stroke-linecap:butt;stroke-linejoin:miter;stroke:rgb(0%,0%,0%);stroke-opacity:1;stroke-miterlimit:10;\" d=\"M 111.972656 85.4375 L 50.484375 143.6875 \"/>\n",
       "<path style=\"fill-rule:nonzero;fill:rgb(100%,100%,100%);fill-opacity:1;stroke-width:1.133434;stroke-linecap:butt;stroke-linejoin:miter;stroke:rgb(100%,100%,100%);stroke-opacity:1;stroke-miterlimit:10;\" d=\"M 202.585938 163.105469 L 202.585938 124.269531 L 144.335938 124.269531 L 144.335938 163.105469 Z M 202.585938 163.105469 \"/>\n",
       "<path style=\"fill-rule:nonzero;fill:rgb(100%,100%,100%);fill-opacity:1;stroke-width:1.133434;stroke-linecap:butt;stroke-linejoin:miter;stroke:rgb(100%,100%,100%);stroke-opacity:1;stroke-miterlimit:10;\" d=\"M 79.609375 163.105469 L 79.609375 124.269531 L 21.359375 124.269531 L 21.359375 163.105469 Z M 79.609375 163.105469 \"/>\n",
       "<path style=\"fill-rule:nonzero;fill:rgb(100%,100%,100%);fill-opacity:1;stroke-width:1.133434;stroke-linecap:butt;stroke-linejoin:miter;stroke:rgb(100%,100%,100%);stroke-opacity:1;stroke-miterlimit:10;\" d=\"M 141.097656 104.851562 L 141.097656 66.015625 L 82.847656 66.015625 L 82.847656 104.851562 Z M 141.097656 104.851562 \"/>\n",
       "<g style=\"fill:rgb(0%,0%,0%);fill-opacity:1;\">\n",
       "  <use xlink:href=\"#glyph-2020-09-0645560.398108462s0-2\" x=\"101.615211\" y=\"94.621313\"/>\n",
       "</g>\n",
       "<path style=\"fill-rule:nonzero;fill:rgb(100%,100%,100%);fill-opacity:1;stroke-width:1.133434;stroke-linecap:butt;stroke-linejoin:miter;stroke:rgb(100%,100%,100%);stroke-opacity:1;stroke-miterlimit:10;\" d=\"M 264.074219 46.601562 L 264.074219 7.765625 L 205.824219 7.765625 L 205.824219 46.601562 Z M 264.074219 46.601562 \"/>\n",
       "<g style=\"fill:rgb(0%,0%,0%);fill-opacity:1;\">\n",
       "  <use xlink:href=\"#glyph-2020-09-0645560.398108462s0-3\" x=\"224.590934\" y=\"36.369654\"/>\n",
       "</g>\n",
       "</g>\n",
       "</svg>\n"
      ]
     },
     "metadata": {},
     "output_type": "display_data"
    }
   ],
   "source": [
    "diagram . renderBinTree $ t1"
   ]
  },
  {
   "cell_type": "code",
   "execution_count": 48,
   "metadata": {},
   "outputs": [
    {
     "data": {
      "image/png": "[encoded data removed]",
      "image/svg+xml": [
       "<?xml version=\"1.0\" encoding=\"UTF-8\"?>\n",
       "<svg xmlns=\"http://www.w3.org/2000/svg\" xmlns:xlink=\"http://www.w3.org/1999/xlink\" width=\"447.213595pt\" height=\"223.606798pt\" viewBox=\"0 0 447.213595 223.606798\" version=\"1.1\">\n",
       "<defs>\n",
       "<g>\n",
       "<symbol overflow=\"visible\" id=\"glyph-2020-09-0645560.767485574s0-0\">\n",
       "<path style=\"stroke:none;\" d=\"M 1.09375 0 L 1.09375 -21.90625 L 9.8125 -21.90625 L 9.8125 0 Z M 2.1875 -1.09375 L 8.734375 -1.09375 L 8.734375 -20.8125 L 2.1875 -20.8125 Z M 2.1875 -1.09375 \"/>\n",
       "</symbol>\n",
       "<symbol overflow=\"visible\" id=\"glyph-2020-09-0645560.767485574s0-1\">\n",
       "<path style=\"stroke:none;\" d=\"M 17.578125 -7.15625 C 17.578125 -6.082031 17.421875 -5.085938 17.109375 -4.171875 C 16.796875 -3.265625 16.332031 -2.472656 15.71875 -1.796875 C 15.101562 -1.128906 14.335938 -0.609375 13.421875 -0.234375 C 12.515625 0.140625 11.46875 0.328125 10.28125 0.328125 C 8.96875 0.328125 7.816406 0.078125 6.828125 -0.421875 C 5.847656 -0.921875 5.03125 -1.628906 4.375 -2.546875 C 3.726562 -3.472656 3.238281 -4.585938 2.90625 -5.890625 C 2.582031 -7.203125 2.421875 -8.671875 2.421875 -10.296875 C 2.421875 -12.191406 2.601562 -13.863281 2.96875 -15.3125 C 3.34375 -16.769531 3.875 -17.988281 4.5625 -18.96875 C 5.257812 -19.957031 6.109375 -20.707031 7.109375 -21.21875 C 8.109375 -21.726562 9.242188 -21.984375 10.515625 -21.984375 C 11.285156 -21.984375 12.003906 -21.898438 12.671875 -21.734375 C 13.347656 -21.578125 13.960938 -21.316406 14.515625 -20.953125 C 15.066406 -20.597656 15.550781 -20.125 15.96875 -19.53125 C 16.382812 -18.945312 16.710938 -18.226562 16.953125 -17.375 L 14.203125 -16.875 C 13.898438 -17.851562 13.421875 -18.554688 12.765625 -18.984375 C 12.109375 -19.421875 11.347656 -19.640625 10.484375 -19.640625 C 9.691406 -19.640625 8.972656 -19.453125 8.328125 -19.078125 C 7.679688 -18.710938 7.132812 -18.171875 6.6875 -17.453125 C 6.238281 -16.734375 5.894531 -15.847656 5.65625 -14.796875 C 5.414062 -13.742188 5.296875 -12.53125 5.296875 -11.15625 C 5.816406 -12.125 6.550781 -12.863281 7.5 -13.375 C 8.457031 -13.882812 9.550781 -14.140625 10.78125 -14.140625 C 11.8125 -14.140625 12.742188 -13.972656 13.578125 -13.640625 C 14.421875 -13.304688 15.140625 -12.832031 15.734375 -12.21875 C 16.328125 -11.613281 16.78125 -10.882812 17.09375 -10.03125 C 17.414062 -9.175781 17.578125 -8.21875 17.578125 -7.15625 Z M 14.65625 -7.03125 C 14.65625 -7.75 14.554688 -8.40625 14.359375 -9 C 14.171875 -9.601562 13.882812 -10.117188 13.5 -10.546875 C 13.113281 -10.972656 12.632812 -11.304688 12.0625 -11.546875 C 11.5 -11.785156 10.84375 -11.90625 10.09375 -11.90625 C 9.570312 -11.90625 9.039062 -11.816406 8.5 -11.640625 C 7.96875 -11.460938 7.484375 -11.195312 7.046875 -10.84375 C 6.617188 -10.5 6.265625 -10.066406 5.984375 -9.546875 C 5.710938 -9.023438 5.578125 -8.414062 5.578125 -7.71875 C 5.578125 -6.945312 5.679688 -6.21875 5.890625 -5.53125 C 6.109375 -4.84375 6.414062 -4.234375 6.8125 -3.703125 C 7.21875 -3.179688 7.703125 -2.765625 8.265625 -2.453125 C 8.835938 -2.148438 9.476562 -2 10.1875 -2 C 10.882812 -2 11.507812 -2.117188 12.0625 -2.359375 C 12.613281 -2.609375 13.078125 -2.953125 13.453125 -3.390625 C 13.835938 -3.828125 14.132812 -4.351562 14.34375 -4.96875 C 14.550781 -5.59375 14.65625 -6.28125 14.65625 -7.03125 Z M 14.65625 -7.03125 \"/>\n",
       "</symbol>\n",
       "<symbol overflow=\"visible\" id=\"glyph-2020-09-0645560.767485574s0-2\">\n",
       "<path style=\"stroke:none;\" d=\"M 17.640625 -7.125 C 17.640625 -6.050781 17.46875 -5.054688 17.125 -4.140625 C 16.78125 -3.234375 16.269531 -2.445312 15.59375 -1.78125 C 14.914062 -1.125 14.078125 -0.609375 13.078125 -0.234375 C 12.078125 0.140625 10.921875 0.328125 9.609375 0.328125 C 8.421875 0.328125 7.382812 0.1875 6.5 -0.09375 C 5.625 -0.375 4.878906 -0.753906 4.265625 -1.234375 C 3.660156 -1.722656 3.175781 -2.296875 2.8125 -2.953125 C 2.457031 -3.609375 2.203125 -4.304688 2.046875 -5.046875 L 4.96875 -5.390625 C 5.09375 -4.960938 5.257812 -4.546875 5.46875 -4.140625 C 5.6875 -3.742188 5.976562 -3.382812 6.34375 -3.0625 C 6.71875 -2.75 7.171875 -2.5 7.703125 -2.3125 C 8.242188 -2.125 8.898438 -2.03125 9.671875 -2.03125 C 10.421875 -2.03125 11.097656 -2.144531 11.703125 -2.375 C 12.316406 -2.613281 12.835938 -2.945312 13.265625 -3.375 C 13.703125 -3.800781 14.035156 -4.328125 14.265625 -4.953125 C 14.503906 -5.578125 14.625 -6.28125 14.625 -7.0625 C 14.625 -7.695312 14.507812 -8.289062 14.28125 -8.84375 C 14.0625 -9.394531 13.742188 -9.875 13.328125 -10.28125 C 12.910156 -10.6875 12.398438 -11.003906 11.796875 -11.234375 C 11.191406 -11.460938 10.503906 -11.578125 9.734375 -11.578125 C 9.253906 -11.578125 8.8125 -11.535156 8.40625 -11.453125 C 8 -11.367188 7.617188 -11.25 7.265625 -11.09375 C 6.921875 -10.945312 6.609375 -10.773438 6.328125 -10.578125 C 6.046875 -10.378906 5.78125 -10.175781 5.53125 -9.96875 L 2.71875 -9.96875 L 3.46875 -21.640625 L 16.3125 -21.640625 L 16.3125 -19.3125 L 6.125 -19.3125 L 5.65625 -12.5 C 6.175781 -12.894531 6.820312 -13.234375 7.59375 -13.515625 C 8.363281 -13.796875 9.273438 -13.9375 10.328125 -13.9375 C 11.453125 -13.9375 12.460938 -13.765625 13.359375 -13.421875 C 14.265625 -13.085938 15.03125 -12.617188 15.65625 -12.015625 C 16.289062 -11.410156 16.78125 -10.6875 17.125 -9.84375 C 17.46875 -9.007812 17.640625 -8.101562 17.640625 -7.125 Z M 17.640625 -7.125 \"/>\n",
       "</symbol>\n",
       "<symbol overflow=\"visible\" id=\"glyph-2020-09-0645560.767485574s0-3\">\n",
       "<path style=\"stroke:none;\" d=\"M 15.03125 -5.125 L 15.03125 0 L 12.140625 0 L 12.140625 -5.125 L 1.65625 -5.125 L 1.65625 -7.359375 L 11.84375 -21.640625 L 15.03125 -21.640625 L 15.03125 -7.390625 L 18.046875 -7.390625 L 18.046875 -5.125 Z M 12.140625 -18.515625 L 4.125 -7.390625 L 12.140625 -7.390625 Z M 12.140625 -18.515625 \"/>\n",
       "</symbol>\n",
       "<symbol overflow=\"visible\" id=\"glyph-2020-09-0645560.767485574s0-4\">\n",
       "<path style=\"stroke:none;\" d=\"M 17.640625 -5.9375 C 17.640625 -4.957031 17.46875 -4.082031 17.125 -3.3125 C 16.789062 -2.539062 16.300781 -1.882812 15.65625 -1.34375 C 15.007812 -0.8125 14.207031 -0.398438 13.25 -0.109375 C 12.300781 0.179688 11.207031 0.328125 9.96875 0.328125 C 8.570312 0.328125 7.390625 0.15625 6.421875 -0.1875 C 5.460938 -0.539062 4.671875 -1.003906 4.046875 -1.578125 C 3.429688 -2.148438 2.96875 -2.800781 2.65625 -3.53125 C 2.351562 -4.269531 2.148438 -5.03125 2.046875 -5.8125 L 5.03125 -6.078125 C 5.125 -5.484375 5.285156 -4.9375 5.515625 -4.4375 C 5.742188 -3.945312 6.054688 -3.523438 6.453125 -3.171875 C 6.847656 -2.816406 7.335938 -2.539062 7.921875 -2.34375 C 8.503906 -2.15625 9.1875 -2.0625 9.96875 -2.0625 C 11.414062 -2.0625 12.550781 -2.398438 13.375 -3.078125 C 14.207031 -3.753906 14.625 -4.738281 14.625 -6.03125 C 14.625 -6.757812 14.441406 -7.363281 14.078125 -7.84375 C 13.710938 -8.320312 13.253906 -8.703125 12.703125 -8.984375 C 12.148438 -9.273438 11.550781 -9.476562 10.90625 -9.59375 C 10.257812 -9.707031 9.660156 -9.765625 9.109375 -9.765625 L 7.484375 -9.765625 L 7.484375 -12.28125 L 9.046875 -12.28125 C 9.597656 -12.28125 10.164062 -12.34375 10.75 -12.46875 C 11.332031 -12.601562 11.867188 -12.816406 12.359375 -13.109375 C 12.847656 -13.410156 13.25 -13.796875 13.5625 -14.265625 C 13.875 -14.742188 14.03125 -15.320312 14.03125 -16 C 14.03125 -17.132812 13.675781 -18.019531 12.96875 -18.65625 C 12.257812 -19.289062 11.203125 -19.609375 9.796875 -19.609375 C 8.523438 -19.609375 7.492188 -19.28125 6.703125 -18.625 C 5.921875 -17.976562 5.46875 -17.0625 5.34375 -15.875 L 2.4375 -16.09375 C 2.550781 -17.082031 2.820312 -17.945312 3.25 -18.6875 C 3.6875 -19.425781 4.234375 -20.039062 4.890625 -20.53125 C 5.546875 -21.019531 6.296875 -21.382812 7.140625 -21.625 C 7.984375 -21.863281 8.878906 -21.984375 9.828125 -21.984375 C 11.109375 -21.984375 12.195312 -21.832031 13.09375 -21.53125 C 14 -21.226562 14.738281 -20.820312 15.3125 -20.3125 C 15.894531 -19.800781 16.320312 -19.195312 16.59375 -18.5 C 16.863281 -17.8125 17 -17.078125 17 -16.296875 C 17 -15.710938 16.898438 -15.144531 16.703125 -14.59375 C 16.503906 -14.039062 16.210938 -13.535156 15.828125 -13.078125 C 15.441406 -12.617188 14.953125 -12.21875 14.359375 -11.875 C 13.765625 -11.53125 13.070312 -11.28125 12.28125 -11.125 L 12.28125 -11.0625 C 13.15625 -10.957031 13.925781 -10.742188 14.59375 -10.421875 C 15.257812 -10.109375 15.816406 -9.71875 16.265625 -9.25 C 16.710938 -8.78125 17.050781 -8.257812 17.28125 -7.6875 C 17.519531 -7.125 17.640625 -6.539062 17.640625 -5.9375 Z M 17.640625 -5.9375 \"/>\n",
       "</symbol>\n",
       "</g>\n",
       "</defs>\n",
       "<g id=\"surface22\">\n",
       "<path style=\"fill:none;stroke-width:1.264911;stroke-linecap:butt;stroke-linejoin:miter;stroke:rgb(0%,0%,0%);stroke-opacity:1;stroke-miterlimit:10;\" d=\"M 223.605469 28.644531 L 340.644531 84.085938 \"/>\n",
       "<path style=\"fill:none;stroke-width:1.264911;stroke-linecap:butt;stroke-linejoin:miter;stroke:rgb(0%,0%,0%);stroke-opacity:1;stroke-miterlimit:10;\" d=\"M 223.605469 28.644531 L 106.566406 84.085938 \"/>\n",
       "<path style=\"fill:none;stroke-width:1.264911;stroke-linecap:butt;stroke-linejoin:miter;stroke:rgb(0%,0%,0%);stroke-opacity:1;stroke-miterlimit:10;\" d=\"M 340.644531 84.082031 L 399.164062 139.523438 \"/>\n",
       "<path style=\"fill:none;stroke-width:1.264911;stroke-linecap:butt;stroke-linejoin:miter;stroke:rgb(0%,0%,0%);stroke-opacity:1;stroke-miterlimit:10;\" d=\"M 340.644531 84.082031 L 282.125 139.523438 \"/>\n",
       "<path style=\"fill-rule:nonzero;fill:rgb(100%,100%,100%);fill-opacity:1;stroke-width:1.264911;stroke-linecap:butt;stroke-linejoin:miter;stroke:rgb(100%,100%,100%);stroke-opacity:1;stroke-miterlimit:10;\" d=\"M 426.886719 158.003906 L 426.886719 121.042969 L 371.445312 121.042969 L 371.445312 158.003906 Z M 426.886719 158.003906 \"/>\n",
       "<path style=\"fill:none;stroke-width:1.264911;stroke-linecap:butt;stroke-linejoin:miter;stroke:rgb(0%,0%,0%);stroke-opacity:1;stroke-miterlimit:10;\" d=\"M 282.125 139.523438 L 340.644531 194.964844 \"/>\n",
       "<path style=\"fill:none;stroke-width:1.264911;stroke-linecap:butt;stroke-linejoin:miter;stroke:rgb(0%,0%,0%);stroke-opacity:1;stroke-miterlimit:10;\" d=\"M 282.125 139.523438 L 223.605469 194.964844 \"/>\n",
       "<path style=\"fill-rule:nonzero;fill:rgb(100%,100%,100%);fill-opacity:1;stroke-width:1.264911;stroke-linecap:butt;stroke-linejoin:miter;stroke:rgb(100%,100%,100%);stroke-opacity:1;stroke-miterlimit:10;\" d=\"M 368.367188 213.441406 L 368.367188 176.480469 L 312.925781 176.480469 L 312.925781 213.441406 Z M 368.367188 213.441406 \"/>\n",
       "<path style=\"fill-rule:nonzero;fill:rgb(100%,100%,100%);fill-opacity:1;stroke-width:1.264911;stroke-linecap:butt;stroke-linejoin:miter;stroke:rgb(100%,100%,100%);stroke-opacity:1;stroke-miterlimit:10;\" d=\"M 251.328125 213.441406 L 251.328125 176.480469 L 195.886719 176.480469 L 195.886719 213.441406 Z M 251.328125 213.441406 \"/>\n",
       "<path style=\"fill-rule:nonzero;fill:rgb(100%,100%,100%);fill-opacity:1;stroke-width:1.264911;stroke-linecap:butt;stroke-linejoin:miter;stroke:rgb(100%,100%,100%);stroke-opacity:1;stroke-miterlimit:10;\" d=\"M 309.847656 158.003906 L 309.847656 121.042969 L 254.40625 121.042969 L 254.40625 158.003906 Z M 309.847656 158.003906 \"/>\n",
       "<g style=\"fill:rgb(0%,0%,0%);fill-opacity:1;\">\n",
       "  <use xlink:href=\"#glyph-2020-09-0645560.767485574s0-1\" x=\"272.269061\" y=\"148.265926\"/>\n",
       "</g>\n",
       "<path style=\"fill-rule:nonzero;fill:rgb(100%,100%,100%);fill-opacity:1;stroke-width:1.264911;stroke-linecap:butt;stroke-linejoin:miter;stroke:rgb(100%,100%,100%);stroke-opacity:1;stroke-miterlimit:10;\" d=\"M 368.367188 102.5625 L 368.367188 65.601562 L 312.925781 65.601562 L 312.925781 102.5625 Z M 368.367188 102.5625 \"/>\n",
       "<g style=\"fill:rgb(0%,0%,0%);fill-opacity:1;\">\n",
       "  <use xlink:href=\"#glyph-2020-09-0645560.767485574s0-2\" x=\"330.788747\" y=\"92.826224\"/>\n",
       "</g>\n",
       "<path style=\"fill:none;stroke-width:1.264911;stroke-linecap:butt;stroke-linejoin:miter;stroke:rgb(0%,0%,0%);stroke-opacity:1;stroke-miterlimit:10;\" d=\"M 106.566406 84.082031 L 165.085938 139.523438 \"/>\n",
       "<path style=\"fill:none;stroke-width:1.264911;stroke-linecap:butt;stroke-linejoin:miter;stroke:rgb(0%,0%,0%);stroke-opacity:1;stroke-miterlimit:10;\" d=\"M 106.566406 84.082031 L 48.046875 139.523438 \"/>\n",
       "<path style=\"fill-rule:nonzero;fill:rgb(100%,100%,100%);fill-opacity:1;stroke-width:1.264911;stroke-linecap:butt;stroke-linejoin:miter;stroke:rgb(100%,100%,100%);stroke-opacity:1;stroke-miterlimit:10;\" d=\"M 192.808594 158.003906 L 192.808594 121.042969 L 137.367188 121.042969 L 137.367188 158.003906 Z M 192.808594 158.003906 \"/>\n",
       "<path style=\"fill-rule:nonzero;fill:rgb(100%,100%,100%);fill-opacity:1;stroke-width:1.264911;stroke-linecap:butt;stroke-linejoin:miter;stroke:rgb(100%,100%,100%);stroke-opacity:1;stroke-miterlimit:10;\" d=\"M 75.769531 158.003906 L 75.769531 121.042969 L 20.328125 121.042969 L 20.328125 158.003906 Z M 75.769531 158.003906 \"/>\n",
       "<path style=\"fill-rule:nonzero;fill:rgb(100%,100%,100%);fill-opacity:1;stroke-width:1.264911;stroke-linecap:butt;stroke-linejoin:miter;stroke:rgb(100%,100%,100%);stroke-opacity:1;stroke-miterlimit:10;\" d=\"M 134.289062 102.5625 L 134.289062 65.601562 L 78.847656 65.601562 L 78.847656 102.5625 Z M 134.289062 102.5625 \"/>\n",
       "<g style=\"fill:rgb(0%,0%,0%);fill-opacity:1;\">\n",
       "  <use xlink:href=\"#glyph-2020-09-0645560.767485574s0-3\" x=\"96.710005\" y=\"92.826224\"/>\n",
       "</g>\n",
       "<path style=\"fill-rule:nonzero;fill:rgb(100%,100%,100%);fill-opacity:1;stroke-width:1.264911;stroke-linecap:butt;stroke-linejoin:miter;stroke:rgb(100%,100%,100%);stroke-opacity:1;stroke-miterlimit:10;\" d=\"M 251.328125 47.125 L 251.328125 10.164062 L 195.886719 10.164062 L 195.886719 47.125 Z M 251.328125 47.125 \"/>\n",
       "<g style=\"fill:rgb(0%,0%,0%);fill-opacity:1;\">\n",
       "  <use xlink:href=\"#glyph-2020-09-0645560.767485574s0-4\" x=\"213.749376\" y=\"37.386522\"/>\n",
       "</g>\n",
       "</g>\n",
       "</svg>\n"
      ]
     },
     "metadata": {},
     "output_type": "display_data"
    }
   ],
   "source": [
    "diagram . renderBinTree $ t2"
   ]
  },
  {
   "cell_type": "markdown",
   "metadata": {},
   "source": [
    "<br>\n",
    "\n",
    "`x`라는 값이 이진트리 `t`에 들어있는지 `occurs x t`로 검사하는 함수 `occurs`를 작성해 보자."
   ]
  },
  {
   "cell_type": "code",
   "execution_count": 49,
   "metadata": {},
   "outputs": [],
   "source": [
    "-- occurs :: Eq a => a -> Tree a -> Bool\n",
    "occurs x Null           = False\n",
    "occurs x (Node y t1 t2) = x==y || occurs x t1 || occurs x t2"
   ]
  },
  {
   "cell_type": "code",
   "execution_count": 50,
   "metadata": {},
   "outputs": [
    {
     "data": {
      "text/plain": [
       "False"
      ]
     },
     "metadata": {},
     "output_type": "display_data"
    },
    {
     "data": {
      "text/plain": [
       "True"
      ]
     },
     "metadata": {},
     "output_type": "display_data"
    },
    {
     "data": {
      "text/plain": [
       "True"
      ]
     },
     "metadata": {},
     "output_type": "display_data"
    },
    {
     "data": {
      "text/plain": [
       "True"
      ]
     },
     "metadata": {},
     "output_type": "display_data"
    }
   ],
   "source": [
    "occurs 1 t2\n",
    "occurs 3 t2\n",
    "occurs 4 t2\n",
    "occurs 6 t2"
   ]
  },
  {
   "cell_type": "markdown",
   "metadata": {},
   "source": [
    "<br>\n",
    "\n",
    "이진트리가 이진탐색트리(binary search tree, BST)인지 검사하는 함수 `isBST`를 작성해 보자.\n",
    "\n",
    "이진탐색트리란 이진트리에서 각각의 모든 노드의 값이\n",
    "  - 그 노드의 왼쪽 부분트리의 값들보다 더 크고\n",
    "  - 그 노드의 오른쪽 부분트리의 값들보다 더 작다"
   ]
  },
  {
   "cell_type": "code",
   "execution_count": 51,
   "metadata": {},
   "outputs": [
    {
     "data": {
      "image/png": "[encoded data removed]",
      "image/svg+xml": [
       "<?xml version=\"1.0\" encoding=\"UTF-8\"?>\n",
       "<svg xmlns=\"http://www.w3.org/2000/svg\" xmlns:xlink=\"http://www.w3.org/1999/xlink\" width=\"447.213595pt\" height=\"223.606798pt\" viewBox=\"0 0 447.213595 223.606798\" version=\"1.1\">\n",
       "<defs>\n",
       "<g>\n",
       "<symbol overflow=\"visible\" id=\"glyph-2020-09-0645562.243691338s0-0\">\n",
       "<path style=\"stroke:none;\" d=\"M 1.09375 0 L 1.09375 -21.90625 L 9.8125 -21.90625 L 9.8125 0 Z M 2.1875 -1.09375 L 8.734375 -1.09375 L 8.734375 -20.8125 L 2.1875 -20.8125 Z M 2.1875 -1.09375 \"/>\n",
       "</symbol>\n",
       "<symbol overflow=\"visible\" id=\"glyph-2020-09-0645562.243691338s0-1\">\n",
       "<path style=\"stroke:none;\" d=\"M 17.578125 -7.15625 C 17.578125 -6.082031 17.421875 -5.085938 17.109375 -4.171875 C 16.796875 -3.265625 16.332031 -2.472656 15.71875 -1.796875 C 15.101562 -1.128906 14.335938 -0.609375 13.421875 -0.234375 C 12.515625 0.140625 11.46875 0.328125 10.28125 0.328125 C 8.96875 0.328125 7.816406 0.078125 6.828125 -0.421875 C 5.847656 -0.921875 5.03125 -1.628906 4.375 -2.546875 C 3.726562 -3.472656 3.238281 -4.585938 2.90625 -5.890625 C 2.582031 -7.203125 2.421875 -8.671875 2.421875 -10.296875 C 2.421875 -12.191406 2.601562 -13.863281 2.96875 -15.3125 C 3.34375 -16.769531 3.875 -17.988281 4.5625 -18.96875 C 5.257812 -19.957031 6.109375 -20.707031 7.109375 -21.21875 C 8.109375 -21.726562 9.242188 -21.984375 10.515625 -21.984375 C 11.285156 -21.984375 12.003906 -21.898438 12.671875 -21.734375 C 13.347656 -21.578125 13.960938 -21.316406 14.515625 -20.953125 C 15.066406 -20.597656 15.550781 -20.125 15.96875 -19.53125 C 16.382812 -18.945312 16.710938 -18.226562 16.953125 -17.375 L 14.203125 -16.875 C 13.898438 -17.851562 13.421875 -18.554688 12.765625 -18.984375 C 12.109375 -19.421875 11.347656 -19.640625 10.484375 -19.640625 C 9.691406 -19.640625 8.972656 -19.453125 8.328125 -19.078125 C 7.679688 -18.710938 7.132812 -18.171875 6.6875 -17.453125 C 6.238281 -16.734375 5.894531 -15.847656 5.65625 -14.796875 C 5.414062 -13.742188 5.296875 -12.53125 5.296875 -11.15625 C 5.816406 -12.125 6.550781 -12.863281 7.5 -13.375 C 8.457031 -13.882812 9.550781 -14.140625 10.78125 -14.140625 C 11.8125 -14.140625 12.742188 -13.972656 13.578125 -13.640625 C 14.421875 -13.304688 15.140625 -12.832031 15.734375 -12.21875 C 16.328125 -11.613281 16.78125 -10.882812 17.09375 -10.03125 C 17.414062 -9.175781 17.578125 -8.21875 17.578125 -7.15625 Z M 14.65625 -7.03125 C 14.65625 -7.75 14.554688 -8.40625 14.359375 -9 C 14.171875 -9.601562 13.882812 -10.117188 13.5 -10.546875 C 13.113281 -10.972656 12.632812 -11.304688 12.0625 -11.546875 C 11.5 -11.785156 10.84375 -11.90625 10.09375 -11.90625 C 9.570312 -11.90625 9.039062 -11.816406 8.5 -11.640625 C 7.96875 -11.460938 7.484375 -11.195312 7.046875 -10.84375 C 6.617188 -10.5 6.265625 -10.066406 5.984375 -9.546875 C 5.710938 -9.023438 5.578125 -8.414062 5.578125 -7.71875 C 5.578125 -6.945312 5.679688 -6.21875 5.890625 -5.53125 C 6.109375 -4.84375 6.414062 -4.234375 6.8125 -3.703125 C 7.21875 -3.179688 7.703125 -2.765625 8.265625 -2.453125 C 8.835938 -2.148438 9.476562 -2 10.1875 -2 C 10.882812 -2 11.507812 -2.117188 12.0625 -2.359375 C 12.613281 -2.609375 13.078125 -2.953125 13.453125 -3.390625 C 13.835938 -3.828125 14.132812 -4.351562 14.34375 -4.96875 C 14.550781 -5.59375 14.65625 -6.28125 14.65625 -7.03125 Z M 14.65625 -7.03125 \"/>\n",
       "</symbol>\n",
       "<symbol overflow=\"visible\" id=\"glyph-2020-09-0645562.243691338s0-2\">\n",
       "<path style=\"stroke:none;\" d=\"M 17.640625 -7.125 C 17.640625 -6.050781 17.46875 -5.054688 17.125 -4.140625 C 16.78125 -3.234375 16.269531 -2.445312 15.59375 -1.78125 C 14.914062 -1.125 14.078125 -0.609375 13.078125 -0.234375 C 12.078125 0.140625 10.921875 0.328125 9.609375 0.328125 C 8.421875 0.328125 7.382812 0.1875 6.5 -0.09375 C 5.625 -0.375 4.878906 -0.753906 4.265625 -1.234375 C 3.660156 -1.722656 3.175781 -2.296875 2.8125 -2.953125 C 2.457031 -3.609375 2.203125 -4.304688 2.046875 -5.046875 L 4.96875 -5.390625 C 5.09375 -4.960938 5.257812 -4.546875 5.46875 -4.140625 C 5.6875 -3.742188 5.976562 -3.382812 6.34375 -3.0625 C 6.71875 -2.75 7.171875 -2.5 7.703125 -2.3125 C 8.242188 -2.125 8.898438 -2.03125 9.671875 -2.03125 C 10.421875 -2.03125 11.097656 -2.144531 11.703125 -2.375 C 12.316406 -2.613281 12.835938 -2.945312 13.265625 -3.375 C 13.703125 -3.800781 14.035156 -4.328125 14.265625 -4.953125 C 14.503906 -5.578125 14.625 -6.28125 14.625 -7.0625 C 14.625 -7.695312 14.507812 -8.289062 14.28125 -8.84375 C 14.0625 -9.394531 13.742188 -9.875 13.328125 -10.28125 C 12.910156 -10.6875 12.398438 -11.003906 11.796875 -11.234375 C 11.191406 -11.460938 10.503906 -11.578125 9.734375 -11.578125 C 9.253906 -11.578125 8.8125 -11.535156 8.40625 -11.453125 C 8 -11.367188 7.617188 -11.25 7.265625 -11.09375 C 6.921875 -10.945312 6.609375 -10.773438 6.328125 -10.578125 C 6.046875 -10.378906 5.78125 -10.175781 5.53125 -9.96875 L 2.71875 -9.96875 L 3.46875 -21.640625 L 16.3125 -21.640625 L 16.3125 -19.3125 L 6.125 -19.3125 L 5.65625 -12.5 C 6.175781 -12.894531 6.820312 -13.234375 7.59375 -13.515625 C 8.363281 -13.796875 9.273438 -13.9375 10.328125 -13.9375 C 11.453125 -13.9375 12.460938 -13.765625 13.359375 -13.421875 C 14.265625 -13.085938 15.03125 -12.617188 15.65625 -12.015625 C 16.289062 -11.410156 16.78125 -10.6875 17.125 -9.84375 C 17.46875 -9.007812 17.640625 -8.101562 17.640625 -7.125 Z M 17.640625 -7.125 \"/>\n",
       "</symbol>\n",
       "<symbol overflow=\"visible\" id=\"glyph-2020-09-0645562.243691338s0-3\">\n",
       "<path style=\"stroke:none;\" d=\"M 2.3125 0 L 2.3125 -1.875 C 2.78125 -2.914062 3.398438 -3.875 4.171875 -4.75 C 4.941406 -5.625 5.757812 -6.445312 6.625 -7.21875 C 7.5 -8 8.378906 -8.742188 9.265625 -9.453125 C 10.148438 -10.160156 10.945312 -10.859375 11.65625 -11.546875 C 12.363281 -12.234375 12.941406 -12.929688 13.390625 -13.640625 C 13.847656 -14.359375 14.078125 -15.113281 14.078125 -15.90625 C 14.078125 -16.539062 13.972656 -17.09375 13.765625 -17.5625 C 13.554688 -18.03125 13.257812 -18.414062 12.875 -18.71875 C 12.5 -19.019531 12.050781 -19.242188 11.53125 -19.390625 C 11.007812 -19.535156 10.429688 -19.609375 9.796875 -19.609375 C 9.222656 -19.609375 8.6875 -19.523438 8.1875 -19.359375 C 7.6875 -19.203125 7.25 -18.960938 6.875 -18.640625 C 6.507812 -18.316406 6.207031 -17.914062 5.96875 -17.4375 C 5.726562 -16.96875 5.570312 -16.414062 5.5 -15.78125 L 2.546875 -16.0625 C 2.648438 -16.875 2.867188 -17.640625 3.203125 -18.359375 C 3.546875 -19.078125 4.015625 -19.703125 4.609375 -20.234375 C 5.203125 -20.773438 5.929688 -21.203125 6.796875 -21.515625 C 7.671875 -21.828125 8.671875 -21.984375 9.796875 -21.984375 C 10.921875 -21.984375 11.929688 -21.851562 12.828125 -21.59375 C 13.722656 -21.34375 14.484375 -20.96875 15.109375 -20.46875 C 15.734375 -19.96875 16.210938 -19.347656 16.546875 -18.609375 C 16.878906 -17.867188 17.046875 -17.023438 17.046875 -16.078125 C 17.046875 -15.066406 16.8125 -14.128906 16.34375 -13.265625 C 15.882812 -12.410156 15.296875 -11.597656 14.578125 -10.828125 C 13.859375 -10.054688 13.054688 -9.320312 12.171875 -8.625 C 11.296875 -7.9375 10.441406 -7.25 9.609375 -6.5625 C 8.773438 -5.875 8.015625 -5.1875 7.328125 -4.5 C 6.648438 -3.8125 6.140625 -3.09375 5.796875 -2.34375 L 17.390625 -2.34375 L 17.390625 0 Z M 2.3125 0 \"/>\n",
       "</symbol>\n",
       "<symbol overflow=\"visible\" id=\"glyph-2020-09-0645562.243691338s0-4\">\n",
       "<path style=\"stroke:none;\" d=\"M 17.640625 -5.9375 C 17.640625 -4.957031 17.46875 -4.082031 17.125 -3.3125 C 16.789062 -2.539062 16.300781 -1.882812 15.65625 -1.34375 C 15.007812 -0.8125 14.207031 -0.398438 13.25 -0.109375 C 12.300781 0.179688 11.207031 0.328125 9.96875 0.328125 C 8.570312 0.328125 7.390625 0.15625 6.421875 -0.1875 C 5.460938 -0.539062 4.671875 -1.003906 4.046875 -1.578125 C 3.429688 -2.148438 2.96875 -2.800781 2.65625 -3.53125 C 2.351562 -4.269531 2.148438 -5.03125 2.046875 -5.8125 L 5.03125 -6.078125 C 5.125 -5.484375 5.285156 -4.9375 5.515625 -4.4375 C 5.742188 -3.945312 6.054688 -3.523438 6.453125 -3.171875 C 6.847656 -2.816406 7.335938 -2.539062 7.921875 -2.34375 C 8.503906 -2.15625 9.1875 -2.0625 9.96875 -2.0625 C 11.414062 -2.0625 12.550781 -2.398438 13.375 -3.078125 C 14.207031 -3.753906 14.625 -4.738281 14.625 -6.03125 C 14.625 -6.757812 14.441406 -7.363281 14.078125 -7.84375 C 13.710938 -8.320312 13.253906 -8.703125 12.703125 -8.984375 C 12.148438 -9.273438 11.550781 -9.476562 10.90625 -9.59375 C 10.257812 -9.707031 9.660156 -9.765625 9.109375 -9.765625 L 7.484375 -9.765625 L 7.484375 -12.28125 L 9.046875 -12.28125 C 9.597656 -12.28125 10.164062 -12.34375 10.75 -12.46875 C 11.332031 -12.601562 11.867188 -12.816406 12.359375 -13.109375 C 12.847656 -13.410156 13.25 -13.796875 13.5625 -14.265625 C 13.875 -14.742188 14.03125 -15.320312 14.03125 -16 C 14.03125 -17.132812 13.675781 -18.019531 12.96875 -18.65625 C 12.257812 -19.289062 11.203125 -19.609375 9.796875 -19.609375 C 8.523438 -19.609375 7.492188 -19.28125 6.703125 -18.625 C 5.921875 -17.976562 5.46875 -17.0625 5.34375 -15.875 L 2.4375 -16.09375 C 2.550781 -17.082031 2.820312 -17.945312 3.25 -18.6875 C 3.6875 -19.425781 4.234375 -20.039062 4.890625 -20.53125 C 5.546875 -21.019531 6.296875 -21.382812 7.140625 -21.625 C 7.984375 -21.863281 8.878906 -21.984375 9.828125 -21.984375 C 11.109375 -21.984375 12.195312 -21.832031 13.09375 -21.53125 C 14 -21.226562 14.738281 -20.820312 15.3125 -20.3125 C 15.894531 -19.800781 16.320312 -19.195312 16.59375 -18.5 C 16.863281 -17.8125 17 -17.078125 17 -16.296875 C 17 -15.710938 16.898438 -15.144531 16.703125 -14.59375 C 16.503906 -14.039062 16.210938 -13.535156 15.828125 -13.078125 C 15.441406 -12.617188 14.953125 -12.21875 14.359375 -11.875 C 13.765625 -11.53125 13.070312 -11.28125 12.28125 -11.125 L 12.28125 -11.0625 C 13.15625 -10.957031 13.925781 -10.742188 14.59375 -10.421875 C 15.257812 -10.109375 15.816406 -9.71875 16.265625 -9.25 C 16.710938 -8.78125 17.050781 -8.257812 17.28125 -7.6875 C 17.519531 -7.125 17.640625 -6.539062 17.640625 -5.9375 Z M 17.640625 -5.9375 \"/>\n",
       "</symbol>\n",
       "</g>\n",
       "</defs>\n",
       "<g id=\"surface33\">\n",
       "<path style=\"fill:none;stroke-width:1.264911;stroke-linecap:butt;stroke-linejoin:miter;stroke:rgb(0%,0%,0%);stroke-opacity:1;stroke-miterlimit:10;\" d=\"M 223.605469 28.644531 L 340.644531 84.085938 \"/>\n",
       "<path style=\"fill:none;stroke-width:1.264911;stroke-linecap:butt;stroke-linejoin:miter;stroke:rgb(0%,0%,0%);stroke-opacity:1;stroke-miterlimit:10;\" d=\"M 223.605469 28.644531 L 106.566406 84.085938 \"/>\n",
       "<path style=\"fill:none;stroke-width:1.264911;stroke-linecap:butt;stroke-linejoin:miter;stroke:rgb(0%,0%,0%);stroke-opacity:1;stroke-miterlimit:10;\" d=\"M 340.644531 84.082031 L 399.164062 139.523438 \"/>\n",
       "<path style=\"fill:none;stroke-width:1.264911;stroke-linecap:butt;stroke-linejoin:miter;stroke:rgb(0%,0%,0%);stroke-opacity:1;stroke-miterlimit:10;\" d=\"M 340.644531 84.082031 L 282.125 139.523438 \"/>\n",
       "<path style=\"fill-rule:nonzero;fill:rgb(100%,100%,100%);fill-opacity:1;stroke-width:1.264911;stroke-linecap:butt;stroke-linejoin:miter;stroke:rgb(100%,100%,100%);stroke-opacity:1;stroke-miterlimit:10;\" d=\"M 426.886719 158.003906 L 426.886719 121.042969 L 371.445312 121.042969 L 371.445312 158.003906 Z M 426.886719 158.003906 \"/>\n",
       "<path style=\"fill:none;stroke-width:1.264911;stroke-linecap:butt;stroke-linejoin:miter;stroke:rgb(0%,0%,0%);stroke-opacity:1;stroke-miterlimit:10;\" d=\"M 282.125 139.523438 L 340.644531 194.964844 \"/>\n",
       "<path style=\"fill:none;stroke-width:1.264911;stroke-linecap:butt;stroke-linejoin:miter;stroke:rgb(0%,0%,0%);stroke-opacity:1;stroke-miterlimit:10;\" d=\"M 282.125 139.523438 L 223.605469 194.964844 \"/>\n",
       "<path style=\"fill-rule:nonzero;fill:rgb(100%,100%,100%);fill-opacity:1;stroke-width:1.264911;stroke-linecap:butt;stroke-linejoin:miter;stroke:rgb(100%,100%,100%);stroke-opacity:1;stroke-miterlimit:10;\" d=\"M 368.367188 213.441406 L 368.367188 176.480469 L 312.925781 176.480469 L 312.925781 213.441406 Z M 368.367188 213.441406 \"/>\n",
       "<path style=\"fill-rule:nonzero;fill:rgb(100%,100%,100%);fill-opacity:1;stroke-width:1.264911;stroke-linecap:butt;stroke-linejoin:miter;stroke:rgb(100%,100%,100%);stroke-opacity:1;stroke-miterlimit:10;\" d=\"M 251.328125 213.441406 L 251.328125 176.480469 L 195.886719 176.480469 L 195.886719 213.441406 Z M 251.328125 213.441406 \"/>\n",
       "<path style=\"fill-rule:nonzero;fill:rgb(100%,100%,100%);fill-opacity:1;stroke-width:1.264911;stroke-linecap:butt;stroke-linejoin:miter;stroke:rgb(100%,100%,100%);stroke-opacity:1;stroke-miterlimit:10;\" d=\"M 309.847656 158.003906 L 309.847656 121.042969 L 254.40625 121.042969 L 254.40625 158.003906 Z M 309.847656 158.003906 \"/>\n",
       "<g style=\"fill:rgb(0%,0%,0%);fill-opacity:1;\">\n",
       "  <use xlink:href=\"#glyph-2020-09-0645562.243691338s0-1\" x=\"272.269061\" y=\"148.265926\"/>\n",
       "</g>\n",
       "<path style=\"fill-rule:nonzero;fill:rgb(100%,100%,100%);fill-opacity:1;stroke-width:1.264911;stroke-linecap:butt;stroke-linejoin:miter;stroke:rgb(100%,100%,100%);stroke-opacity:1;stroke-miterlimit:10;\" d=\"M 368.367188 102.5625 L 368.367188 65.601562 L 312.925781 65.601562 L 312.925781 102.5625 Z M 368.367188 102.5625 \"/>\n",
       "<g style=\"fill:rgb(0%,0%,0%);fill-opacity:1;\">\n",
       "  <use xlink:href=\"#glyph-2020-09-0645562.243691338s0-2\" x=\"330.788747\" y=\"92.826224\"/>\n",
       "</g>\n",
       "<path style=\"fill:none;stroke-width:1.264911;stroke-linecap:butt;stroke-linejoin:miter;stroke:rgb(0%,0%,0%);stroke-opacity:1;stroke-miterlimit:10;\" d=\"M 106.566406 84.082031 L 165.085938 139.523438 \"/>\n",
       "<path style=\"fill:none;stroke-width:1.264911;stroke-linecap:butt;stroke-linejoin:miter;stroke:rgb(0%,0%,0%);stroke-opacity:1;stroke-miterlimit:10;\" d=\"M 106.566406 84.082031 L 48.046875 139.523438 \"/>\n",
       "<path style=\"fill-rule:nonzero;fill:rgb(100%,100%,100%);fill-opacity:1;stroke-width:1.264911;stroke-linecap:butt;stroke-linejoin:miter;stroke:rgb(100%,100%,100%);stroke-opacity:1;stroke-miterlimit:10;\" d=\"M 192.808594 158.003906 L 192.808594 121.042969 L 137.367188 121.042969 L 137.367188 158.003906 Z M 192.808594 158.003906 \"/>\n",
       "<path style=\"fill-rule:nonzero;fill:rgb(100%,100%,100%);fill-opacity:1;stroke-width:1.264911;stroke-linecap:butt;stroke-linejoin:miter;stroke:rgb(100%,100%,100%);stroke-opacity:1;stroke-miterlimit:10;\" d=\"M 75.769531 158.003906 L 75.769531 121.042969 L 20.328125 121.042969 L 20.328125 158.003906 Z M 75.769531 158.003906 \"/>\n",
       "<path style=\"fill-rule:nonzero;fill:rgb(100%,100%,100%);fill-opacity:1;stroke-width:1.264911;stroke-linecap:butt;stroke-linejoin:miter;stroke:rgb(100%,100%,100%);stroke-opacity:1;stroke-miterlimit:10;\" d=\"M 134.289062 102.5625 L 134.289062 65.601562 L 78.847656 65.601562 L 78.847656 102.5625 Z M 134.289062 102.5625 \"/>\n",
       "<g style=\"fill:rgb(0%,0%,0%);fill-opacity:1;\">\n",
       "  <use xlink:href=\"#glyph-2020-09-0645562.243691338s0-3\" x=\"96.710005\" y=\"92.826224\"/>\n",
       "</g>\n",
       "<path style=\"fill-rule:nonzero;fill:rgb(100%,100%,100%);fill-opacity:1;stroke-width:1.264911;stroke-linecap:butt;stroke-linejoin:miter;stroke:rgb(100%,100%,100%);stroke-opacity:1;stroke-miterlimit:10;\" d=\"M 251.328125 47.125 L 251.328125 10.164062 L 195.886719 10.164062 L 195.886719 47.125 Z M 251.328125 47.125 \"/>\n",
       "<g style=\"fill:rgb(0%,0%,0%);fill-opacity:1;\">\n",
       "  <use xlink:href=\"#glyph-2020-09-0645562.243691338s0-4\" x=\"213.749376\" y=\"37.386522\"/>\n",
       "</g>\n",
       "</g>\n",
       "</svg>\n"
      ]
     },
     "metadata": {},
     "output_type": "display_data"
    }
   ],
   "source": [
    "t3 =  Node 3\n",
    "        (Node 2 Null Null)\n",
    "        (Node 5\n",
    "            (Node 6 Null Null)\n",
    "            Null)\n",
    "            \n",
    "diagram . renderBinTree $ t3 -- BST가 아님!!!! 5가 왼쪽에 있는 6보다 더 크지 않다"
   ]
  },
  {
   "cell_type": "code",
   "execution_count": 52,
   "metadata": {},
   "outputs": [
    {
     "data": {
      "image/png": "[encoded data removed]",
      "image/svg+xml": [
       "<?xml version=\"1.0\" encoding=\"UTF-8\"?>\n",
       "<svg xmlns=\"http://www.w3.org/2000/svg\" xmlns:xlink=\"http://www.w3.org/1999/xlink\" width=\"447.213595pt\" height=\"223.606798pt\" viewBox=\"0 0 447.213595 223.606798\" version=\"1.1\">\n",
       "<defs>\n",
       "<g>\n",
       "<symbol overflow=\"visible\" id=\"glyph-2020-09-0645562.642518667s0-0\">\n",
       "<path style=\"stroke:none;\" d=\"M 1.09375 0 L 1.09375 -21.90625 L 9.8125 -21.90625 L 9.8125 0 Z M 2.1875 -1.09375 L 8.734375 -1.09375 L 8.734375 -20.8125 L 2.1875 -20.8125 Z M 2.1875 -1.09375 \"/>\n",
       "</symbol>\n",
       "<symbol overflow=\"visible\" id=\"glyph-2020-09-0645562.642518667s0-1\">\n",
       "<path style=\"stroke:none;\" d=\"M 17.640625 -7.125 C 17.640625 -6.050781 17.46875 -5.054688 17.125 -4.140625 C 16.78125 -3.234375 16.269531 -2.445312 15.59375 -1.78125 C 14.914062 -1.125 14.078125 -0.609375 13.078125 -0.234375 C 12.078125 0.140625 10.921875 0.328125 9.609375 0.328125 C 8.421875 0.328125 7.382812 0.1875 6.5 -0.09375 C 5.625 -0.375 4.878906 -0.753906 4.265625 -1.234375 C 3.660156 -1.722656 3.175781 -2.296875 2.8125 -2.953125 C 2.457031 -3.609375 2.203125 -4.304688 2.046875 -5.046875 L 4.96875 -5.390625 C 5.09375 -4.960938 5.257812 -4.546875 5.46875 -4.140625 C 5.6875 -3.742188 5.976562 -3.382812 6.34375 -3.0625 C 6.71875 -2.75 7.171875 -2.5 7.703125 -2.3125 C 8.242188 -2.125 8.898438 -2.03125 9.671875 -2.03125 C 10.421875 -2.03125 11.097656 -2.144531 11.703125 -2.375 C 12.316406 -2.613281 12.835938 -2.945312 13.265625 -3.375 C 13.703125 -3.800781 14.035156 -4.328125 14.265625 -4.953125 C 14.503906 -5.578125 14.625 -6.28125 14.625 -7.0625 C 14.625 -7.695312 14.507812 -8.289062 14.28125 -8.84375 C 14.0625 -9.394531 13.742188 -9.875 13.328125 -10.28125 C 12.910156 -10.6875 12.398438 -11.003906 11.796875 -11.234375 C 11.191406 -11.460938 10.503906 -11.578125 9.734375 -11.578125 C 9.253906 -11.578125 8.8125 -11.535156 8.40625 -11.453125 C 8 -11.367188 7.617188 -11.25 7.265625 -11.09375 C 6.921875 -10.945312 6.609375 -10.773438 6.328125 -10.578125 C 6.046875 -10.378906 5.78125 -10.175781 5.53125 -9.96875 L 2.71875 -9.96875 L 3.46875 -21.640625 L 16.3125 -21.640625 L 16.3125 -19.3125 L 6.125 -19.3125 L 5.65625 -12.5 C 6.175781 -12.894531 6.820312 -13.234375 7.59375 -13.515625 C 8.363281 -13.796875 9.273438 -13.9375 10.328125 -13.9375 C 11.453125 -13.9375 12.460938 -13.765625 13.359375 -13.421875 C 14.265625 -13.085938 15.03125 -12.617188 15.65625 -12.015625 C 16.289062 -11.410156 16.78125 -10.6875 17.125 -9.84375 C 17.46875 -9.007812 17.640625 -8.101562 17.640625 -7.125 Z M 17.640625 -7.125 \"/>\n",
       "</symbol>\n",
       "<symbol overflow=\"visible\" id=\"glyph-2020-09-0645562.642518667s0-2\">\n",
       "<path style=\"stroke:none;\" d=\"M 17.578125 -7.15625 C 17.578125 -6.082031 17.421875 -5.085938 17.109375 -4.171875 C 16.796875 -3.265625 16.332031 -2.472656 15.71875 -1.796875 C 15.101562 -1.128906 14.335938 -0.609375 13.421875 -0.234375 C 12.515625 0.140625 11.46875 0.328125 10.28125 0.328125 C 8.96875 0.328125 7.816406 0.078125 6.828125 -0.421875 C 5.847656 -0.921875 5.03125 -1.628906 4.375 -2.546875 C 3.726562 -3.472656 3.238281 -4.585938 2.90625 -5.890625 C 2.582031 -7.203125 2.421875 -8.671875 2.421875 -10.296875 C 2.421875 -12.191406 2.601562 -13.863281 2.96875 -15.3125 C 3.34375 -16.769531 3.875 -17.988281 4.5625 -18.96875 C 5.257812 -19.957031 6.109375 -20.707031 7.109375 -21.21875 C 8.109375 -21.726562 9.242188 -21.984375 10.515625 -21.984375 C 11.285156 -21.984375 12.003906 -21.898438 12.671875 -21.734375 C 13.347656 -21.578125 13.960938 -21.316406 14.515625 -20.953125 C 15.066406 -20.597656 15.550781 -20.125 15.96875 -19.53125 C 16.382812 -18.945312 16.710938 -18.226562 16.953125 -17.375 L 14.203125 -16.875 C 13.898438 -17.851562 13.421875 -18.554688 12.765625 -18.984375 C 12.109375 -19.421875 11.347656 -19.640625 10.484375 -19.640625 C 9.691406 -19.640625 8.972656 -19.453125 8.328125 -19.078125 C 7.679688 -18.710938 7.132812 -18.171875 6.6875 -17.453125 C 6.238281 -16.734375 5.894531 -15.847656 5.65625 -14.796875 C 5.414062 -13.742188 5.296875 -12.53125 5.296875 -11.15625 C 5.816406 -12.125 6.550781 -12.863281 7.5 -13.375 C 8.457031 -13.882812 9.550781 -14.140625 10.78125 -14.140625 C 11.8125 -14.140625 12.742188 -13.972656 13.578125 -13.640625 C 14.421875 -13.304688 15.140625 -12.832031 15.734375 -12.21875 C 16.328125 -11.613281 16.78125 -10.882812 17.09375 -10.03125 C 17.414062 -9.175781 17.578125 -8.21875 17.578125 -7.15625 Z M 14.65625 -7.03125 C 14.65625 -7.75 14.554688 -8.40625 14.359375 -9 C 14.171875 -9.601562 13.882812 -10.117188 13.5 -10.546875 C 13.113281 -10.972656 12.632812 -11.304688 12.0625 -11.546875 C 11.5 -11.785156 10.84375 -11.90625 10.09375 -11.90625 C 9.570312 -11.90625 9.039062 -11.816406 8.5 -11.640625 C 7.96875 -11.460938 7.484375 -11.195312 7.046875 -10.84375 C 6.617188 -10.5 6.265625 -10.066406 5.984375 -9.546875 C 5.710938 -9.023438 5.578125 -8.414062 5.578125 -7.71875 C 5.578125 -6.945312 5.679688 -6.21875 5.890625 -5.53125 C 6.109375 -4.84375 6.414062 -4.234375 6.8125 -3.703125 C 7.21875 -3.179688 7.703125 -2.765625 8.265625 -2.453125 C 8.835938 -2.148438 9.476562 -2 10.1875 -2 C 10.882812 -2 11.507812 -2.117188 12.0625 -2.359375 C 12.613281 -2.609375 13.078125 -2.953125 13.453125 -3.390625 C 13.835938 -3.828125 14.132812 -4.351562 14.34375 -4.96875 C 14.550781 -5.59375 14.65625 -6.28125 14.65625 -7.03125 Z M 14.65625 -7.03125 \"/>\n",
       "</symbol>\n",
       "<symbol overflow=\"visible\" id=\"glyph-2020-09-0645562.642518667s0-3\">\n",
       "<path style=\"stroke:none;\" d=\"M 2.3125 0 L 2.3125 -1.875 C 2.78125 -2.914062 3.398438 -3.875 4.171875 -4.75 C 4.941406 -5.625 5.757812 -6.445312 6.625 -7.21875 C 7.5 -8 8.378906 -8.742188 9.265625 -9.453125 C 10.148438 -10.160156 10.945312 -10.859375 11.65625 -11.546875 C 12.363281 -12.234375 12.941406 -12.929688 13.390625 -13.640625 C 13.847656 -14.359375 14.078125 -15.113281 14.078125 -15.90625 C 14.078125 -16.539062 13.972656 -17.09375 13.765625 -17.5625 C 13.554688 -18.03125 13.257812 -18.414062 12.875 -18.71875 C 12.5 -19.019531 12.050781 -19.242188 11.53125 -19.390625 C 11.007812 -19.535156 10.429688 -19.609375 9.796875 -19.609375 C 9.222656 -19.609375 8.6875 -19.523438 8.1875 -19.359375 C 7.6875 -19.203125 7.25 -18.960938 6.875 -18.640625 C 6.507812 -18.316406 6.207031 -17.914062 5.96875 -17.4375 C 5.726562 -16.96875 5.570312 -16.414062 5.5 -15.78125 L 2.546875 -16.0625 C 2.648438 -16.875 2.867188 -17.640625 3.203125 -18.359375 C 3.546875 -19.078125 4.015625 -19.703125 4.609375 -20.234375 C 5.203125 -20.773438 5.929688 -21.203125 6.796875 -21.515625 C 7.671875 -21.828125 8.671875 -21.984375 9.796875 -21.984375 C 10.921875 -21.984375 11.929688 -21.851562 12.828125 -21.59375 C 13.722656 -21.34375 14.484375 -20.96875 15.109375 -20.46875 C 15.734375 -19.96875 16.210938 -19.347656 16.546875 -18.609375 C 16.878906 -17.867188 17.046875 -17.023438 17.046875 -16.078125 C 17.046875 -15.066406 16.8125 -14.128906 16.34375 -13.265625 C 15.882812 -12.410156 15.296875 -11.597656 14.578125 -10.828125 C 13.859375 -10.054688 13.054688 -9.320312 12.171875 -8.625 C 11.296875 -7.9375 10.441406 -7.25 9.609375 -6.5625 C 8.773438 -5.875 8.015625 -5.1875 7.328125 -4.5 C 6.648438 -3.8125 6.140625 -3.09375 5.796875 -2.34375 L 17.390625 -2.34375 L 17.390625 0 Z M 2.3125 0 \"/>\n",
       "</symbol>\n",
       "<symbol overflow=\"visible\" id=\"glyph-2020-09-0645562.642518667s0-4\">\n",
       "<path style=\"stroke:none;\" d=\"M 17.640625 -5.9375 C 17.640625 -4.957031 17.46875 -4.082031 17.125 -3.3125 C 16.789062 -2.539062 16.300781 -1.882812 15.65625 -1.34375 C 15.007812 -0.8125 14.207031 -0.398438 13.25 -0.109375 C 12.300781 0.179688 11.207031 0.328125 9.96875 0.328125 C 8.570312 0.328125 7.390625 0.15625 6.421875 -0.1875 C 5.460938 -0.539062 4.671875 -1.003906 4.046875 -1.578125 C 3.429688 -2.148438 2.96875 -2.800781 2.65625 -3.53125 C 2.351562 -4.269531 2.148438 -5.03125 2.046875 -5.8125 L 5.03125 -6.078125 C 5.125 -5.484375 5.285156 -4.9375 5.515625 -4.4375 C 5.742188 -3.945312 6.054688 -3.523438 6.453125 -3.171875 C 6.847656 -2.816406 7.335938 -2.539062 7.921875 -2.34375 C 8.503906 -2.15625 9.1875 -2.0625 9.96875 -2.0625 C 11.414062 -2.0625 12.550781 -2.398438 13.375 -3.078125 C 14.207031 -3.753906 14.625 -4.738281 14.625 -6.03125 C 14.625 -6.757812 14.441406 -7.363281 14.078125 -7.84375 C 13.710938 -8.320312 13.253906 -8.703125 12.703125 -8.984375 C 12.148438 -9.273438 11.550781 -9.476562 10.90625 -9.59375 C 10.257812 -9.707031 9.660156 -9.765625 9.109375 -9.765625 L 7.484375 -9.765625 L 7.484375 -12.28125 L 9.046875 -12.28125 C 9.597656 -12.28125 10.164062 -12.34375 10.75 -12.46875 C 11.332031 -12.601562 11.867188 -12.816406 12.359375 -13.109375 C 12.847656 -13.410156 13.25 -13.796875 13.5625 -14.265625 C 13.875 -14.742188 14.03125 -15.320312 14.03125 -16 C 14.03125 -17.132812 13.675781 -18.019531 12.96875 -18.65625 C 12.257812 -19.289062 11.203125 -19.609375 9.796875 -19.609375 C 8.523438 -19.609375 7.492188 -19.28125 6.703125 -18.625 C 5.921875 -17.976562 5.46875 -17.0625 5.34375 -15.875 L 2.4375 -16.09375 C 2.550781 -17.082031 2.820312 -17.945312 3.25 -18.6875 C 3.6875 -19.425781 4.234375 -20.039062 4.890625 -20.53125 C 5.546875 -21.019531 6.296875 -21.382812 7.140625 -21.625 C 7.984375 -21.863281 8.878906 -21.984375 9.828125 -21.984375 C 11.109375 -21.984375 12.195312 -21.832031 13.09375 -21.53125 C 14 -21.226562 14.738281 -20.820312 15.3125 -20.3125 C 15.894531 -19.800781 16.320312 -19.195312 16.59375 -18.5 C 16.863281 -17.8125 17 -17.078125 17 -16.296875 C 17 -15.710938 16.898438 -15.144531 16.703125 -14.59375 C 16.503906 -14.039062 16.210938 -13.535156 15.828125 -13.078125 C 15.441406 -12.617188 14.953125 -12.21875 14.359375 -11.875 C 13.765625 -11.53125 13.070312 -11.28125 12.28125 -11.125 L 12.28125 -11.0625 C 13.15625 -10.957031 13.925781 -10.742188 14.59375 -10.421875 C 15.257812 -10.109375 15.816406 -9.71875 16.265625 -9.25 C 16.710938 -8.78125 17.050781 -8.257812 17.28125 -7.6875 C 17.519531 -7.125 17.640625 -6.539062 17.640625 -5.9375 Z M 17.640625 -5.9375 \"/>\n",
       "</symbol>\n",
       "</g>\n",
       "</defs>\n",
       "<g id=\"surface43\">\n",
       "<path style=\"fill:none;stroke-width:1.264911;stroke-linecap:butt;stroke-linejoin:miter;stroke:rgb(0%,0%,0%);stroke-opacity:1;stroke-miterlimit:10;\" d=\"M 223.605469 28.644531 L 340.644531 84.085938 \"/>\n",
       "<path style=\"fill:none;stroke-width:1.264911;stroke-linecap:butt;stroke-linejoin:miter;stroke:rgb(0%,0%,0%);stroke-opacity:1;stroke-miterlimit:10;\" d=\"M 223.605469 28.644531 L 106.566406 84.085938 \"/>\n",
       "<path style=\"fill:none;stroke-width:1.264911;stroke-linecap:butt;stroke-linejoin:miter;stroke:rgb(0%,0%,0%);stroke-opacity:1;stroke-miterlimit:10;\" d=\"M 340.644531 84.082031 L 399.164062 139.523438 \"/>\n",
       "<path style=\"fill:none;stroke-width:1.264911;stroke-linecap:butt;stroke-linejoin:miter;stroke:rgb(0%,0%,0%);stroke-opacity:1;stroke-miterlimit:10;\" d=\"M 340.644531 84.082031 L 282.125 139.523438 \"/>\n",
       "<path style=\"fill-rule:nonzero;fill:rgb(100%,100%,100%);fill-opacity:1;stroke-width:1.264911;stroke-linecap:butt;stroke-linejoin:miter;stroke:rgb(100%,100%,100%);stroke-opacity:1;stroke-miterlimit:10;\" d=\"M 426.886719 158.003906 L 426.886719 121.042969 L 371.445312 121.042969 L 371.445312 158.003906 Z M 426.886719 158.003906 \"/>\n",
       "<path style=\"fill:none;stroke-width:1.264911;stroke-linecap:butt;stroke-linejoin:miter;stroke:rgb(0%,0%,0%);stroke-opacity:1;stroke-miterlimit:10;\" d=\"M 282.125 139.523438 L 340.644531 194.964844 \"/>\n",
       "<path style=\"fill:none;stroke-width:1.264911;stroke-linecap:butt;stroke-linejoin:miter;stroke:rgb(0%,0%,0%);stroke-opacity:1;stroke-miterlimit:10;\" d=\"M 282.125 139.523438 L 223.605469 194.964844 \"/>\n",
       "<path style=\"fill-rule:nonzero;fill:rgb(100%,100%,100%);fill-opacity:1;stroke-width:1.264911;stroke-linecap:butt;stroke-linejoin:miter;stroke:rgb(100%,100%,100%);stroke-opacity:1;stroke-miterlimit:10;\" d=\"M 368.367188 213.441406 L 368.367188 176.480469 L 312.925781 176.480469 L 312.925781 213.441406 Z M 368.367188 213.441406 \"/>\n",
       "<path style=\"fill-rule:nonzero;fill:rgb(100%,100%,100%);fill-opacity:1;stroke-width:1.264911;stroke-linecap:butt;stroke-linejoin:miter;stroke:rgb(100%,100%,100%);stroke-opacity:1;stroke-miterlimit:10;\" d=\"M 251.328125 213.441406 L 251.328125 176.480469 L 195.886719 176.480469 L 195.886719 213.441406 Z M 251.328125 213.441406 \"/>\n",
       "<path style=\"fill-rule:nonzero;fill:rgb(100%,100%,100%);fill-opacity:1;stroke-width:1.264911;stroke-linecap:butt;stroke-linejoin:miter;stroke:rgb(100%,100%,100%);stroke-opacity:1;stroke-miterlimit:10;\" d=\"M 309.847656 158.003906 L 309.847656 121.042969 L 254.40625 121.042969 L 254.40625 158.003906 Z M 309.847656 158.003906 \"/>\n",
       "<g style=\"fill:rgb(0%,0%,0%);fill-opacity:1;\">\n",
       "  <use xlink:href=\"#glyph-2020-09-0645562.642518667s0-1\" x=\"272.269061\" y=\"148.265926\"/>\n",
       "</g>\n",
       "<path style=\"fill-rule:nonzero;fill:rgb(100%,100%,100%);fill-opacity:1;stroke-width:1.264911;stroke-linecap:butt;stroke-linejoin:miter;stroke:rgb(100%,100%,100%);stroke-opacity:1;stroke-miterlimit:10;\" d=\"M 368.367188 102.5625 L 368.367188 65.601562 L 312.925781 65.601562 L 312.925781 102.5625 Z M 368.367188 102.5625 \"/>\n",
       "<g style=\"fill:rgb(0%,0%,0%);fill-opacity:1;\">\n",
       "  <use xlink:href=\"#glyph-2020-09-0645562.642518667s0-2\" x=\"330.788747\" y=\"92.826224\"/>\n",
       "</g>\n",
       "<path style=\"fill:none;stroke-width:1.264911;stroke-linecap:butt;stroke-linejoin:miter;stroke:rgb(0%,0%,0%);stroke-opacity:1;stroke-miterlimit:10;\" d=\"M 106.566406 84.082031 L 165.085938 139.523438 \"/>\n",
       "<path style=\"fill:none;stroke-width:1.264911;stroke-linecap:butt;stroke-linejoin:miter;stroke:rgb(0%,0%,0%);stroke-opacity:1;stroke-miterlimit:10;\" d=\"M 106.566406 84.082031 L 48.046875 139.523438 \"/>\n",
       "<path style=\"fill-rule:nonzero;fill:rgb(100%,100%,100%);fill-opacity:1;stroke-width:1.264911;stroke-linecap:butt;stroke-linejoin:miter;stroke:rgb(100%,100%,100%);stroke-opacity:1;stroke-miterlimit:10;\" d=\"M 192.808594 158.003906 L 192.808594 121.042969 L 137.367188 121.042969 L 137.367188 158.003906 Z M 192.808594 158.003906 \"/>\n",
       "<path style=\"fill-rule:nonzero;fill:rgb(100%,100%,100%);fill-opacity:1;stroke-width:1.264911;stroke-linecap:butt;stroke-linejoin:miter;stroke:rgb(100%,100%,100%);stroke-opacity:1;stroke-miterlimit:10;\" d=\"M 75.769531 158.003906 L 75.769531 121.042969 L 20.328125 121.042969 L 20.328125 158.003906 Z M 75.769531 158.003906 \"/>\n",
       "<path style=\"fill-rule:nonzero;fill:rgb(100%,100%,100%);fill-opacity:1;stroke-width:1.264911;stroke-linecap:butt;stroke-linejoin:miter;stroke:rgb(100%,100%,100%);stroke-opacity:1;stroke-miterlimit:10;\" d=\"M 134.289062 102.5625 L 134.289062 65.601562 L 78.847656 65.601562 L 78.847656 102.5625 Z M 134.289062 102.5625 \"/>\n",
       "<g style=\"fill:rgb(0%,0%,0%);fill-opacity:1;\">\n",
       "  <use xlink:href=\"#glyph-2020-09-0645562.642518667s0-3\" x=\"96.710005\" y=\"92.826224\"/>\n",
       "</g>\n",
       "<path style=\"fill-rule:nonzero;fill:rgb(100%,100%,100%);fill-opacity:1;stroke-width:1.264911;stroke-linecap:butt;stroke-linejoin:miter;stroke:rgb(100%,100%,100%);stroke-opacity:1;stroke-miterlimit:10;\" d=\"M 251.328125 47.125 L 251.328125 10.164062 L 195.886719 10.164062 L 195.886719 47.125 Z M 251.328125 47.125 \"/>\n",
       "<g style=\"fill:rgb(0%,0%,0%);fill-opacity:1;\">\n",
       "  <use xlink:href=\"#glyph-2020-09-0645562.642518667s0-4\" x=\"213.749376\" y=\"37.386522\"/>\n",
       "</g>\n",
       "</g>\n",
       "</svg>\n"
      ]
     },
     "metadata": {},
     "output_type": "display_data"
    }
   ],
   "source": [
    "t4 =  Node 3\n",
    "        (Node 2 Null Null)\n",
    "        (Node 6\n",
    "            (Node 5 Null Null)\n",
    "            Null)\n",
    "            \n",
    "diagram . renderBinTree $ t4 -- BST가 맞다!"
   ]
  },
  {
   "cell_type": "code",
   "execution_count": 53,
   "metadata": {},
   "outputs": [],
   "source": [
    "-- 연습문제 또는 과제로 ... 한번 스스로 해보세요\n",
    "\n",
    "-- isBST :: Ord a => Tree a -> Bool\n",
    "isBST Null           = undefined\n",
    "isBST (Node x t1 t2) = undefined"
   ]
  },
  {
   "cell_type": "markdown",
   "metadata": {},
   "source": [
    "<br>\n",
    "\n",
    "`x`라는 값이 이진탐색트리 `t`에 들어있는지 `search x t`로 검사하는 함수 `search`를 작성해 보자.\n",
    "이진탐색트리(BST)의 성질을 이용하면 `occurs`보다 효과적으로 검사할 수 있다. (`search` 함수의 두번째 인자는 BST라고 가정한다.)"
   ]
  },
  {
   "cell_type": "code",
   "execution_count": 54,
   "metadata": {},
   "outputs": [],
   "source": [
    "-- search :: Ord a => a -> Tree a -> Bool\n",
    "search x Null           = False\n",
    "search x (Node y t1 t2) = if x==y then True\n",
    "                                  else if x < y then search x t1\n",
    "                                                else search x t2"
   ]
  },
  {
   "cell_type": "code",
   "execution_count": 55,
   "metadata": {},
   "outputs": [
    {
     "data": {
      "text/plain": [
       "True"
      ]
     },
     "metadata": {},
     "output_type": "display_data"
    },
    {
     "data": {
      "text/plain": [
       "True"
      ]
     },
     "metadata": {},
     "output_type": "display_data"
    },
    {
     "data": {
      "text/plain": [
       "False"
      ]
     },
     "metadata": {},
     "output_type": "display_data"
    },
    {
     "data": {
      "text/plain": [
       "False"
      ]
     },
     "metadata": {},
     "output_type": "display_data"
    }
   ],
   "source": [
    "search 2 t4\n",
    "search 5 t4\n",
    "search 1 t4\n",
    "search 7 t4"
   ]
  },
  {
   "cell_type": "code",
   "execution_count": 56,
   "metadata": {},
   "outputs": [
    {
     "data": {
      "text/plain": [
       "False"
      ]
     },
     "metadata": {},
     "output_type": "display_data"
    }
   ],
   "source": [
    "search 6 t3 -- 이진트리가 아닌 경우에는 제대로 동작 안함"
   ]
  },
  {
   "cell_type": "code",
   "execution_count": 57,
   "metadata": {},
   "outputs": [],
   "source": [
    "search' x Null           = False\n",
    "search' x (Node y t1 t2)\n",
    "  | x == y    = True\n",
    "  | x <  y    = search' x t1\n",
    "  | otherwise = search' x t2\n",
    "  \n",
    "-- 표준라이브러리에 아래와 같이 정의됨\n",
    "-- otherwise = True"
   ]
  },
  {
   "cell_type": "code",
   "execution_count": 58,
   "metadata": {},
   "outputs": [
    {
     "data": {
      "text/plain": [
       "True"
      ]
     },
     "metadata": {},
     "output_type": "display_data"
    },
    {
     "data": {
      "text/plain": [
       "True"
      ]
     },
     "metadata": {},
     "output_type": "display_data"
    },
    {
     "data": {
      "text/plain": [
       "False"
      ]
     },
     "metadata": {},
     "output_type": "display_data"
    },
    {
     "data": {
      "text/plain": [
       "False"
      ]
     },
     "metadata": {},
     "output_type": "display_data"
    }
   ],
   "source": [
    "search' 2 t4\n",
    "search' 5 t4\n",
    "search' 1 t4\n",
    "search' 7 t4"
   ]
  },
  {
   "cell_type": "code",
   "execution_count": null,
   "metadata": {},
   "outputs": [],
   "source": []
  }
 ],
 "metadata": {
  "kernelspec": {
   "display_name": "Haskell",
   "language": "haskell",
   "name": "haskell"
  },
  "language_info": {
   "codemirror_mode": "ihaskell",
   "file_extension": ".hs",
   "name": "haskell",
   "pygments_lexer": "Haskell",
   "version": "8.6.5"
  }
 },
 "nbformat": 4,
 "nbformat_minor": 4
}
