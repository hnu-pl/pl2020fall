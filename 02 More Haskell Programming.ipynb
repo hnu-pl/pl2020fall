{
 "cells": [
  {
   "cell_type": "code",
   "execution_count": 3,
   "metadata": {},
   "outputs": [],
   "source": [
    ":opt no-lint"
   ]
  },
  {
   "cell_type": "markdown",
   "metadata": {},
   "source": [
    "# More Haskell Programming\n",
    "\n",
    "* [Recursive functions over lists](#Recursive-functions-over-lists)\n",
    "* [Higher-order functions over lists](#Higher-order-functions-over-lists)\n",
    "* [Recursive data types](#Recursive-data-types)"
   ]
  },
  {
   "cell_type": "markdown",
   "metadata": {},
   "source": [
    "## Recursive functions over lists\n",
    "(리스트에 대한 재귀함수)"
   ]
  },
  {
   "cell_type": "code",
   "execution_count": 4,
   "metadata": {},
   "outputs": [
    {
     "data": {
      "text/plain": [
       "10"
      ]
     },
     "metadata": {},
     "output_type": "display_data"
    },
    {
     "data": {
      "text/plain": [
       "24"
      ]
     },
     "metadata": {},
     "output_type": "display_data"
    }
   ],
   "source": [
    "sum [1,2,3,4]\n",
    "product [1,2,3,4]"
   ]
  },
  {
   "cell_type": "code",
   "execution_count": 5,
   "metadata": {},
   "outputs": [],
   "source": [
    "mysum []     = 0             -- 귀납 기초에 해당하는 경우  base case\n",
    "mysum (x:xs) = x + mysum xs  -- 귀납 단계에 해당한는 경우 inductive case\n",
    "\n",
    "myproduct []     = 1                 -- base case\n",
    "myproduct (x:xs) = x * myproduct xs  -- inductive case"
   ]
  },
  {
   "cell_type": "code",
   "execution_count": 6,
   "metadata": {},
   "outputs": [
    {
     "data": {
      "text/plain": [
       "10"
      ]
     },
     "metadata": {},
     "output_type": "display_data"
    },
    {
     "data": {
      "text/plain": [
       "24"
      ]
     },
     "metadata": {},
     "output_type": "display_data"
    }
   ],
   "source": [
    "mysum [1,2,3,4]\n",
    "myproduct [1,2,3,4]"
   ]
  },
  {
   "cell_type": "markdown",
   "metadata": {},
   "source": [
    "## Higher-order functions over lists\n",
    "(리스트에 대한 고차함수)\n",
    "\n",
    "### `map`\n",
    "\n",
    "```haskell\n",
    "f :: a -> b\n",
    "x1, x2, x3, x4 :: a\n",
    "```\n",
    "위와 같은 함수 `f`와 `x1`~`x4`에 대해 `map` 함수를 활용해 계산하면 아래와 같은 성질이 성립\n",
    "```haskell\n",
    "map f [x1, x2, x3, x4] == [f x1, f x2, f x3, f x4]\n",
    "```"
   ]
  },
  {
   "cell_type": "code",
   "execution_count": 9,
   "metadata": {},
   "outputs": [
    {
     "data": {
      "text/plain": [
       "[1,2,3,4,5,6,7,8,9,10]"
      ]
     },
     "metadata": {},
     "output_type": "display_data"
    }
   ],
   "source": [
    "l = [1..10]\n",
    "\n",
    "l"
   ]
  },
  {
   "cell_type": "code",
   "execution_count": 10,
   "metadata": {},
   "outputs": [
    {
     "data": {
      "text/html": [
       "<style>/* Styles used for the Hoogle display in the pager */\n",
       ".hoogle-doc {\n",
       "display: block;\n",
       "padding-bottom: 1.3em;\n",
       "padding-left: 0.4em;\n",
       "}\n",
       ".hoogle-code {\n",
       "display: block;\n",
       "font-family: monospace;\n",
       "white-space: pre;\n",
       "}\n",
       ".hoogle-text {\n",
       "display: block;\n",
       "}\n",
       ".hoogle-name {\n",
       "color: green;\n",
       "font-weight: bold;\n",
       "}\n",
       ".hoogle-head {\n",
       "font-weight: bold;\n",
       "}\n",
       ".hoogle-sub {\n",
       "display: block;\n",
       "margin-left: 0.4em;\n",
       "}\n",
       ".hoogle-package {\n",
       "font-weight: bold;\n",
       "font-style: italic;\n",
       "}\n",
       ".hoogle-module {\n",
       "font-weight: bold;\n",
       "}\n",
       ".hoogle-class {\n",
       "font-weight: bold;\n",
       "}\n",
       ".get-type {\n",
       "color: green;\n",
       "font-weight: bold;\n",
       "font-family: monospace;\n",
       "display: block;\n",
       "white-space: pre-wrap;\n",
       "}\n",
       ".show-type {\n",
       "color: green;\n",
       "font-weight: bold;\n",
       "font-family: monospace;\n",
       "margin-left: 1em;\n",
       "}\n",
       ".mono {\n",
       "font-family: monospace;\n",
       "display: block;\n",
       "}\n",
       ".err-msg {\n",
       "color: red;\n",
       "font-style: italic;\n",
       "font-family: monospace;\n",
       "white-space: pre;\n",
       "display: block;\n",
       "}\n",
       "#unshowable {\n",
       "color: red;\n",
       "font-weight: bold;\n",
       "}\n",
       ".err-msg.in.collapse {\n",
       "padding-top: 0.7em;\n",
       "}\n",
       ".highlight-code {\n",
       "white-space: pre;\n",
       "font-family: monospace;\n",
       "}\n",
       ".suggestion-warning { \n",
       "font-weight: bold;\n",
       "color: rgb(200, 130, 0);\n",
       "}\n",
       ".suggestion-error { \n",
       "font-weight: bold;\n",
       "color: red;\n",
       "}\n",
       ".suggestion-name {\n",
       "font-weight: bold;\n",
       "}\n",
       "</style><span class='get-type'>map :: forall a b. (a -> b) -> [a] -> [b]</span>"
      ],
      "text/plain": [
       "map :: forall a b. (a -> b) -> [a] -> [b]"
      ]
     },
     "metadata": {},
     "output_type": "display_data"
    }
   ],
   "source": [
    ":type map"
   ]
  },
  {
   "cell_type": "code",
   "execution_count": 13,
   "metadata": {},
   "outputs": [
    {
     "data": {
      "text/plain": [
       "[2,4,6,8,10,12,14,16,18,20]"
      ]
     },
     "metadata": {},
     "output_type": "display_data"
    },
    {
     "data": {
      "text/plain": [
       "[2,4,6,8,10,12,14,16,18,20]"
      ]
     },
     "metadata": {},
     "output_type": "display_data"
    }
   ],
   "source": [
    "map (\\x -> 2*x) l -- 람다식으로 간단한 함수를 표현\n",
    "map (2*) l        -- 위와 같은 형태의 중위 연산자의 한쪽에 인자를 넘기는 람다식을 이와 같이 줄일 수 있다"
   ]
  },
  {
   "cell_type": "code",
   "execution_count": 14,
   "metadata": {},
   "outputs": [
    {
     "data": {
      "text/plain": [
       "20"
      ]
     },
     "metadata": {},
     "output_type": "display_data"
    },
    {
     "data": {
      "text/plain": [
       "20"
      ]
     },
     "metadata": {},
     "output_type": "display_data"
    },
    {
     "data": {
      "text/plain": [
       "20"
      ]
     },
     "metadata": {},
     "output_type": "display_data"
    }
   ],
   "source": [
    "(\\x -> 2*x) 10\n",
    "(2*) 10\n",
    "2 * 10"
   ]
  },
  {
   "cell_type": "markdown",
   "metadata": {},
   "source": [
    "#### `map`을 리스트 조건제시식으로\n",
    "\n",
    "리스트를 집합처럼 생각해 본다면,\n",
    "어떤 집합 $L$의 원소 각각에 적용가능한 함수 $f$가 있을 때,\n",
    "집합의 조건제시법 표현으로 다음과 같이 나타낼 수 있을 것이다.\n",
    "\n",
    "$\\qquad \\texttt{map}~f~L ~=~ \\{f(x) \\mid x\\in L\\}$\n",
    "\n",
    "이를 본딴 하스켈의 리스트 조건제시식 문법으로 다음과 같이 작성할 수 있다.\n",
    "```haskell\n",
    "map f l = [ f x | x <- l ]\n",
    "```"
   ]
  },
  {
   "cell_type": "code",
   "execution_count": 16,
   "metadata": {},
   "outputs": [
    {
     "data": {
      "text/plain": [
       "[1,2,3,4,5,6,7,8,9,10]"
      ]
     },
     "metadata": {},
     "output_type": "display_data"
    },
    {
     "data": {
      "text/plain": [
       "[2,4,6,8,10,12,14,16,18,20]"
      ]
     },
     "metadata": {},
     "output_type": "display_data"
    }
   ],
   "source": [
    "l\n",
    "[2*x | x<-l] -- 리스트 조건제시식으로 위에서 map을 사용해 계산한 것과 똑같은 계산"
   ]
  },
  {
   "cell_type": "markdown",
   "metadata": {},
   "source": [
    "### `filter`\n",
    "\n",
    "```haskell\n",
    "p :: a -> Bool\n",
    "x1,x2,x3,x4 :: a\n",
    "\n",
    "p x1 == False\n",
    "p x2 == True\n",
    "p x3 == True\n",
    "p x4 == False\n",
    "```\n",
    "위와 같은 함수 `p`와 `x1`~`x4`에 대해 `filter` 함수를 활용해 계산하면 아래와 같은 성질이 성립\n",
    "```haskell\n",
    "filter p [x1, x2, x3, x4] == [x2, x3]\n",
    "```"
   ]
  },
  {
   "cell_type": "code",
   "execution_count": 17,
   "metadata": {},
   "outputs": [
    {
     "data": {
      "text/plain": [
       "[1,2,3,4,5,6,7,8,9,10]"
      ]
     },
     "metadata": {},
     "output_type": "display_data"
    }
   ],
   "source": [
    "l = [1..10]\n",
    "\n",
    "l"
   ]
  },
  {
   "cell_type": "code",
   "execution_count": 18,
   "metadata": {},
   "outputs": [
    {
     "data": {
      "text/html": [
       "<style>/* Styles used for the Hoogle display in the pager */\n",
       ".hoogle-doc {\n",
       "display: block;\n",
       "padding-bottom: 1.3em;\n",
       "padding-left: 0.4em;\n",
       "}\n",
       ".hoogle-code {\n",
       "display: block;\n",
       "font-family: monospace;\n",
       "white-space: pre;\n",
       "}\n",
       ".hoogle-text {\n",
       "display: block;\n",
       "}\n",
       ".hoogle-name {\n",
       "color: green;\n",
       "font-weight: bold;\n",
       "}\n",
       ".hoogle-head {\n",
       "font-weight: bold;\n",
       "}\n",
       ".hoogle-sub {\n",
       "display: block;\n",
       "margin-left: 0.4em;\n",
       "}\n",
       ".hoogle-package {\n",
       "font-weight: bold;\n",
       "font-style: italic;\n",
       "}\n",
       ".hoogle-module {\n",
       "font-weight: bold;\n",
       "}\n",
       ".hoogle-class {\n",
       "font-weight: bold;\n",
       "}\n",
       ".get-type {\n",
       "color: green;\n",
       "font-weight: bold;\n",
       "font-family: monospace;\n",
       "display: block;\n",
       "white-space: pre-wrap;\n",
       "}\n",
       ".show-type {\n",
       "color: green;\n",
       "font-weight: bold;\n",
       "font-family: monospace;\n",
       "margin-left: 1em;\n",
       "}\n",
       ".mono {\n",
       "font-family: monospace;\n",
       "display: block;\n",
       "}\n",
       ".err-msg {\n",
       "color: red;\n",
       "font-style: italic;\n",
       "font-family: monospace;\n",
       "white-space: pre;\n",
       "display: block;\n",
       "}\n",
       "#unshowable {\n",
       "color: red;\n",
       "font-weight: bold;\n",
       "}\n",
       ".err-msg.in.collapse {\n",
       "padding-top: 0.7em;\n",
       "}\n",
       ".highlight-code {\n",
       "white-space: pre;\n",
       "font-family: monospace;\n",
       "}\n",
       ".suggestion-warning { \n",
       "font-weight: bold;\n",
       "color: rgb(200, 130, 0);\n",
       "}\n",
       ".suggestion-error { \n",
       "font-weight: bold;\n",
       "color: red;\n",
       "}\n",
       ".suggestion-name {\n",
       "font-weight: bold;\n",
       "}\n",
       "</style><span class='get-type'>filter :: forall a. (a -> Bool) -> [a] -> [a]</span>"
      ],
      "text/plain": [
       "filter :: forall a. (a -> Bool) -> [a] -> [a]"
      ]
     },
     "metadata": {},
     "output_type": "display_data"
    }
   ],
   "source": [
    ":type filter"
   ]
  },
  {
   "cell_type": "code",
   "execution_count": 19,
   "metadata": {},
   "outputs": [
    {
     "data": {
      "text/plain": [
       "True"
      ]
     },
     "metadata": {},
     "output_type": "display_data"
    },
    {
     "data": {
      "text/plain": [
       "False"
      ]
     },
     "metadata": {},
     "output_type": "display_data"
    },
    {
     "data": {
      "text/plain": [
       "True"
      ]
     },
     "metadata": {},
     "output_type": "display_data"
    },
    {
     "data": {
      "text/plain": [
       "False"
      ]
     },
     "metadata": {},
     "output_type": "display_data"
    },
    {
     "data": {
      "text/plain": [
       "True"
      ]
     },
     "metadata": {},
     "output_type": "display_data"
    }
   ],
   "source": [
    "odd 1 -- 홀수인\n",
    "odd 2\n",
    "odd 3 -- 경우에만\n",
    "odd 4\n",
    "odd 5 -- 결과가 True "
   ]
  },
  {
   "cell_type": "code",
   "execution_count": 20,
   "metadata": {},
   "outputs": [
    {
     "data": {
      "text/plain": [
       "[1,3,5,7,9]"
      ]
     },
     "metadata": {},
     "output_type": "display_data"
    }
   ],
   "source": [
    "filter odd l"
   ]
  },
  {
   "cell_type": "markdown",
   "metadata": {},
   "source": [
    "#### `filter`을 리스트 조건제시식으로\n",
    "리스트를 집합처럼 생각해 본다면,\n",
    "어떤 집합 $L$의 원소 각각에 적용해 참/거짓을 판별할 수 있는 함수 $p$가 있을 때,\n",
    "집합의 조건제시법 표현으로 다음과 같이 나타낼 수 있을 것이다.\n",
    "\n",
    "$\\qquad \\texttt{filter}~p~L ~=~ \\{x \\mid x\\in L,~p(x)\\}$\n",
    "\n",
    "이를 본딴 하스켈의 리스트 조건제시식 문법으로 다음과 같이 작성할 수 있다.\n",
    "```haskell\n",
    "filter p l = [ x | x <- l, p x ]\n",
    "```"
   ]
  },
  {
   "cell_type": "code",
   "execution_count": 22,
   "metadata": {},
   "outputs": [
    {
     "data": {
      "text/plain": [
       "[1,2,3,4,5,6,7,8,9,10]"
      ]
     },
     "metadata": {},
     "output_type": "display_data"
    },
    {
     "data": {
      "text/plain": [
       "[1,3,5,7,9]"
      ]
     },
     "metadata": {},
     "output_type": "display_data"
    }
   ],
   "source": [
    "l\n",
    "[x | x<-l, odd x] -- filter를 써서 위와 같이 한 것과 같은 계산을 하는 조건제시식"
   ]
  },
  {
   "cell_type": "markdown",
   "metadata": {},
   "source": [
    "### Using `map` and `filter` together"
   ]
  },
  {
   "cell_type": "code",
   "execution_count": 24,
   "metadata": {},
   "outputs": [
    {
     "data": {
      "text/plain": [
       "[4,10,16,22,28]"
      ]
     },
     "metadata": {},
     "output_type": "display_data"
    },
    {
     "data": {
      "text/plain": [
       "[4,10,16,22,28]"
      ]
     },
     "metadata": {},
     "output_type": "display_data"
    }
   ],
   "source": [
    "map (\\x -> 3*x + 1) (filter odd [1..10])\n",
    "\n",
    "[ 3*x + 1 | x<-[1..10], odd x ]     -- 위와 같은 같은 계산을 하는 조건제시식"
   ]
  },
  {
   "cell_type": "code",
   "execution_count": 27,
   "metadata": {},
   "outputs": [
    {
     "data": {
      "text/plain": [
       "[7,13,19,25,31]"
      ]
     },
     "metadata": {},
     "output_type": "display_data"
    }
   ],
   "source": [
    "filter odd (map (\\x -> 3*x + 1) [1..10])\n",
    "\n",
    "-- 연습문제: 위와 같은 리스트를 조건제시법을 사용해 표현해 보라"
   ]
  },
  {
   "cell_type": "markdown",
   "metadata": {},
   "source": [
    "### Application operator\n",
    "\n",
    "참고로 하스켈에서 함수 적용(application) 연산자라 불리는 `$` 연산자도 고차함수이다.\n",
    "\n",
    "용도는 그냥 괄호를 쓰는 걸 줄여주는 것이고 다른 특별한 내용을 더 계산하지는 않는다.\n",
    "(코드를 읽을 때 눈을 덜 아프게 해 주는 역할이라 보면 됨.)"
   ]
  },
  {
   "cell_type": "code",
   "execution_count": 17,
   "metadata": {},
   "outputs": [
    {
     "data": {
      "text/html": [
       "<style>/* Styles used for the Hoogle display in the pager */\n",
       ".hoogle-doc {\n",
       "display: block;\n",
       "padding-bottom: 1.3em;\n",
       "padding-left: 0.4em;\n",
       "}\n",
       ".hoogle-code {\n",
       "display: block;\n",
       "font-family: monospace;\n",
       "white-space: pre;\n",
       "}\n",
       ".hoogle-text {\n",
       "display: block;\n",
       "}\n",
       ".hoogle-name {\n",
       "color: green;\n",
       "font-weight: bold;\n",
       "}\n",
       ".hoogle-head {\n",
       "font-weight: bold;\n",
       "}\n",
       ".hoogle-sub {\n",
       "display: block;\n",
       "margin-left: 0.4em;\n",
       "}\n",
       ".hoogle-package {\n",
       "font-weight: bold;\n",
       "font-style: italic;\n",
       "}\n",
       ".hoogle-module {\n",
       "font-weight: bold;\n",
       "}\n",
       ".hoogle-class {\n",
       "font-weight: bold;\n",
       "}\n",
       ".get-type {\n",
       "color: green;\n",
       "font-weight: bold;\n",
       "font-family: monospace;\n",
       "display: block;\n",
       "white-space: pre-wrap;\n",
       "}\n",
       ".show-type {\n",
       "color: green;\n",
       "font-weight: bold;\n",
       "font-family: monospace;\n",
       "margin-left: 1em;\n",
       "}\n",
       ".mono {\n",
       "font-family: monospace;\n",
       "display: block;\n",
       "}\n",
       ".err-msg {\n",
       "color: red;\n",
       "font-style: italic;\n",
       "font-family: monospace;\n",
       "white-space: pre;\n",
       "display: block;\n",
       "}\n",
       "#unshowable {\n",
       "color: red;\n",
       "font-weight: bold;\n",
       "}\n",
       ".err-msg.in.collapse {\n",
       "padding-top: 0.7em;\n",
       "}\n",
       ".highlight-code {\n",
       "white-space: pre;\n",
       "font-family: monospace;\n",
       "}\n",
       ".suggestion-warning { \n",
       "font-weight: bold;\n",
       "color: rgb(200, 130, 0);\n",
       "}\n",
       ".suggestion-error { \n",
       "font-weight: bold;\n",
       "color: red;\n",
       "}\n",
       ".suggestion-name {\n",
       "font-weight: bold;\n",
       "}\n",
       "</style><span class='get-type'>($) :: forall a b. (a -> b) -> a -> b</span>"
      ],
      "text/plain": [
       "($) :: forall a b. (a -> b) -> a -> b"
      ]
     },
     "metadata": {},
     "output_type": "display_data"
    }
   ],
   "source": [
    ":type ($)"
   ]
  },
  {
   "cell_type": "code",
   "execution_count": 18,
   "metadata": {},
   "outputs": [
    {
     "data": {
      "text/plain": [
       "[2,6,10,14,18]"
      ]
     },
     "metadata": {},
     "output_type": "display_data"
    },
    {
     "data": {
      "text/plain": [
       "[2,6,10,14,18]"
      ]
     },
     "metadata": {},
     "output_type": "display_data"
    }
   ],
   "source": [
    "map (2*) (filter odd [1..10])\n",
    "map (2*) $ filter odd [1..10] -- 오른쪽 식에 대한 괄호를 쓰기 귀찮을 때 $ 연산자"
   ]
  },
  {
   "cell_type": "markdown",
   "metadata": {},
   "source": [
    "위 연산자와 같은 일을 하는 `.$` 연산자를 우리 나름대로 직접 정의해보자면 다음과 같다"
   ]
  },
  {
   "cell_type": "code",
   "execution_count": 19,
   "metadata": {},
   "outputs": [
    {
     "data": {
      "text/plain": [
       "[2,6,10,14,18]"
      ]
     },
     "metadata": {},
     "output_type": "display_data"
    }
   ],
   "source": [
    "(.$) :: (a -> b) -> a -> b\n",
    "f .$ x = f x\n",
    "\n",
    "map (2*) .$ filter odd [1..10]"
   ]
  },
  {
   "cell_type": "markdown",
   "metadata": {},
   "source": [
    "### Function composition operator\n",
    "\n",
    "함수형 프로그래밍을 전혀 해보지 않았더라도 가장 익숙할 만한 고차함수는 바로 함수 함성(function composition) 연산자이다.\n",
    "하스켈에서 함수 합성 연산자는 `.`을 쓴다.\n",
    "\n",
    "참고로 이 함수 합성 연산자의 정의는 다음과 같다.\n",
    "\n",
    "```haskell\n",
    "(.) :: (b -> c) -> (a -> b) -> (a -> c)\n",
    "f . g = \\x -> f(g(x))\n",
    "```"
   ]
  },
  {
   "cell_type": "code",
   "execution_count": 20,
   "metadata": {},
   "outputs": [
    {
     "data": {
      "text/html": [
       "<style>/* Styles used for the Hoogle display in the pager */\n",
       ".hoogle-doc {\n",
       "display: block;\n",
       "padding-bottom: 1.3em;\n",
       "padding-left: 0.4em;\n",
       "}\n",
       ".hoogle-code {\n",
       "display: block;\n",
       "font-family: monospace;\n",
       "white-space: pre;\n",
       "}\n",
       ".hoogle-text {\n",
       "display: block;\n",
       "}\n",
       ".hoogle-name {\n",
       "color: green;\n",
       "font-weight: bold;\n",
       "}\n",
       ".hoogle-head {\n",
       "font-weight: bold;\n",
       "}\n",
       ".hoogle-sub {\n",
       "display: block;\n",
       "margin-left: 0.4em;\n",
       "}\n",
       ".hoogle-package {\n",
       "font-weight: bold;\n",
       "font-style: italic;\n",
       "}\n",
       ".hoogle-module {\n",
       "font-weight: bold;\n",
       "}\n",
       ".hoogle-class {\n",
       "font-weight: bold;\n",
       "}\n",
       ".get-type {\n",
       "color: green;\n",
       "font-weight: bold;\n",
       "font-family: monospace;\n",
       "display: block;\n",
       "white-space: pre-wrap;\n",
       "}\n",
       ".show-type {\n",
       "color: green;\n",
       "font-weight: bold;\n",
       "font-family: monospace;\n",
       "margin-left: 1em;\n",
       "}\n",
       ".mono {\n",
       "font-family: monospace;\n",
       "display: block;\n",
       "}\n",
       ".err-msg {\n",
       "color: red;\n",
       "font-style: italic;\n",
       "font-family: monospace;\n",
       "white-space: pre;\n",
       "display: block;\n",
       "}\n",
       "#unshowable {\n",
       "color: red;\n",
       "font-weight: bold;\n",
       "}\n",
       ".err-msg.in.collapse {\n",
       "padding-top: 0.7em;\n",
       "}\n",
       ".highlight-code {\n",
       "white-space: pre;\n",
       "font-family: monospace;\n",
       "}\n",
       ".suggestion-warning { \n",
       "font-weight: bold;\n",
       "color: rgb(200, 130, 0);\n",
       "}\n",
       ".suggestion-error { \n",
       "font-weight: bold;\n",
       "color: red;\n",
       "}\n",
       ".suggestion-name {\n",
       "font-weight: bold;\n",
       "}\n",
       "</style><span class='get-type'>(.) :: forall b c a. (b -> c) -> (a -> b) -> a -> c</span>"
      ],
      "text/plain": [
       "(.) :: forall b c a. (b -> c) -> (a -> b) -> a -> c"
      ]
     },
     "metadata": {},
     "output_type": "display_data"
    }
   ],
   "source": [
    ":type (.)"
   ]
  },
  {
   "cell_type": "code",
   "execution_count": 21,
   "metadata": {},
   "outputs": [
    {
     "data": {
      "text/plain": [
       "23"
      ]
     },
     "metadata": {},
     "output_type": "display_data"
    }
   ],
   "source": [
    "h = (+3) . (*2)\n",
    "\n",
    "h 10"
   ]
  },
  {
   "cell_type": "markdown",
   "metadata": {},
   "source": [
    "참고로 괄호가 여러 개 겹쳐 있을 때 함수 합성 연산자(`.`)와 함수 적용 연산자 (`$`)를 함께 사용하면,\n",
    "여러 개의 함수를 연달아 호출하는 식을 표현할 때 여러 겹으로 겹치는 괄호 때문에 눈이 아픈 코드 대신에\n",
    "괄호 없이 이 두 연산자들로만 연결된 식으로 바꿔 쓸 수 있다.\n",
    "\n",
    "````haskell\n",
    "f1 . f2 . f3 . f4 $ x == f1 (f2 (f3 (f4 x)))\n",
    "````"
   ]
  },
  {
   "cell_type": "code",
   "execution_count": 22,
   "metadata": {},
   "outputs": [
    {
     "data": {
      "text/plain": [
       "150"
      ]
     },
     "metadata": {},
     "output_type": "display_data"
    },
    {
     "data": {
      "text/plain": [
       "150"
      ]
     },
     "metadata": {},
     "output_type": "display_data"
    }
   ],
   "source": [
    "(+100) ((2*) ((^2) (floor (sqrt 26))))   -- 26의 제곱근을 내림한 정수의 제곱에다 두배를 한 다음 100을 더하기\n",
    "\n",
    "(+100) . (2*) . (^2) . floor . sqrt $ 26 -- 보통 빈칸을 넣기 때문에 길이가 줄어들진 않지만 괄호 파악을 안해도 되어서 눈은 좀 덜 아픔"
   ]
  },
  {
   "cell_type": "markdown",
   "metadata": {},
   "source": [
    "### Folds over lists\n",
    "(리스트에 대한 fold)\n",
    "\n",
    "`sum`이나 `product`같은 것을 더 일반화할 수 있는 고차함수를 살펴보자."
   ]
  },
  {
   "cell_type": "code",
   "execution_count": 23,
   "metadata": {},
   "outputs": [
    {
     "data": {
      "text/plain": [
       "9"
      ]
     },
     "metadata": {},
     "output_type": "display_data"
    },
    {
     "data": {
      "text/plain": [
       "24"
      ]
     },
     "metadata": {},
     "output_type": "display_data"
    }
   ],
   "source": [
    "foldr (+) 0 [2,3,4]  -- 2 + (3 + (4 + 0))\n",
    "foldr (*) 1 [2,3,4]  -- 2 * (3 * (4 * 1))"
   ]
  },
  {
   "cell_type": "code",
   "execution_count": 24,
   "metadata": {},
   "outputs": [
    {
     "data": {
      "text/plain": [
       "9"
      ]
     },
     "metadata": {},
     "output_type": "display_data"
    },
    {
     "data": {
      "text/plain": [
       "24"
      ]
     },
     "metadata": {},
     "output_type": "display_data"
    }
   ],
   "source": [
    "foldl (+) 0 [2,3,4]  -- ((0 + 2) + 3) + 4\n",
    "foldl (*) 1 [2,3,4]  -- ((1 * 2) * 3) * 4"
   ]
  },
  {
   "cell_type": "code",
   "execution_count": 25,
   "metadata": {},
   "outputs": [
    {
     "data": {
      "text/plain": [
       "-97"
      ]
     },
     "metadata": {},
     "output_type": "display_data"
    },
    {
     "data": {
      "text/plain": [
       "91"
      ]
     },
     "metadata": {},
     "output_type": "display_data"
    }
   ],
   "source": [
    "foldr (-) 100 [2,3,4]  -- 2 - (3 - (4 - 100))\n",
    "foldl (-) 100 [2,3,4]  -- ((100 - 2) - 3) - 4"
   ]
  },
  {
   "cell_type": "markdown",
   "metadata": {},
   "source": [
    "----\n",
    "## Recursive data types\n",
    "(재귀적 데이터 타입)\n",
    "\n",
    "간단한 재귀적 테이터 타입의 예를 들 때 가장 많이 사용하는 것은 자연수(음이 아닌 정수)의 일진법 형태이다.\n",
    "아래 `Nat`데이타 타입에서 `S`의 개수가 자연수의 값에 해당한다. "
   ]
  },
  {
   "cell_type": "code",
   "execution_count": 26,
   "metadata": {},
   "outputs": [],
   "source": [
    "data Nat = Z      -- 귀납 기초: Z는 자연수이다\n",
    "         | S Nat  -- 귀납 단계: 자연수 n으로부터 다음 자연수 (S n)을 만들 수 있다 \n",
    "       deriving Show"
   ]
  },
  {
   "cell_type": "code",
   "execution_count": 27,
   "metadata": {},
   "outputs": [
    {
     "data": {
      "text/plain": [
       "Z"
      ]
     },
     "metadata": {},
     "output_type": "display_data"
    },
    {
     "data": {
      "text/plain": [
       "S Z"
      ]
     },
     "metadata": {},
     "output_type": "display_data"
    },
    {
     "data": {
      "text/plain": [
       "S (S Z)"
      ]
     },
     "metadata": {},
     "output_type": "display_data"
    },
    {
     "data": {
      "text/plain": [
       "S (S (S Z))"
      ]
     },
     "metadata": {},
     "output_type": "display_data"
    }
   ],
   "source": [
    "Z           -- 0\n",
    "S Z         -- 1\n",
    "S (S Z)     -- 2\n",
    "S (S (S Z)) -- ..."
   ]
  },
  {
   "cell_type": "markdown",
   "metadata": {},
   "source": [
    "컴퓨터는 정수를 표현할 때 일진법보다 효율적인 이진법을 쓰므로 하스켈을 포함한 대부분의 언어에서 기본 타입으로 제공하는 정수 타입도 그에 기반한다. 우리가 정의한 일진법 자연수를 하스켈에서 기본적으로 제공하는 정수 타입으로 바꾸는 `nat2int` 함수를 작성해 보자."
   ]
  },
  {
   "cell_type": "code",
   "execution_count": 28,
   "metadata": {},
   "outputs": [],
   "source": [
    "nat2int Z     = 0\n",
    "nat2int (S n) = 1 + nat2int n"
   ]
  },
  {
   "cell_type": "code",
   "execution_count": 29,
   "metadata": {},
   "outputs": [
    {
     "data": {
      "text/plain": [
       "0"
      ]
     },
     "metadata": {},
     "output_type": "display_data"
    },
    {
     "data": {
      "text/plain": [
       "2"
      ]
     },
     "metadata": {},
     "output_type": "display_data"
    },
    {
     "data": {
      "text/plain": [
       "5"
      ]
     },
     "metadata": {},
     "output_type": "display_data"
    }
   ],
   "source": [
    "nat2int Z\n",
    "nat2int (S(S Z))\n",
    "nat2int (S(S(S(S(S Z)))))"
   ]
  },
  {
   "cell_type": "markdown",
   "metadata": {},
   "source": [
    "반대로 하스켈 기본 타입 정수를 Nat 타입의 일진수 자연수로 변환하는 함수를 작성해 보자.\n",
    "음수에 해당하는 정수는 없으므로 그냥 `Z`로 변환하기로 하자."
   ]
  },
  {
   "cell_type": "code",
   "execution_count": 30,
   "metadata": {},
   "outputs": [
    {
     "data": {
      "text/plain": [
       "Z"
      ]
     },
     "metadata": {},
     "output_type": "display_data"
    },
    {
     "data": {
      "text/plain": [
       "Z"
      ]
     },
     "metadata": {},
     "output_type": "display_data"
    },
    {
     "data": {
      "text/plain": [
       "S (S Z)"
      ]
     },
     "metadata": {},
     "output_type": "display_data"
    },
    {
     "data": {
      "text/plain": [
       "S (S (S (S (S Z))))"
      ]
     },
     "metadata": {},
     "output_type": "display_data"
    }
   ],
   "source": [
    "int2nat n = if n <= 0 then Z\n",
    "                      else S (int2nat (n-1))\n",
    "\n",
    "int2nat (-3)\n",
    "int2nat 0\n",
    "int2nat 2\n",
    "int2nat 5"
   ]
  },
  {
   "cell_type": "code",
   "execution_count": 31,
   "metadata": {},
   "outputs": [
    {
     "data": {
      "text/plain": [
       "Z"
      ]
     },
     "metadata": {},
     "output_type": "display_data"
    },
    {
     "data": {
      "text/plain": [
       "Z"
      ]
     },
     "metadata": {},
     "output_type": "display_data"
    },
    {
     "data": {
      "text/plain": [
       "S (S Z)"
      ]
     },
     "metadata": {},
     "output_type": "display_data"
    },
    {
     "data": {
      "text/plain": [
       "S (S (S (S (S Z))))"
      ]
     },
     "metadata": {},
     "output_type": "display_data"
    }
   ],
   "source": [
    "int2nat' n  | n <= 0    = Z\n",
    "            | otherwise = S (int2nat' (n-1))\n",
    "\n",
    "int2nat' (-3)\n",
    "int2nat' 0\n",
    "int2nat' 2\n",
    "int2nat' 5"
   ]
  },
  {
   "cell_type": "markdown",
   "metadata": {},
   "source": [
    "이번에는 일진수 자연수의 덧셈 함수 `plus :: Nat -> Nat -> Nat`을 작성해보자"
   ]
  },
  {
   "cell_type": "code",
   "execution_count": 32,
   "metadata": {},
   "outputs": [],
   "source": [
    "plus :: Nat -> Nat -> Nat\n",
    "plus Z     m = m            -- (1)번 등식\n",
    "plus (S n) m = S (plus n m) -- (2)번 등식"
   ]
  },
  {
   "cell_type": "code",
   "execution_count": 33,
   "metadata": {},
   "outputs": [
    {
     "data": {
      "text/plain": [
       "Z"
      ]
     },
     "metadata": {},
     "output_type": "display_data"
    },
    {
     "data": {
      "text/plain": [
       "S (S Z)"
      ]
     },
     "metadata": {},
     "output_type": "display_data"
    },
    {
     "data": {
      "text/plain": [
       "S (S (S (S Z)))"
      ]
     },
     "metadata": {},
     "output_type": "display_data"
    }
   ],
   "source": [
    "plus Z Z\n",
    "plus Z (S(S Z))\n",
    "plus (S(S Z)) (S(S Z))"
   ]
  },
  {
   "cell_type": "markdown",
   "metadata": {},
   "source": [
    "```haskell\n",
    "  plus (S(S Z)) (S(S Z))   -- (2)번 등식 적용 n=S Z, m=S(S Z)\n",
    "= S( plus (S Z) (S(S Z)) ) -- (2)번 등식 적용 n=Z, m=S(S Z)\n",
    "= S(S( plus Z (S(S Z)) ))  -- (1)번 등식 적용 m=S(S Z)\n",
    "= S(S( S(S Z) )\n",
    "```"
   ]
  },
  {
   "cell_type": "markdown",
   "metadata": {},
   "source": [
    "----\n",
    "연습문제 02-01\n",
    "\n",
    "`Nat` 타입의 두 일진수 자연수의 곱셈 `times :: Nat -> Nat -> Nat`의 정의를 완성하라.\n",
    "    위에 정의된 `plus` 함수를 활용해도 좋다.\n",
    "\n",
    "연습문제 02-02\n",
    "\n",
    "`Nat` 타입의 두 일진수 자연수의 뺄셈 `minus :: Nat -> Nat -> Nat`의 정의를 완성하라.\n",
    "    자연수에 음수는 없으므로 정수 뺄셈이라면 음수가 나와야 하는 경우는 0에 해당하는 `Z`로 처리하라.\n",
    "\n",
    "위의 두 연습문제 풀이 과정에서 `Int` 타입 등으로 변환하지 말고 `Nat`을 직접 처리해서 `times`와 `minus`를 정의하라."
   ]
  },
  {
   "cell_type": "code",
   "execution_count": 34,
   "metadata": {},
   "outputs": [],
   "source": [
    "times :: Nat -> Nat -> Nat\n",
    "times Z     m = undefined\n",
    "times (S n) m = undefined\n",
    "\n",
    "minus :: Nat -> Nat -> Nat\n",
    "minus Z     m     = undefined\n",
    "minus (S n) (S m) = undefined"
   ]
  },
  {
   "cell_type": "code",
   "execution_count": 35,
   "metadata": {},
   "outputs": [
    {
     "ename": "",
     "evalue": "",
     "header": "MessageHeader {mhIdentifiers = [\"26c63d0e-1761-4ed0-a17e-dbe32eee5547\"], mhParentHeader = Just (MessageHeader {mhIdentifiers = [\"26c63d0e-1761-4ed0-a17e-dbe32eee5547\"], mhParentHeader = Nothing, mhMetadata = Metadata (fromList [(\"recordTiming\",Bool False),(\"deletedCells\",Array []),(\"cellId\",String \"70635b87-8caa-4251-a64d-0fde83f07e80\")]), mhMessageId = UUID {uuidToString = \"e41a357d-b8db-4ffb-8728-922d4b91babf\"}, mhSessionId = UUID {uuidToString = \"26c63d0e-1761-4ed0-a17e-dbe32eee5547\"}, mhUsername = \"\", mhMsgType = ExecuteRequestMessage, mhBuffers = []}), mhMetadata = Metadata (fromList []), mhMessageId = UUID {uuidToString = \"867609cc-ac2d-4f58-9b92-30eeee041849\"}, mhSessionId = UUID {uuidToString = \"26c63d0e-1761-4ed0-a17e-dbe32eee5547\"}, mhUsername = \"\", mhMsgType = ExecuteErrorMessage, mhBuffers = []}",
     "output_type": "error",
     "traceback": [
      "Prelude.undefined\nCallStack (from HasCallStack):\n  error, called at libraries/base/GHC/Err.hs:78:14 in base:GHC.Err\n  undefined, called at <interactive>:3:17 in interactive:Ghci1458"
     ]
    }
   ],
   "source": [
    "times (S(S(S Z))) Z\n",
    "times Z (S(S(S Z)))\n",
    "times (S(S Z)) (S(S(S Z)))\n",
    "\n",
    "minus Z (S(S(S Z)))\n",
    "minus (S(S Z)) (S(S Z))\n",
    "minus (S(S Z)) (S(S(S(S Z)))) \n",
    "minus (S(S(S(S Z)))) (S(S Z)) "
   ]
  },
  {
   "cell_type": "markdown",
   "metadata": {},
   "source": [
    "----"
   ]
  },
  {
   "cell_type": "markdown",
   "metadata": {},
   "source": [
    "다음으로는 하스켈에서 제공하는 리스트 타입인 `[a]`를 대신해서\n",
    "그와 같은 구조의 리스트 타입인 `List a` 우리 나름대로 재귀적 데이타 타입으로 정의해 보자.\n",
    "이렇게 해보면 리스트 타입에 대해 더 확실히 이해할 수 있다.\n",
    "\n",
    "리스트 타입 `List a`의 구조는 자연수와 유사하다.\n",
    "빈 리스트를 나타내는 데이타 상수가 `Nil`이다.\n",
    "그리고 기존의 `List a`타입의 리스트에 `a` 타입의 원소를\n",
    "맨 앞에 하나 추가해 새로운 리스트를 만드는 데이타 생성자가 `Cons`이다.\n",
    "실제 리스트 타입도 타입과 상수의 이름만 다를 뿐 이와 같은 구조를 갖고 있다."
   ]
  },
  {
   "cell_type": "code",
   "execution_count": 36,
   "metadata": {},
   "outputs": [],
   "source": [
    "-- data Nat = Z   | S      Nat\n",
    "data List a = Nil | Cons a (List a)    deriving Show\n",
    "-- data [] a = [] | (:)  a ([]  a)"
   ]
  },
  {
   "cell_type": "markdown",
   "metadata": {},
   "source": [
    "리스트의 길이를 구하는 재귀함수를 다음과 같이 작성할 수 있다."
   ]
  },
  {
   "cell_type": "code",
   "execution_count": 37,
   "metadata": {},
   "outputs": [],
   "source": [
    "len Nil         = 0\n",
    "len (Cons _ xs) = 1 + len xs"
   ]
  },
  {
   "cell_type": "code",
   "execution_count": 38,
   "metadata": {},
   "outputs": [
    {
     "data": {
      "text/plain": [
       "0"
      ]
     },
     "metadata": {},
     "output_type": "display_data"
    },
    {
     "data": {
      "text/plain": [
       "3"
      ]
     },
     "metadata": {},
     "output_type": "display_data"
    }
   ],
   "source": [
    "len Nil\n",
    "len (Cons 3 (Cons 4 (Cons 5 Nil)))"
   ]
  },
  {
   "cell_type": "markdown",
   "metadata": {},
   "source": [
    "----\n",
    "연습문제 02-03\n",
    "\n",
    "정수 리스트의 합을 구하는 sumList 함수를 작성해 보라 (매우쉬움 지난시간에 하스켈 리스트에 대한 걸 옮기면)\n",
    "\n",
    "연습문제 02-04\n",
    "\n",
    "두 리스트를 이어붙이는 함수 append를 작성하라 (하스켈 리스트에서 ++ 연산자에 해당. 힌트 일진수 자연수의 덧셈과 같은 구조)"
   ]
  },
  {
   "cell_type": "code",
   "execution_count": 40,
   "metadata": {},
   "outputs": [],
   "source": [
    "-- sumList   (Cons 3 (Cons 4 (Cons 5 Nil)))   ==   12\n",
    "sumList Nil         = undefined\n",
    "sumList (Cons x xs) = undefined\n",
    "\n",
    "{- append   (Cons 1 (Cons 2 Nil))   (Cons 3 (Cons 4 (Cons 5 Nil)))\n",
    "     ==   (Cons 1 (Cons 2 (Cons 3 (Cons 4 (Cons 5 Nil))))) -}\n",
    "append Nil         ys = undefined\n",
    "append (Cons x xs) ys = undefined"
   ]
  },
  {
   "cell_type": "code",
   "execution_count": null,
   "metadata": {},
   "outputs": [],
   "source": []
  }
 ],
 "metadata": {
  "kernelspec": {
   "display_name": "Haskell",
   "language": "haskell",
   "name": "haskell"
  },
  "language_info": {
   "codemirror_mode": "ihaskell",
   "file_extension": ".hs",
   "name": "haskell",
   "pygments_lexer": "Haskell",
   "version": "8.6.5"
  }
 },
 "nbformat": 4,
 "nbformat_minor": 4
}
